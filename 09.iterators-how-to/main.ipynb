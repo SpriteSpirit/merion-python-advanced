{
 "cells": [
  {
   "cell_type": "markdown",
   "id": "aa59d6c8-60de-41a8-afa8-5b911c48a049",
   "metadata": {},
   "source": [
    "## Создание итератора\n",
    "- итератор через класс\n",
    "- методы `__next__` и `__iter__`"
   ]
  },
  {
   "cell_type": "code",
   "execution_count": 1,
   "id": "c401a549-ac8e-4ec4-a06d-d56bf7acbd42",
   "metadata": {},
   "outputs": [
    {
     "name": "stdout",
     "output_type": "stream",
     "text": [
      "1\n",
      "2\n",
      "3\n",
      "4\n",
      "5\n"
     ]
    }
   ],
   "source": [
    "for i in range(1, 6):\n",
    "    print(i)"
   ]
  },
  {
   "cell_type": "code",
   "execution_count": 2,
   "id": "9de2eca4-d0da-4f95-9158-2cc4758fe872",
   "metadata": {},
   "outputs": [
    {
     "name": "stdout",
     "output_type": "stream",
     "text": [
      "1\n",
      "2\n",
      "3\n",
      "4\n",
      "5\n",
      "one more time\n",
      "1\n",
      "2\n",
      "3\n",
      "4\n",
      "5\n"
     ]
    }
   ],
   "source": [
    "r = range(1, 6)\n",
    "\n",
    "for i in r:\n",
    "    print(i)\n",
    "\n",
    "print(\"one more time\")\n",
    "\n",
    "for i in r:\n",
    "    print(i)"
   ]
  },
  {
   "cell_type": "code",
   "execution_count": 3,
   "id": "bf1a064c-06d5-4cd6-90d3-380914f5b969",
   "metadata": {},
   "outputs": [
    {
     "name": "stdout",
     "output_type": "stream",
     "text": [
      "h\n",
      "e\n",
      "l\n",
      "l\n",
      "o\n"
     ]
    }
   ],
   "source": [
    "for s in \"hello\":\n",
    "    print(s)"
   ]
  },
  {
   "cell_type": "code",
   "execution_count": 4,
   "id": "9382cac9-7084-47f5-a7d9-00386d5f8e6c",
   "metadata": {},
   "outputs": [
    {
     "name": "stdout",
     "output_type": "stream",
     "text": [
      "h\n",
      "e\n",
      "l\n",
      "l\n",
      "o\n",
      "\n",
      "h\n",
      "e\n",
      "l\n",
      "l\n",
      "o\n"
     ]
    }
   ],
   "source": [
    "line = \"hello\"\n",
    "\n",
    "for s in line:\n",
    "    print(s)\n",
    "\n",
    "print()\n",
    "\n",
    "for s in line:\n",
    "    print(s)"
   ]
  },
  {
   "cell_type": "code",
   "execution_count": 5,
   "id": "17cd0254-b42d-4025-a910-b770ccde9468",
   "metadata": {},
   "outputs": [],
   "source": [
    "class Range:\n",
    "    def __init__(self, start, stop=None, step=1):\n",
    "        if stop is None:\n",
    "            stop = start\n",
    "            start = 0\n",
    "\n",
    "        self.start = start\n",
    "        self.stop = stop\n",
    "        self.step = step\n",
    "\n",
    "        self._current = self.start\n",
    "\n",
    "    def __iter__(self):\n",
    "        return self\n",
    "\n",
    "    def __next__(self):\n",
    "        if self._current < self.stop:\n",
    "            current = self._current\n",
    "            self._current += self.step\n",
    "            return current\n",
    "\n",
    "        raise StopIteration"
   ]
  },
  {
   "cell_type": "code",
   "execution_count": 6,
   "id": "9e59c3a9-998d-4612-a2b1-391b64359acd",
   "metadata": {},
   "outputs": [
    {
     "name": "stdout",
     "output_type": "stream",
     "text": [
      "0\n",
      "1\n",
      "2\n",
      "3\n",
      "4\n"
     ]
    }
   ],
   "source": [
    "for i in Range(5):\n",
    "    print(i)"
   ]
  },
  {
   "cell_type": "code",
   "execution_count": 7,
   "id": "d71a427b-a562-4427-9b27-eda003710bf5",
   "metadata": {},
   "outputs": [
    {
     "name": "stdout",
     "output_type": "stream",
     "text": [
      "1\n",
      "2\n",
      "3\n",
      "4\n",
      "5\n"
     ]
    }
   ],
   "source": [
    "for i in Range(1, 6):\n",
    "    print(i)"
   ]
  },
  {
   "cell_type": "code",
   "execution_count": 8,
   "id": "f5d6b299-b688-4e28-87a7-4c166d8ec44f",
   "metadata": {},
   "outputs": [
    {
     "name": "stdout",
     "output_type": "stream",
     "text": [
      "1\n",
      "2\n",
      "3\n",
      "4\n",
      "5\n",
      "one more time\n"
     ]
    }
   ],
   "source": [
    "r = Range(1, 6)\n",
    "\n",
    "for i in r:\n",
    "    print(i)\n",
    "\n",
    "print(\"one more time\")\n",
    "\n",
    "for i in r:\n",
    "    print(i)"
   ]
  },
  {
   "cell_type": "code",
   "execution_count": 9,
   "id": "692585c7-c92b-4a3f-ba94-45db3b135aa5",
   "metadata": {},
   "outputs": [
    {
     "data": {
      "text/plain": [
       "6"
      ]
     },
     "execution_count": 9,
     "metadata": {},
     "output_type": "execute_result"
    }
   ],
   "source": [
    "r._current"
   ]
  },
  {
   "cell_type": "code",
   "execution_count": 10,
   "id": "a36a3567-56bf-4206-80b0-247df4ae062e",
   "metadata": {},
   "outputs": [],
   "source": [
    "class Range:\n",
    "    def __init__(self, start, stop=None, step=1):\n",
    "        if stop is None:\n",
    "            stop = start\n",
    "            start = 0\n",
    "\n",
    "        self.start = start\n",
    "        self.stop = stop\n",
    "        self.step = step\n",
    "\n",
    "        self._current = self.start\n",
    "\n",
    "    def __iter__(self):\n",
    "        self._current = self.start\n",
    "        return self\n",
    "\n",
    "    def __next__(self):\n",
    "        if self._current < self.stop:\n",
    "            current = self._current\n",
    "            self._current += self.step\n",
    "            return current\n",
    "\n",
    "        raise StopIteration"
   ]
  },
  {
   "cell_type": "code",
   "execution_count": 11,
   "id": "6fbb946d-36ba-4e72-8299-4916700ac937",
   "metadata": {},
   "outputs": [
    {
     "name": "stdout",
     "output_type": "stream",
     "text": [
      "1\n",
      "2\n",
      "3\n",
      "4\n",
      "5\n",
      "one more time\n",
      "1\n",
      "2\n",
      "3\n",
      "4\n",
      "5\n"
     ]
    }
   ],
   "source": [
    "r = Range(1, 6)\n",
    "\n",
    "for i in r:\n",
    "    print(i)\n",
    "\n",
    "print(\"one more time\")\n",
    "\n",
    "for i in r:\n",
    "    print(i)"
   ]
  },
  {
   "cell_type": "code",
   "execution_count": 12,
   "id": "95a285a9-20bc-4ba0-9008-f29da3219561",
   "metadata": {},
   "outputs": [],
   "source": [
    "from collections.abc import Iterator\n",
    "\n",
    "\n",
    "class RangeIterator(Iterator):\n",
    "    def __init__(self, start, stop=None, step=1):\n",
    "        if stop is None:\n",
    "            stop = start\n",
    "            start = 0\n",
    "\n",
    "        self.start = start\n",
    "        self.stop = stop\n",
    "        self.step = step\n",
    "\n",
    "        self._current = self.start\n",
    "\n",
    "    def __next__(self):\n",
    "        if self._current < self.stop:\n",
    "            current = self._current\n",
    "            self._current += self.step\n",
    "            return current\n",
    "\n",
    "        raise StopIteration"
   ]
  },
  {
   "cell_type": "code",
   "execution_count": 13,
   "id": "c168a9e4-a439-46e4-8d24-9ff4e54368a1",
   "metadata": {},
   "outputs": [
    {
     "name": "stdout",
     "output_type": "stream",
     "text": [
      "1\n",
      "2\n",
      "3\n",
      "4\n",
      "5\n",
      "one more time\n"
     ]
    }
   ],
   "source": [
    "r = RangeIterator(1, 6)\n",
    "\n",
    "for i in r:\n",
    "    print(i)\n",
    "\n",
    "print(\"one more time\")\n",
    "\n",
    "for i in r:\n",
    "    print(i)"
   ]
  },
  {
   "cell_type": "code",
   "execution_count": 14,
   "id": "eef9a334-1609-4be1-bb11-6bca79fbf40e",
   "metadata": {},
   "outputs": [
    {
     "data": {
      "text/plain": [
       "6"
      ]
     },
     "execution_count": 14,
     "metadata": {},
     "output_type": "execute_result"
    }
   ],
   "source": [
    "r._current"
   ]
  },
  {
   "cell_type": "code",
   "execution_count": 15,
   "id": "4f140313-3001-4d57-b197-f71a243bc195",
   "metadata": {},
   "outputs": [
    {
     "name": "stdout",
     "output_type": "stream",
     "text": [
      "1\n",
      "3\n",
      "5\n",
      "7\n",
      "9\n"
     ]
    }
   ],
   "source": [
    "for i in RangeIterator(1, 10, 2):\n",
    "    print(i)"
   ]
  },
  {
   "cell_type": "code",
   "execution_count": 16,
   "id": "1e9d6ed5-70cc-4ee2-8c77-37e4970595ee",
   "metadata": {},
   "outputs": [],
   "source": [
    "class FibIter(Iterator):\n",
    "    def __init__(self):\n",
    "        self.a = 0\n",
    "        self.b = 1\n",
    "\n",
    "    def __next__(self):\n",
    "        fib = self.a\n",
    "        self.a, self.b = self.b, self.a + self.b\n",
    "        return fib"
   ]
  },
  {
   "cell_type": "code",
   "execution_count": 17,
   "id": "89a8071b-2067-49b9-9d87-8a5fa22dbf2e",
   "metadata": {},
   "outputs": [
    {
     "name": "stdout",
     "output_type": "stream",
     "text": [
      "0\n",
      "1\n",
      "1\n",
      "2\n",
      "3\n",
      "5\n",
      "8\n",
      "13\n",
      "21\n",
      "34\n",
      "55\n",
      "89\n",
      "144\n"
     ]
    }
   ],
   "source": [
    "for f in FibIter():\n",
    "    print(f)\n",
    "    if f > 100:\n",
    "        break"
   ]
  },
  {
   "cell_type": "code",
   "execution_count": 18,
   "id": "7cf9464a-6030-46b7-b0d3-e6437e933616",
   "metadata": {},
   "outputs": [
    {
     "name": "stdout",
     "output_type": "stream",
     "text": [
      "0 0\n",
      "1 1\n",
      "2 1\n",
      "3 2\n",
      "4 3\n",
      "5 5\n",
      "6 8\n",
      "7 13\n",
      "8 21\n",
      "9 34\n",
      "10 55\n",
      "11 89\n",
      "12 144\n"
     ]
    }
   ],
   "source": [
    "for fib, pos in zip(FibIter(), Range(13)):\n",
    "    print(pos, fib)"
   ]
  },
  {
   "cell_type": "code",
   "execution_count": 19,
   "id": "8819b0d4-0f66-44c2-89cd-d86111cee3a2",
   "metadata": {},
   "outputs": [],
   "source": [
    "class Count(Iterator):\n",
    "    def __init__(self):\n",
    "        self._count = 0\n",
    "\n",
    "    def __next__(self):\n",
    "        c = self._count\n",
    "        self._count += 1\n",
    "        return c"
   ]
  },
  {
   "cell_type": "code",
   "execution_count": 20,
   "id": "ff378b19-c6b3-409c-8053-ea36500c1d63",
   "metadata": {},
   "outputs": [
    {
     "name": "stdout",
     "output_type": "stream",
     "text": [
      "0 3\n",
      "1 6\n",
      "2 9\n",
      "3 12\n",
      "4 15\n"
     ]
    }
   ],
   "source": [
    "for c, num in zip(Count(), Range(3, 17, 3)):\n",
    "    print(c, num)"
   ]
  },
  {
   "cell_type": "code",
   "execution_count": 21,
   "id": "43a9f1c6-de5b-4a8e-b52f-3a304796d546",
   "metadata": {},
   "outputs": [],
   "source": [
    "class Count(Iterator):\n",
    "    def __init__(self, start=0):\n",
    "        self._count = start\n",
    "\n",
    "    def __next__(self):\n",
    "        c = self._count\n",
    "        self._count += 1\n",
    "        return c"
   ]
  },
  {
   "cell_type": "code",
   "execution_count": 22,
   "id": "38b0d8e7-9f5b-4871-af9b-cbc2174a6088",
   "metadata": {},
   "outputs": [
    {
     "name": "stdout",
     "output_type": "stream",
     "text": [
      "1 3\n",
      "2 6\n",
      "3 9\n",
      "4 12\n",
      "5 15\n"
     ]
    }
   ],
   "source": [
    "for c, num in zip(Count(start=1), Range(3, 17, 3)):\n",
    "    print(c, num)"
   ]
  },
  {
   "cell_type": "code",
   "execution_count": 23,
   "id": "5d6edb08-4b80-4dd5-98a2-e56aa070e440",
   "metadata": {},
   "outputs": [],
   "source": [
    "class Cycle(Iterator):\n",
    "    def __init__(self, sequence):\n",
    "        self._sequence = sequence\n",
    "        self._step = 0\n",
    "\n",
    "    def __next__(self):\n",
    "        if self._step >= len(self._sequence):\n",
    "            self._step = 0\n",
    "        elem = self._sequence[self._step]\n",
    "        self._step += 1\n",
    "        return elem"
   ]
  },
  {
   "cell_type": "code",
   "execution_count": 24,
   "id": "d49342dd-3920-4d62-904f-24205b36a571",
   "metadata": {},
   "outputs": [
    {
     "name": "stdout",
     "output_type": "stream",
     "text": [
      "0 7\n",
      "1 9\n",
      "2 11\n",
      "3 7\n",
      "4 9\n",
      "5 11\n",
      "6 7\n"
     ]
    }
   ],
   "source": [
    "for i, elem in zip(Range(7), Cycle([7, 9, 11])):\n",
    "    print(i, elem)"
   ]
  },
  {
   "cell_type": "code",
   "execution_count": 25,
   "id": "20a1b25c-9c91-490f-95a7-e7f210ec789b",
   "metadata": {},
   "outputs": [],
   "source": [
    "from itertools import count, cycle"
   ]
  },
  {
   "cell_type": "code",
   "execution_count": 26,
   "id": "6ea41868-f213-416f-bf13-e6e60d8ab90b",
   "metadata": {},
   "outputs": [
    {
     "name": "stdout",
     "output_type": "stream",
     "text": [
      "1 3\n",
      "2 6\n",
      "3 9\n",
      "4 12\n",
      "5 15\n"
     ]
    }
   ],
   "source": [
    "for c, num in zip(count(start=1), range(3, 17, 3)):\n",
    "    print(c, num)"
   ]
  },
  {
   "cell_type": "code",
   "execution_count": 27,
   "id": "8ecab7a8-5c40-4532-b162-8f45798b4860",
   "metadata": {},
   "outputs": [
    {
     "name": "stdout",
     "output_type": "stream",
     "text": [
      "0 7\n",
      "1 9\n",
      "2 11\n",
      "3 7\n",
      "4 9\n",
      "5 11\n",
      "6 7\n"
     ]
    }
   ],
   "source": [
    "for i, elem in zip(range(7), cycle([7, 9, 11])):\n",
    "    print(i, elem)"
   ]
  },
  {
   "cell_type": "code",
   "execution_count": null,
   "id": "c7a00a38-4f45-492e-a58d-dd2f126c00c4",
   "metadata": {},
   "outputs": [],
   "source": []
  }
 ],
 "metadata": {
  "kernelspec": {
   "display_name": "Python 3 (ipykernel)",
   "language": "python",
   "name": "python3"
  },
  "language_info": {
   "codemirror_mode": {
    "name": "ipython",
    "version": 3
   },
   "file_extension": ".py",
   "mimetype": "text/x-python",
   "name": "python",
   "nbconvert_exporter": "python",
   "pygments_lexer": "ipython3",
   "version": "3.11.4"
  }
 },
 "nbformat": 4,
 "nbformat_minor": 5
}
