{
 "cells": [
  {
   "cell_type": "markdown",
   "id": "fbfc17c4-6304-4d88-8514-d7fb0f3bd83e",
   "metadata": {},
   "source": [
    "## Асинхронные очереди"
   ]
  },
  {
   "cell_type": "code",
   "execution_count": 1,
   "id": "b5b11723-c10d-4590-ba62-5cb3ad295518",
   "metadata": {},
   "outputs": [],
   "source": [
    "import logging\n",
    "\n",
    "logging.basicConfig(\n",
    "    level=logging.INFO,\n",
    "    datefmt=\"%M:%S\",\n",
    "    format=\"[%(asctime)s.%(msecs)03d] %(lineno)3d %(funcName)15s %(levelname)-8s - %(message)s\",\n",
    ")\n",
    "log = logging.getLogger(__name__)"
   ]
  },
  {
   "cell_type": "code",
   "execution_count": 2,
   "id": "9991b627-acdd-41a9-a802-67497e8f39b3",
   "metadata": {},
   "outputs": [
    {
     "name": "stderr",
     "output_type": "stream",
     "text": [
      "[07:35.639]   1        <module> INFO     - Hello there!\n"
     ]
    }
   ],
   "source": [
    "log.info(\"Hello there!\")"
   ]
  },
  {
   "cell_type": "code",
   "execution_count": 3,
   "id": "00a97d43-2f00-4291-957a-73f76402a178",
   "metadata": {},
   "outputs": [],
   "source": [
    "import asyncio\n",
    "\n",
    "\n",
    "async def producer(n_tasks: int):\n",
    "    log.info(\"start producing\")\n",
    "    tasks = []\n",
    "    for i in range(1, n_tasks + 1):\n",
    "        await asyncio.sleep(0.1)\n",
    "        task = {\"id\": i, \"name\": f\"task_{i:03}\"}\n",
    "        log.info(\"Prepared task %s\", task)\n",
    "        tasks.append(task)\n",
    "\n",
    "    log.info(\"done producing\")\n",
    "    return tasks\n",
    "\n",
    "\n",
    "async def process_task(task: dict):\n",
    "    log.info(\"process task %s\", task)\n",
    "    await asyncio.sleep(0.1)\n",
    "    log.info(\"done task %s\", task)\n",
    "\n",
    "\n",
    "async def consumer(tasks: list[dict]):\n",
    "    log.info(\"start consuming\")\n",
    "    for task in tasks:\n",
    "        await process_task(task)\n",
    "    \n",
    "    log.info(\"done consuming\")"
   ]
  },
  {
   "cell_type": "code",
   "execution_count": 4,
   "id": "447531a2-6d44-4250-b792-fbb4985d5379",
   "metadata": {},
   "outputs": [
    {
     "name": "stderr",
     "output_type": "stream",
     "text": [
      "[13:58.722]   5        producer INFO     - start producing\n",
      "[13:58.831]  10        producer INFO     - Prepared task {'id': 1, 'name': 'task_001'}\n",
      "[13:58.933]  10        producer INFO     - Prepared task {'id': 2, 'name': 'task_002'}\n",
      "[13:59.036]  10        producer INFO     - Prepared task {'id': 3, 'name': 'task_003'}\n",
      "[13:59.138]  10        producer INFO     - Prepared task {'id': 4, 'name': 'task_004'}\n",
      "[13:59.249]  10        producer INFO     - Prepared task {'id': 5, 'name': 'task_005'}\n",
      "[13:59.351]  10        producer INFO     - Prepared task {'id': 6, 'name': 'task_006'}\n",
      "[13:59.453]  10        producer INFO     - Prepared task {'id': 7, 'name': 'task_007'}\n",
      "[13:59.556]  10        producer INFO     - Prepared task {'id': 8, 'name': 'task_008'}\n",
      "[13:59.660]  10        producer INFO     - Prepared task {'id': 9, 'name': 'task_009'}\n",
      "[13:59.762]  10        producer INFO     - Prepared task {'id': 10, 'name': 'task_010'}\n",
      "[13:59.763]  13        producer INFO     - done producing\n",
      "[13:59.763]  24        consumer INFO     - start consuming\n",
      "[13:59.765]  18    process_task INFO     - process task {'id': 1, 'name': 'task_001'}\n",
      "[13:59.868]  20    process_task INFO     - done task {'id': 1, 'name': 'task_001'}\n",
      "[13:59.869]  18    process_task INFO     - process task {'id': 2, 'name': 'task_002'}\n",
      "[13:59.971]  20    process_task INFO     - done task {'id': 2, 'name': 'task_002'}\n",
      "[13:59.971]  18    process_task INFO     - process task {'id': 3, 'name': 'task_003'}\n",
      "[14:00.073]  20    process_task INFO     - done task {'id': 3, 'name': 'task_003'}\n",
      "[14:00.075]  18    process_task INFO     - process task {'id': 4, 'name': 'task_004'}\n",
      "[14:00.179]  20    process_task INFO     - done task {'id': 4, 'name': 'task_004'}\n",
      "[14:00.180]  18    process_task INFO     - process task {'id': 5, 'name': 'task_005'}\n",
      "[14:00.281]  20    process_task INFO     - done task {'id': 5, 'name': 'task_005'}\n",
      "[14:00.282]  18    process_task INFO     - process task {'id': 6, 'name': 'task_006'}\n",
      "[14:00.383]  20    process_task INFO     - done task {'id': 6, 'name': 'task_006'}\n",
      "[14:00.383]  18    process_task INFO     - process task {'id': 7, 'name': 'task_007'}\n",
      "[14:00.486]  20    process_task INFO     - done task {'id': 7, 'name': 'task_007'}\n",
      "[14:00.487]  18    process_task INFO     - process task {'id': 8, 'name': 'task_008'}\n",
      "[14:00.590]  20    process_task INFO     - done task {'id': 8, 'name': 'task_008'}\n",
      "[14:00.597]  18    process_task INFO     - process task {'id': 9, 'name': 'task_009'}\n",
      "[14:00.699]  20    process_task INFO     - done task {'id': 9, 'name': 'task_009'}\n",
      "[14:00.699]  18    process_task INFO     - process task {'id': 10, 'name': 'task_010'}\n",
      "[14:00.801]  20    process_task INFO     - done task {'id': 10, 'name': 'task_010'}\n",
      "[14:00.802]  28        consumer INFO     - done consuming\n"
     ]
    }
   ],
   "source": [
    "async def main():\n",
    "    tasks = await producer(10)\n",
    "    await consumer(tasks)\n",
    "\n",
    "\n",
    "await main()"
   ]
  },
  {
   "cell_type": "code",
   "execution_count": 5,
   "id": "a0b207c5-9e6e-4d5a-b5c3-8fd935aec922",
   "metadata": {},
   "outputs": [],
   "source": [
    "\n",
    "async def producer(queue: asyncio.Queue, n_tasks: int):\n",
    "    log.info(\"start producing\")\n",
    "    for i in range(1, n_tasks + 1):\n",
    "        await asyncio.sleep(0.1)\n",
    "        task = {\"id\": i, \"name\": f\"task_{i:03}\"}\n",
    "        log.info(\"Prepared task %s\", task)\n",
    "        await queue.put(task)\n",
    "\n",
    "    log.info(\"done producing\")\n",
    "\n",
    "\n",
    "async def consumer(queue: asyncio.Queue):\n",
    "    log.info(\"start consuming\")\n",
    "    while not queue.empty():\n",
    "        task = await queue.get()\n",
    "        await process_task(task)\n",
    "    \n",
    "    log.info(\"done consuming\")"
   ]
  },
  {
   "cell_type": "code",
   "execution_count": 6,
   "id": "47b779c5-a26e-4f2c-aa07-8e8e44e69c80",
   "metadata": {},
   "outputs": [
    {
     "name": "stderr",
     "output_type": "stream",
     "text": [
      "[19:12.440]   2        producer INFO     - start producing\n",
      "[19:12.553]   6        producer INFO     - Prepared task {'id': 1, 'name': 'task_001'}\n",
      "[19:12.656]   6        producer INFO     - Prepared task {'id': 2, 'name': 'task_002'}\n",
      "[19:12.758]   6        producer INFO     - Prepared task {'id': 3, 'name': 'task_003'}\n",
      "[19:12.863]   6        producer INFO     - Prepared task {'id': 4, 'name': 'task_004'}\n",
      "[19:12.967]   6        producer INFO     - Prepared task {'id': 5, 'name': 'task_005'}\n",
      "[19:13.071]   6        producer INFO     - Prepared task {'id': 6, 'name': 'task_006'}\n",
      "[19:13.175]   6        producer INFO     - Prepared task {'id': 7, 'name': 'task_007'}\n",
      "[19:13.282]   6        producer INFO     - Prepared task {'id': 8, 'name': 'task_008'}\n",
      "[19:13.384]   6        producer INFO     - Prepared task {'id': 9, 'name': 'task_009'}\n",
      "[19:13.489]   6        producer INFO     - Prepared task {'id': 10, 'name': 'task_010'}\n",
      "[19:13.491]   9        producer INFO     - done producing\n",
      "[19:13.491]  13        consumer INFO     - start consuming\n",
      "[19:13.498]  18    process_task INFO     - process task {'id': 1, 'name': 'task_001'}\n",
      "[19:13.602]  20    process_task INFO     - done task {'id': 1, 'name': 'task_001'}\n",
      "[19:13.604]  18    process_task INFO     - process task {'id': 2, 'name': 'task_002'}\n",
      "[19:13.707]  20    process_task INFO     - done task {'id': 2, 'name': 'task_002'}\n",
      "[19:13.709]  18    process_task INFO     - process task {'id': 3, 'name': 'task_003'}\n",
      "[19:13.820]  20    process_task INFO     - done task {'id': 3, 'name': 'task_003'}\n",
      "[19:13.822]  18    process_task INFO     - process task {'id': 4, 'name': 'task_004'}\n",
      "[19:13.924]  20    process_task INFO     - done task {'id': 4, 'name': 'task_004'}\n",
      "[19:13.925]  18    process_task INFO     - process task {'id': 5, 'name': 'task_005'}\n",
      "[19:14.027]  20    process_task INFO     - done task {'id': 5, 'name': 'task_005'}\n",
      "[19:14.028]  18    process_task INFO     - process task {'id': 6, 'name': 'task_006'}\n",
      "[19:14.136]  20    process_task INFO     - done task {'id': 6, 'name': 'task_006'}\n",
      "[19:14.138]  18    process_task INFO     - process task {'id': 7, 'name': 'task_007'}\n",
      "[19:14.240]  20    process_task INFO     - done task {'id': 7, 'name': 'task_007'}\n",
      "[19:14.241]  18    process_task INFO     - process task {'id': 8, 'name': 'task_008'}\n",
      "[19:14.350]  20    process_task INFO     - done task {'id': 8, 'name': 'task_008'}\n",
      "[19:14.351]  18    process_task INFO     - process task {'id': 9, 'name': 'task_009'}\n",
      "[19:14.452]  20    process_task INFO     - done task {'id': 9, 'name': 'task_009'}\n",
      "[19:14.453]  18    process_task INFO     - process task {'id': 10, 'name': 'task_010'}\n",
      "[19:14.555]  20    process_task INFO     - done task {'id': 10, 'name': 'task_010'}\n",
      "[19:14.557]  18        consumer INFO     - done consuming\n"
     ]
    }
   ],
   "source": [
    "async def main():\n",
    "    queue = asyncio.Queue()\n",
    "    await producer(queue, n_tasks=10)\n",
    "    await consumer(queue)\n",
    "\n",
    "await main()"
   ]
  },
  {
   "cell_type": "code",
   "execution_count": 7,
   "id": "cfd08822-1d2d-4594-acea-fc99cbcf82bc",
   "metadata": {},
   "outputs": [
    {
     "name": "stderr",
     "output_type": "stream",
     "text": [
      "[20:50.922]   2        producer INFO     - start producing\n",
      "[20:50.924]  13        consumer INFO     - start consuming\n",
      "[20:50.924]  18        consumer INFO     - done consuming\n",
      "[20:51.025]   6        producer INFO     - Prepared task {'id': 1, 'name': 'task_001'}\n",
      "[20:51.131]   6        producer INFO     - Prepared task {'id': 2, 'name': 'task_002'}\n",
      "[20:51.234]   6        producer INFO     - Prepared task {'id': 3, 'name': 'task_003'}\n",
      "[20:51.336]   6        producer INFO     - Prepared task {'id': 4, 'name': 'task_004'}\n",
      "[20:51.449]   6        producer INFO     - Prepared task {'id': 5, 'name': 'task_005'}\n",
      "[20:51.551]   6        producer INFO     - Prepared task {'id': 6, 'name': 'task_006'}\n",
      "[20:51.653]   6        producer INFO     - Prepared task {'id': 7, 'name': 'task_007'}\n",
      "[20:51.755]   6        producer INFO     - Prepared task {'id': 8, 'name': 'task_008'}\n",
      "[20:51.858]   6        producer INFO     - Prepared task {'id': 9, 'name': 'task_009'}\n",
      "[20:51.960]   6        producer INFO     - Prepared task {'id': 10, 'name': 'task_010'}\n",
      "[20:51.963]   9        producer INFO     - done producing\n"
     ]
    }
   ],
   "source": [
    "async def main():\n",
    "    queue = asyncio.Queue()\n",
    "    async with asyncio.TaskGroup() as tg:\n",
    "        tg.create_task(producer(queue, n_tasks=10))\n",
    "        tg.create_task(consumer(queue))\n",
    "\n",
    "await main()"
   ]
  },
  {
   "cell_type": "code",
   "execution_count": 8,
   "id": "acbcbffd-e8bc-40f2-80f3-e2d021e8ca09",
   "metadata": {},
   "outputs": [],
   "source": [
    "async def consumer(queue: asyncio.Queue):\n",
    "    log.info(\"init consumer\")\n",
    "    await asyncio.sleep(0.1)\n",
    "    log.info(\"start consuming\")\n",
    "    while not queue.empty():\n",
    "        task = await queue.get()\n",
    "        await process_task(task)\n",
    "    \n",
    "    log.info(\"done consuming\")"
   ]
  },
  {
   "cell_type": "code",
   "execution_count": 9,
   "id": "aa3ae1a0-f795-44a3-8329-3b7255a5a64c",
   "metadata": {},
   "outputs": [
    {
     "name": "stderr",
     "output_type": "stream",
     "text": [
      "[22:35.010]   2        producer INFO     - start producing\n",
      "[22:35.019]   2        consumer INFO     - init consumer\n",
      "[22:35.120]   6        producer INFO     - Prepared task {'id': 1, 'name': 'task_001'}\n",
      "[22:35.121]   4        consumer INFO     - start consuming\n",
      "[22:35.121]  18    process_task INFO     - process task {'id': 1, 'name': 'task_001'}\n",
      "[22:35.222]   6        producer INFO     - Prepared task {'id': 2, 'name': 'task_002'}\n",
      "[22:35.223]  20    process_task INFO     - done task {'id': 1, 'name': 'task_001'}\n",
      "[22:35.224]  18    process_task INFO     - process task {'id': 2, 'name': 'task_002'}\n",
      "[22:35.323]   6        producer INFO     - Prepared task {'id': 3, 'name': 'task_003'}\n",
      "[22:35.327]  20    process_task INFO     - done task {'id': 2, 'name': 'task_002'}\n",
      "[22:35.328]  18    process_task INFO     - process task {'id': 3, 'name': 'task_003'}\n",
      "[22:35.428]   6        producer INFO     - Prepared task {'id': 4, 'name': 'task_004'}\n",
      "[22:35.433]  20    process_task INFO     - done task {'id': 3, 'name': 'task_003'}\n",
      "[22:35.439]  18    process_task INFO     - process task {'id': 4, 'name': 'task_004'}\n",
      "[22:35.533]   6        producer INFO     - Prepared task {'id': 5, 'name': 'task_005'}\n",
      "[22:35.541]  20    process_task INFO     - done task {'id': 4, 'name': 'task_004'}\n",
      "[22:35.544]  18    process_task INFO     - process task {'id': 5, 'name': 'task_005'}\n",
      "[22:35.636]   6        producer INFO     - Prepared task {'id': 6, 'name': 'task_006'}\n",
      "[22:35.646]  20    process_task INFO     - done task {'id': 5, 'name': 'task_005'}\n",
      "[22:35.647]  18    process_task INFO     - process task {'id': 6, 'name': 'task_006'}\n",
      "[22:35.738]   6        producer INFO     - Prepared task {'id': 7, 'name': 'task_007'}\n",
      "[22:35.750]  20    process_task INFO     - done task {'id': 6, 'name': 'task_006'}\n",
      "[22:35.754]  18    process_task INFO     - process task {'id': 7, 'name': 'task_007'}\n",
      "[22:35.844]   6        producer INFO     - Prepared task {'id': 8, 'name': 'task_008'}\n",
      "[22:35.855]  20    process_task INFO     - done task {'id': 7, 'name': 'task_007'}\n",
      "[22:35.856]  18    process_task INFO     - process task {'id': 8, 'name': 'task_008'}\n",
      "[22:35.946]   6        producer INFO     - Prepared task {'id': 9, 'name': 'task_009'}\n",
      "[22:35.958]  20    process_task INFO     - done task {'id': 8, 'name': 'task_008'}\n",
      "[22:35.961]  18    process_task INFO     - process task {'id': 9, 'name': 'task_009'}\n",
      "[22:36.048]   6        producer INFO     - Prepared task {'id': 10, 'name': 'task_010'}\n",
      "[22:36.052]   9        producer INFO     - done producing\n",
      "[22:36.063]  20    process_task INFO     - done task {'id': 9, 'name': 'task_009'}\n",
      "[22:36.064]  18    process_task INFO     - process task {'id': 10, 'name': 'task_010'}\n",
      "[22:36.170]  20    process_task INFO     - done task {'id': 10, 'name': 'task_010'}\n",
      "[22:36.173]   9        consumer INFO     - done consuming\n"
     ]
    }
   ],
   "source": [
    "async def main():\n",
    "    queue = asyncio.Queue()\n",
    "    async with asyncio.TaskGroup() as tg:\n",
    "        tg.create_task(producer(queue, n_tasks=10))\n",
    "        tg.create_task(consumer(queue))\n",
    "\n",
    "await main()"
   ]
  },
  {
   "cell_type": "code",
   "execution_count": 10,
   "id": "44352df2-99b4-41da-a088-1ef194999a10",
   "metadata": {},
   "outputs": [],
   "source": [
    "\n",
    "async def process_task(task: dict):\n",
    "    log.info(\"process task %s\", task)\n",
    "    await asyncio.sleep(0.09)\n",
    "    log.info(\"done task %s\", task)\n"
   ]
  },
  {
   "cell_type": "code",
   "execution_count": 11,
   "id": "67a34ab4-f9ba-48c6-9bf0-25cfe7c7f087",
   "metadata": {},
   "outputs": [
    {
     "name": "stderr",
     "output_type": "stream",
     "text": [
      "[23:54.267]   2        producer INFO     - start producing\n",
      "[23:54.271]   2        consumer INFO     - init consumer\n",
      "[23:54.372]   6        producer INFO     - Prepared task {'id': 1, 'name': 'task_001'}\n",
      "[23:54.379]   4        consumer INFO     - start consuming\n",
      "[23:54.386]   2    process_task INFO     - process task {'id': 1, 'name': 'task_001'}\n",
      "[23:54.478]   6        producer INFO     - Prepared task {'id': 2, 'name': 'task_002'}\n",
      "[23:54.480]   4    process_task INFO     - done task {'id': 1, 'name': 'task_001'}\n",
      "[23:54.485]   2    process_task INFO     - process task {'id': 2, 'name': 'task_002'}\n",
      "[23:54.581]   6        producer INFO     - Prepared task {'id': 3, 'name': 'task_003'}\n",
      "[23:54.590]   4    process_task INFO     - done task {'id': 2, 'name': 'task_002'}\n",
      "[23:54.592]   2    process_task INFO     - process task {'id': 3, 'name': 'task_003'}\n",
      "[23:54.689]   4    process_task INFO     - done task {'id': 3, 'name': 'task_003'}\n",
      "[23:54.690]   9        consumer INFO     - done consuming\n",
      "[23:54.691]   6        producer INFO     - Prepared task {'id': 4, 'name': 'task_004'}\n",
      "[23:54.793]   6        producer INFO     - Prepared task {'id': 5, 'name': 'task_005'}\n",
      "[23:54.895]   6        producer INFO     - Prepared task {'id': 6, 'name': 'task_006'}\n",
      "[23:54.996]   6        producer INFO     - Prepared task {'id': 7, 'name': 'task_007'}\n",
      "[23:55.101]   6        producer INFO     - Prepared task {'id': 8, 'name': 'task_008'}\n",
      "[23:55.203]   6        producer INFO     - Prepared task {'id': 9, 'name': 'task_009'}\n",
      "[23:55.307]   6        producer INFO     - Prepared task {'id': 10, 'name': 'task_010'}\n",
      "[23:55.308]   9        producer INFO     - done producing\n"
     ]
    }
   ],
   "source": [
    "async def main():\n",
    "    queue = asyncio.Queue()\n",
    "    async with asyncio.TaskGroup() as tg:\n",
    "        tg.create_task(producer(queue, n_tasks=10))\n",
    "        tg.create_task(consumer(queue))\n",
    "\n",
    "await main()"
   ]
  },
  {
   "cell_type": "code",
   "execution_count": 12,
   "id": "048e2843-9de3-4d04-85cb-9fc3f898a9f9",
   "metadata": {},
   "outputs": [],
   "source": [
    "stop = object()\n",
    "\n",
    "async def producer(queue: asyncio.Queue, n_tasks: int):\n",
    "    log.info(\"start producing\")\n",
    "    for i in range(1, n_tasks + 1):\n",
    "        await asyncio.sleep(0.1)\n",
    "        task = {\"id\": i, \"name\": f\"task_{i:03}\"}\n",
    "        log.info(\"Prepared task %s\", task)\n",
    "        await queue.put(task)\n",
    "\n",
    "    await queue.put(stop)  \n",
    "    log.info(\"done producing\")\n",
    "\n",
    "\n",
    "async def process_task(task: dict):\n",
    "    log.info(\"process task %s\", task)\n",
    "    await asyncio.sleep(0.1)\n",
    "    log.info(\"done task %s\", task)\n",
    "\n",
    "\n",
    "async def consumer(queue: asyncio.Queue):\n",
    "    log.info(\"start consuming\")\n",
    "    while (task := await queue.get()) is not stop:\n",
    "        await process_task(task)\n",
    "    \n",
    "    log.info(\"done consuming\")"
   ]
  },
  {
   "cell_type": "code",
   "execution_count": 13,
   "id": "d5f64d56-89ac-4410-9615-1d192785d31d",
   "metadata": {},
   "outputs": [
    {
     "name": "stderr",
     "output_type": "stream",
     "text": [
      "[29:14.888]   4        producer INFO     - start producing\n",
      "[29:14.891]  22        consumer INFO     - start consuming\n",
      "[29:14.992]   8        producer INFO     - Prepared task {'id': 1, 'name': 'task_001'}\n",
      "[29:14.993]  16    process_task INFO     - process task {'id': 1, 'name': 'task_001'}\n",
      "[29:15.094]   8        producer INFO     - Prepared task {'id': 2, 'name': 'task_002'}\n",
      "[29:15.097]  18    process_task INFO     - done task {'id': 1, 'name': 'task_001'}\n",
      "[29:15.098]  16    process_task INFO     - process task {'id': 2, 'name': 'task_002'}\n",
      "[29:15.197]   8        producer INFO     - Prepared task {'id': 3, 'name': 'task_003'}\n",
      "[29:15.213]  18    process_task INFO     - done task {'id': 2, 'name': 'task_002'}\n",
      "[29:15.217]  16    process_task INFO     - process task {'id': 3, 'name': 'task_003'}\n",
      "[29:15.299]   8        producer INFO     - Prepared task {'id': 4, 'name': 'task_004'}\n",
      "[29:15.324]  18    process_task INFO     - done task {'id': 3, 'name': 'task_003'}\n",
      "[29:15.325]  16    process_task INFO     - process task {'id': 4, 'name': 'task_004'}\n",
      "[29:15.406]   8        producer INFO     - Prepared task {'id': 5, 'name': 'task_005'}\n",
      "[29:15.427]  18    process_task INFO     - done task {'id': 4, 'name': 'task_004'}\n",
      "[29:15.430]  16    process_task INFO     - process task {'id': 5, 'name': 'task_005'}\n",
      "[29:15.509]   8        producer INFO     - Prepared task {'id': 6, 'name': 'task_006'}\n",
      "[29:15.536]  18    process_task INFO     - done task {'id': 5, 'name': 'task_005'}\n",
      "[29:15.539]  16    process_task INFO     - process task {'id': 6, 'name': 'task_006'}\n",
      "[29:15.611]   8        producer INFO     - Prepared task {'id': 7, 'name': 'task_007'}\n",
      "[29:15.643]  18    process_task INFO     - done task {'id': 6, 'name': 'task_006'}\n",
      "[29:15.645]  16    process_task INFO     - process task {'id': 7, 'name': 'task_007'}\n",
      "[29:15.715]   8        producer INFO     - Prepared task {'id': 8, 'name': 'task_008'}\n",
      "[29:15.750]  18    process_task INFO     - done task {'id': 7, 'name': 'task_007'}\n",
      "[29:15.752]  16    process_task INFO     - process task {'id': 8, 'name': 'task_008'}\n",
      "[29:15.821]   8        producer INFO     - Prepared task {'id': 9, 'name': 'task_009'}\n",
      "[29:15.856]  18    process_task INFO     - done task {'id': 8, 'name': 'task_008'}\n",
      "[29:15.857]  16    process_task INFO     - process task {'id': 9, 'name': 'task_009'}\n",
      "[29:15.924]   8        producer INFO     - Prepared task {'id': 10, 'name': 'task_010'}\n",
      "[29:15.925]  12        producer INFO     - done producing\n",
      "[29:15.958]  18    process_task INFO     - done task {'id': 9, 'name': 'task_009'}\n",
      "[29:15.959]  16    process_task INFO     - process task {'id': 10, 'name': 'task_010'}\n",
      "[29:16.060]  18    process_task INFO     - done task {'id': 10, 'name': 'task_010'}\n",
      "[29:16.061]  26        consumer INFO     - done consuming\n"
     ]
    }
   ],
   "source": [
    "async def main():\n",
    "    queue = asyncio.Queue()\n",
    "    async with asyncio.TaskGroup() as tg:\n",
    "        tg.create_task(producer(queue, n_tasks=10))\n",
    "        tg.create_task(consumer(queue))\n",
    "\n",
    "await main()"
   ]
  },
  {
   "cell_type": "code",
   "execution_count": 14,
   "id": "c64fb309-6ce6-4f4d-b591-8251ae866ea7",
   "metadata": {},
   "outputs": [],
   "source": [
    "\n",
    "async def process_task(task: dict):\n",
    "    log.info(\"process task %s\", task)\n",
    "    await asyncio.sleep(0.15)\n",
    "    log.info(\"done task %s\", task)\n",
    "\n"
   ]
  },
  {
   "cell_type": "code",
   "execution_count": 15,
   "id": "e1e2e65a-811b-4e70-bf76-cd4dc7066506",
   "metadata": {},
   "outputs": [
    {
     "name": "stderr",
     "output_type": "stream",
     "text": [
      "[31:01.803]   4        producer INFO     - start producing\n",
      "[31:01.804]  22        consumer INFO     - start consuming\n",
      "[31:01.908]   8        producer INFO     - Prepared task {'id': 1, 'name': 'task_001'}\n",
      "[31:01.910]   2    process_task INFO     - process task {'id': 1, 'name': 'task_001'}\n",
      "[31:02.011]   8        producer INFO     - Prepared task {'id': 2, 'name': 'task_002'}\n",
      "[31:02.069]   4    process_task INFO     - done task {'id': 1, 'name': 'task_001'}\n",
      "[31:02.070]   2    process_task INFO     - process task {'id': 2, 'name': 'task_002'}\n",
      "[31:02.116]   8        producer INFO     - Prepared task {'id': 3, 'name': 'task_003'}\n",
      "[31:02.222]   8        producer INFO     - Prepared task {'id': 4, 'name': 'task_004'}\n",
      "[31:02.223]   4    process_task INFO     - done task {'id': 2, 'name': 'task_002'}\n",
      "[31:02.226]   2    process_task INFO     - process task {'id': 3, 'name': 'task_003'}\n",
      "[31:02.324]   8        producer INFO     - Prepared task {'id': 5, 'name': 'task_005'}\n",
      "[31:02.387]   4    process_task INFO     - done task {'id': 3, 'name': 'task_003'}\n",
      "[31:02.388]   2    process_task INFO     - process task {'id': 4, 'name': 'task_004'}\n",
      "[31:02.429]   8        producer INFO     - Prepared task {'id': 6, 'name': 'task_006'}\n",
      "[31:02.539]   8        producer INFO     - Prepared task {'id': 7, 'name': 'task_007'}\n",
      "[31:02.540]   4    process_task INFO     - done task {'id': 4, 'name': 'task_004'}\n",
      "[31:02.540]   2    process_task INFO     - process task {'id': 5, 'name': 'task_005'}\n",
      "[31:02.644]   8        producer INFO     - Prepared task {'id': 8, 'name': 'task_008'}\n",
      "[31:02.692]   4    process_task INFO     - done task {'id': 5, 'name': 'task_005'}\n",
      "[31:02.693]   2    process_task INFO     - process task {'id': 6, 'name': 'task_006'}\n",
      "[31:02.747]   8        producer INFO     - Prepared task {'id': 9, 'name': 'task_009'}\n",
      "[31:02.845]   4    process_task INFO     - done task {'id': 6, 'name': 'task_006'}\n",
      "[31:02.846]   2    process_task INFO     - process task {'id': 7, 'name': 'task_007'}\n",
      "[31:02.851]   8        producer INFO     - Prepared task {'id': 10, 'name': 'task_010'}\n",
      "[31:02.853]  12        producer INFO     - done producing\n",
      "[31:03.002]   4    process_task INFO     - done task {'id': 7, 'name': 'task_007'}\n",
      "[31:03.003]   2    process_task INFO     - process task {'id': 8, 'name': 'task_008'}\n",
      "[31:03.160]   4    process_task INFO     - done task {'id': 8, 'name': 'task_008'}\n",
      "[31:03.160]   2    process_task INFO     - process task {'id': 9, 'name': 'task_009'}\n",
      "[31:03.312]   4    process_task INFO     - done task {'id': 9, 'name': 'task_009'}\n",
      "[31:03.312]   2    process_task INFO     - process task {'id': 10, 'name': 'task_010'}\n",
      "[31:03.464]   4    process_task INFO     - done task {'id': 10, 'name': 'task_010'}\n",
      "[31:03.465]  26        consumer INFO     - done consuming\n"
     ]
    }
   ],
   "source": [
    "async def main():\n",
    "    queue = asyncio.Queue()\n",
    "    async with asyncio.TaskGroup() as tg:\n",
    "        tg.create_task(producer(queue, n_tasks=10))\n",
    "        tg.create_task(consumer(queue))\n",
    "\n",
    "await main()"
   ]
  },
  {
   "cell_type": "code",
   "execution_count": null,
   "id": "1978dd11-2960-4678-a4a6-1e6f44df8a6d",
   "metadata": {},
   "outputs": [],
   "source": []
  }
 ],
 "metadata": {
  "kernelspec": {
   "display_name": "Python 3 (ipykernel)",
   "language": "python",
   "name": "python3"
  },
  "language_info": {
   "codemirror_mode": {
    "name": "ipython",
    "version": 3
   },
   "file_extension": ".py",
   "mimetype": "text/x-python",
   "name": "python",
   "nbconvert_exporter": "python",
   "pygments_lexer": "ipython3",
   "version": "3.11.4"
  }
 },
 "nbformat": 4,
 "nbformat_minor": 5
}
