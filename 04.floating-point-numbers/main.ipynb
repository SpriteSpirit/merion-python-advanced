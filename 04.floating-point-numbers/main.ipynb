{
 "cells": [
  {
   "cell_type": "markdown",
   "id": "c836de3a-ee2e-4134-af9b-4e5c05b6e08c",
   "metadata": {},
   "source": [
    "## Python floating point operations\n",
    "### float vs Decimal"
   ]
  },
  {
   "cell_type": "code",
   "execution_count": 1,
   "id": "53bd4464-2941-4fac-b094-bd749e14fb35",
   "metadata": {},
   "outputs": [
    {
     "data": {
      "text/plain": [
       "5.0"
      ]
     },
     "execution_count": 1,
     "metadata": {},
     "output_type": "execute_result"
    }
   ],
   "source": [
    "10 / 2"
   ]
  },
  {
   "cell_type": "code",
   "execution_count": 2,
   "id": "c879a75b-ce7c-417a-bd5c-e7c704aebbf5",
   "metadata": {},
   "outputs": [
    {
     "data": {
      "text/plain": [
       "2.5"
      ]
     },
     "execution_count": 2,
     "metadata": {},
     "output_type": "execute_result"
    }
   ],
   "source": [
    "10 / 4"
   ]
  },
  {
   "cell_type": "code",
   "execution_count": 3,
   "id": "6627852c-4f00-40d3-ba4f-f5de3b90fa1d",
   "metadata": {},
   "outputs": [
    {
     "data": {
      "text/plain": [
       "5"
      ]
     },
     "execution_count": 3,
     "metadata": {},
     "output_type": "execute_result"
    }
   ],
   "source": [
    "int(10 / 2)"
   ]
  },
  {
   "cell_type": "code",
   "execution_count": 4,
   "id": "c942b0e4-707d-4201-b227-9bc5f50c301e",
   "metadata": {},
   "outputs": [
    {
     "data": {
      "text/plain": [
       "2"
      ]
     },
     "execution_count": 4,
     "metadata": {},
     "output_type": "execute_result"
    }
   ],
   "source": [
    "int(10 / 4)"
   ]
  },
  {
   "cell_type": "code",
   "execution_count": 5,
   "id": "ae63533b-61f3-4751-93d3-bbb17b3f8a6d",
   "metadata": {},
   "outputs": [
    {
     "data": {
      "text/plain": [
       "2"
      ]
     },
     "execution_count": 5,
     "metadata": {},
     "output_type": "execute_result"
    }
   ],
   "source": [
    "round(10 / 4)"
   ]
  },
  {
   "cell_type": "code",
   "execution_count": 6,
   "id": "55787c5b-cac7-4b79-86f4-e8c52ba60e12",
   "metadata": {},
   "outputs": [
    {
     "data": {
      "text/plain": [
       "0.6666666666666666"
      ]
     },
     "execution_count": 6,
     "metadata": {},
     "output_type": "execute_result"
    }
   ],
   "source": [
    "2 / 3"
   ]
  },
  {
   "cell_type": "code",
   "execution_count": 7,
   "id": "fe910ef1-5bea-4ccf-bd3f-6e0b752e7498",
   "metadata": {},
   "outputs": [
    {
     "data": {
      "text/plain": [
       "0.67"
      ]
     },
     "execution_count": 7,
     "metadata": {},
     "output_type": "execute_result"
    }
   ],
   "source": [
    "round(2 / 3, 2)"
   ]
  },
  {
   "cell_type": "code",
   "execution_count": 8,
   "id": "1cd70b60-b4d1-4db6-b42c-f51643454831",
   "metadata": {},
   "outputs": [
    {
     "data": {
      "text/plain": [
       "0.3333333333333333"
      ]
     },
     "execution_count": 8,
     "metadata": {},
     "output_type": "execute_result"
    }
   ],
   "source": [
    "1 / 3"
   ]
  },
  {
   "cell_type": "code",
   "execution_count": 9,
   "id": "5610a832-ba2f-4a0e-8d63-f76f3b447375",
   "metadata": {},
   "outputs": [
    {
     "data": {
      "text/plain": [
       "0.33"
      ]
     },
     "execution_count": 9,
     "metadata": {},
     "output_type": "execute_result"
    }
   ],
   "source": [
    "round(1 / 3, 2)"
   ]
  },
  {
   "cell_type": "code",
   "execution_count": 10,
   "id": "2a7b0337-09a8-4f19-a792-a550a3f6b707",
   "metadata": {},
   "outputs": [],
   "source": [
    "from math import floor, ceil"
   ]
  },
  {
   "cell_type": "code",
   "execution_count": 11,
   "id": "50f41c21-2727-4d90-a781-3283003bcb8a",
   "metadata": {},
   "outputs": [
    {
     "data": {
      "text/plain": [
       "2"
      ]
     },
     "execution_count": 11,
     "metadata": {},
     "output_type": "execute_result"
    }
   ],
   "source": [
    "floor(2.9)"
   ]
  },
  {
   "cell_type": "code",
   "execution_count": 12,
   "id": "32ba74dc-f3bb-48f1-8ab7-7e87fc5e79bf",
   "metadata": {},
   "outputs": [
    {
     "data": {
      "text/plain": [
       "3"
      ]
     },
     "execution_count": 12,
     "metadata": {},
     "output_type": "execute_result"
    }
   ],
   "source": [
    "round(2.9)"
   ]
  },
  {
   "cell_type": "code",
   "execution_count": 13,
   "id": "24f85f65-0890-4423-a868-e674d221bcfe",
   "metadata": {},
   "outputs": [
    {
     "data": {
      "text/plain": [
       "3"
      ]
     },
     "execution_count": 13,
     "metadata": {},
     "output_type": "execute_result"
    }
   ],
   "source": [
    "ceil(2.1)"
   ]
  },
  {
   "cell_type": "code",
   "execution_count": 14,
   "id": "b6b73bcc-80c3-4e65-a099-87be412bb7c4",
   "metadata": {},
   "outputs": [
    {
     "name": "stdout",
     "output_type": "stream",
     "text": [
      "2.7\n"
     ]
    }
   ],
   "source": [
    "e = 2.7\n",
    "print(e)"
   ]
  },
  {
   "cell_type": "code",
   "execution_count": 15,
   "id": "5dac69f4-0047-47c6-94b8-24efd377746b",
   "metadata": {},
   "outputs": [
    {
     "name": "stdout",
     "output_type": "stream",
     "text": [
      "3.1415\n"
     ]
    }
   ],
   "source": [
    "pi = 3.1415\n",
    "print(pi)"
   ]
  },
  {
   "cell_type": "code",
   "execution_count": 16,
   "id": "31e9d637-396a-46ea-9b63-437fb0db3ecb",
   "metadata": {},
   "outputs": [
    {
     "data": {
      "text/plain": [
       "5.8415"
      ]
     },
     "execution_count": 16,
     "metadata": {},
     "output_type": "execute_result"
    }
   ],
   "source": [
    "e + pi"
   ]
  },
  {
   "cell_type": "code",
   "execution_count": 17,
   "id": "3a5336da-675e-4d28-bfb3-b49059fa820a",
   "metadata": {},
   "outputs": [
    {
     "data": {
      "text/plain": [
       "1.5"
      ]
     },
     "execution_count": 17,
     "metadata": {},
     "output_type": "execute_result"
    }
   ],
   "source": [
    "1 + 0.5"
   ]
  },
  {
   "cell_type": "code",
   "execution_count": 18,
   "id": "80876472-5787-44c0-a03a-0c008609fe99",
   "metadata": {},
   "outputs": [
    {
     "data": {
      "text/plain": [
       "2.0"
      ]
     },
     "execution_count": 18,
     "metadata": {},
     "output_type": "execute_result"
    }
   ],
   "source": [
    "1.0 + 1"
   ]
  },
  {
   "cell_type": "code",
   "execution_count": 19,
   "id": "829353ea-a81b-4ac1-a602-1b665ad65f85",
   "metadata": {},
   "outputs": [
    {
     "data": {
      "text/plain": [
       "0.2"
      ]
     },
     "execution_count": 19,
     "metadata": {},
     "output_type": "execute_result"
    }
   ],
   "source": [
    "0.1 + 0.1"
   ]
  },
  {
   "cell_type": "code",
   "execution_count": 20,
   "id": "12a050af-defa-4b9c-8717-6249731d443c",
   "metadata": {},
   "outputs": [
    {
     "data": {
      "text/plain": [
       "0.30000000000000004"
      ]
     },
     "execution_count": 20,
     "metadata": {},
     "output_type": "execute_result"
    }
   ],
   "source": [
    "0.2 + 0.1"
   ]
  },
  {
   "cell_type": "code",
   "execution_count": 21,
   "id": "6a592da0-66f8-43ef-bbcc-8d0191c15699",
   "metadata": {},
   "outputs": [
    {
     "data": {
      "text/plain": [
       "False"
      ]
     },
     "execution_count": 21,
     "metadata": {},
     "output_type": "execute_result"
    }
   ],
   "source": [
    "0.3 == 0.2 + 0.1"
   ]
  },
  {
   "cell_type": "code",
   "execution_count": 22,
   "id": "fa251461-0b42-4d22-87f2-317ea17b7df1",
   "metadata": {},
   "outputs": [],
   "source": [
    "from decimal import Decimal"
   ]
  },
  {
   "cell_type": "code",
   "execution_count": 23,
   "id": "5384f7a3-f70e-4f96-a7e3-8f617e1b3775",
   "metadata": {},
   "outputs": [
    {
     "data": {
      "text/plain": [
       "3"
      ]
     },
     "execution_count": 23,
     "metadata": {},
     "output_type": "execute_result"
    }
   ],
   "source": [
    "2 + 1"
   ]
  },
  {
   "cell_type": "code",
   "execution_count": 24,
   "id": "614fab90-3316-41ef-a2cd-52ec7edb4ec1",
   "metadata": {},
   "outputs": [
    {
     "data": {
      "text/plain": [
       "Decimal('1')"
      ]
     },
     "execution_count": 24,
     "metadata": {},
     "output_type": "execute_result"
    }
   ],
   "source": [
    "Decimal(1)"
   ]
  },
  {
   "cell_type": "code",
   "execution_count": 25,
   "id": "96a9ba99-db93-46af-bd52-432bd87c5ccf",
   "metadata": {},
   "outputs": [
    {
     "data": {
      "text/plain": [
       "Decimal('0.1000000000000000055511151231257827021181583404541015625')"
      ]
     },
     "execution_count": 25,
     "metadata": {},
     "output_type": "execute_result"
    }
   ],
   "source": [
    "Decimal(0.1)"
   ]
  },
  {
   "cell_type": "code",
   "execution_count": 26,
   "id": "9b91bee9-0704-4558-949c-42c256a24d95",
   "metadata": {},
   "outputs": [
    {
     "data": {
      "text/plain": [
       "Decimal('0.200000000000000011102230246251565404236316680908203125')"
      ]
     },
     "execution_count": 26,
     "metadata": {},
     "output_type": "execute_result"
    }
   ],
   "source": [
    "Decimal(0.2)"
   ]
  },
  {
   "cell_type": "code",
   "execution_count": 27,
   "id": "5d2a58bf-7a4e-448a-a042-1d61df061dca",
   "metadata": {},
   "outputs": [
    {
     "data": {
      "text/plain": [
       "Decimal('0.1')"
      ]
     },
     "execution_count": 27,
     "metadata": {},
     "output_type": "execute_result"
    }
   ],
   "source": [
    "Decimal('0.1')"
   ]
  },
  {
   "cell_type": "code",
   "execution_count": 28,
   "id": "797a77b1-a9ee-447f-b9ac-115bdfc1b7b1",
   "metadata": {},
   "outputs": [
    {
     "data": {
      "text/plain": [
       "Decimal('0.2')"
      ]
     },
     "execution_count": 28,
     "metadata": {},
     "output_type": "execute_result"
    }
   ],
   "source": [
    "Decimal('0.2')"
   ]
  },
  {
   "cell_type": "code",
   "execution_count": 29,
   "id": "ae515db4-29ba-4ef7-987d-ccfd694a2b3d",
   "metadata": {},
   "outputs": [
    {
     "data": {
      "text/plain": [
       "Decimal('0.3')"
      ]
     },
     "execution_count": 29,
     "metadata": {},
     "output_type": "execute_result"
    }
   ],
   "source": [
    "Decimal('0.1') + Decimal('0.2')"
   ]
  },
  {
   "cell_type": "code",
   "execution_count": 30,
   "id": "0510c2d7-09e6-4232-a5cd-ea9cc665d096",
   "metadata": {},
   "outputs": [
    {
     "data": {
      "text/plain": [
       "True"
      ]
     },
     "execution_count": 30,
     "metadata": {},
     "output_type": "execute_result"
    }
   ],
   "source": [
    "Decimal('0.1') + Decimal('0.2') == Decimal('0.3')"
   ]
  },
  {
   "cell_type": "code",
   "execution_count": 31,
   "id": "0ef5c175-9634-4849-a8e9-e5ac47b79a4b",
   "metadata": {},
   "outputs": [
    {
     "data": {
      "text/plain": [
       "False"
      ]
     },
     "execution_count": 31,
     "metadata": {},
     "output_type": "execute_result"
    }
   ],
   "source": [
    "Decimal('0.1') + Decimal('0.2') == 0.3"
   ]
  },
  {
   "cell_type": "code",
   "execution_count": 32,
   "id": "5a723753-de9c-45d2-9f28-9853055bcf30",
   "metadata": {},
   "outputs": [
    {
     "data": {
      "text/plain": [
       "True"
      ]
     },
     "execution_count": 32,
     "metadata": {},
     "output_type": "execute_result"
    }
   ],
   "source": [
    "float(Decimal('0.1') + Decimal('0.2')) == 0.3"
   ]
  },
  {
   "cell_type": "code",
   "execution_count": 33,
   "id": "1dcb0255-2ed4-420a-988c-402cc63cf719",
   "metadata": {},
   "outputs": [],
   "source": [
    "def multi_div(iterations, number, divisor):\n",
    "    for _ in range(iterations):\n",
    "        number /= divisor\n",
    "    return number"
   ]
  },
  {
   "cell_type": "code",
   "execution_count": 34,
   "id": "af2af771-a63d-4992-a11a-2341624fde0e",
   "metadata": {},
   "outputs": [
    {
     "data": {
      "text/plain": [
       "7.0"
      ]
     },
     "execution_count": 34,
     "metadata": {},
     "output_type": "execute_result"
    }
   ],
   "source": [
    "multi_div(3, 56, 2)"
   ]
  },
  {
   "cell_type": "code",
   "execution_count": 35,
   "id": "22ec4ad6-aa52-42b4-b4a6-367f9a1dfef3",
   "metadata": {},
   "outputs": [
    {
     "data": {
      "text/plain": [
       "12.5"
      ]
     },
     "execution_count": 35,
     "metadata": {},
     "output_type": "execute_result"
    }
   ],
   "source": [
    "multi_div(1, 50, 4)"
   ]
  },
  {
   "cell_type": "code",
   "execution_count": 36,
   "id": "c08a54ab-de32-481f-b5ec-a685af0867bd",
   "metadata": {},
   "outputs": [
    {
     "data": {
      "text/plain": [
       "0.765432"
      ]
     },
     "execution_count": 36,
     "metadata": {},
     "output_type": "execute_result"
    }
   ],
   "source": [
    "765432 / 1_000_000"
   ]
  },
  {
   "cell_type": "code",
   "execution_count": 37,
   "id": "b6cd6acc-9636-4bf8-85ca-c159b6b34fa9",
   "metadata": {},
   "outputs": [],
   "source": [
    "#   765432.000000000000\n",
    "# 0.765432000000000000"
   ]
  },
  {
   "cell_type": "code",
   "execution_count": 38,
   "id": "61fe54b3-a05a-4bee-98df-1607057cddff",
   "metadata": {},
   "outputs": [
    {
     "data": {
      "text/plain": [
       "0.765432"
      ]
     },
     "execution_count": 38,
     "metadata": {},
     "output_type": "execute_result"
    }
   ],
   "source": [
    "multi_div(6, 765432, 10)"
   ]
  },
  {
   "cell_type": "code",
   "execution_count": 39,
   "id": "a068159b-ddd9-460f-b253-4372f912eae2",
   "metadata": {},
   "outputs": [
    {
     "data": {
      "text/plain": [
       "0.12345599999999998"
      ]
     },
     "execution_count": 39,
     "metadata": {},
     "output_type": "execute_result"
    }
   ],
   "source": [
    "multi_div(6, 123456, 10)"
   ]
  },
  {
   "cell_type": "code",
   "execution_count": 40,
   "id": "f900e1de-b111-4636-affe-2af119c772ae",
   "metadata": {},
   "outputs": [
    {
     "data": {
      "text/plain": [
       "0.76543"
      ]
     },
     "execution_count": 40,
     "metadata": {},
     "output_type": "execute_result"
    }
   ],
   "source": [
    "multi_div(5, 76543, 10)"
   ]
  },
  {
   "cell_type": "code",
   "execution_count": 41,
   "id": "11e45634-0619-482c-87cc-d0876eb0b66e",
   "metadata": {},
   "outputs": [
    {
     "data": {
      "text/plain": [
       "0.12345000000000002"
      ]
     },
     "execution_count": 41,
     "metadata": {},
     "output_type": "execute_result"
    }
   ],
   "source": [
    "multi_div(5, 12345, 10)"
   ]
  },
  {
   "cell_type": "code",
   "execution_count": 42,
   "id": "5976d17a-dbeb-4ca6-b5ce-fcc566e4e3e6",
   "metadata": {},
   "outputs": [],
   "source": [
    "def multi_div(iterations, number, divisor):\n",
    "    number = Decimal(number)\n",
    "    for _ in range(iterations):\n",
    "        number /= divisor\n",
    "    return number"
   ]
  },
  {
   "cell_type": "code",
   "execution_count": 43,
   "id": "755b1e14-457a-4cec-9d46-b9191028a090",
   "metadata": {},
   "outputs": [
    {
     "data": {
      "text/plain": [
       "Decimal('0.76543')"
      ]
     },
     "execution_count": 43,
     "metadata": {},
     "output_type": "execute_result"
    }
   ],
   "source": [
    "multi_div(5, 76543, 10)"
   ]
  },
  {
   "cell_type": "code",
   "execution_count": 44,
   "id": "23cf0146-0142-4ded-ab1e-cffc3a339201",
   "metadata": {},
   "outputs": [
    {
     "data": {
      "text/plain": [
       "Decimal('0.12345')"
      ]
     },
     "execution_count": 44,
     "metadata": {},
     "output_type": "execute_result"
    }
   ],
   "source": [
    "multi_div(5, 12345, 10)"
   ]
  },
  {
   "cell_type": "code",
   "execution_count": 45,
   "id": "791dc833-f8a3-4866-a9b4-bc3eafb0e88d",
   "metadata": {},
   "outputs": [
    {
     "data": {
      "text/plain": [
       "Decimal('0.123456')"
      ]
     },
     "execution_count": 45,
     "metadata": {},
     "output_type": "execute_result"
    }
   ],
   "source": [
    "multi_div(6, 123456, 10)"
   ]
  },
  {
   "cell_type": "code",
   "execution_count": null,
   "id": "db6a6559-30c4-46c7-a411-67f22a124c8f",
   "metadata": {},
   "outputs": [],
   "source": []
  }
 ],
 "metadata": {
  "kernelspec": {
   "display_name": "Python 3 (ipykernel)",
   "language": "python",
   "name": "python3"
  },
  "language_info": {
   "codemirror_mode": {
    "name": "ipython",
    "version": 3
   },
   "file_extension": ".py",
   "mimetype": "text/x-python",
   "name": "python",
   "nbconvert_exporter": "python",
   "pygments_lexer": "ipython3",
   "version": "3.11.4"
  }
 },
 "nbformat": 4,
 "nbformat_minor": 5
}
