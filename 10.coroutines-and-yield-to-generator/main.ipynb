{
 "cells": [
  {
   "cell_type": "markdown",
   "id": "2814cdd9-87ba-4b16-b6d2-f26c1caa3df6",
   "metadata": {},
   "source": [
    "## Генераторы в обратную сторону\n",
    "- метод `.send` на генераторе\n",
    "- `yield` в обратную сторону\n",
    "- `.throw`, `.close`"
   ]
  },
  {
   "cell_type": "code",
   "execution_count": 1,
   "id": "4d5b222e-893c-4d6e-b6a9-0b1a6e1ffefa",
   "metadata": {},
   "outputs": [],
   "source": [
    "def powers(nums):\n",
    "    for i in nums:\n",
    "        yield i ** i"
   ]
  },
  {
   "cell_type": "code",
   "execution_count": 2,
   "id": "9a8d7bf8-80f2-497d-9f61-fc625c170d05",
   "metadata": {},
   "outputs": [
    {
     "name": "stdout",
     "output_type": "stream",
     "text": [
      "1\n",
      "4\n",
      "27\n",
      "256\n",
      "3125\n"
     ]
    }
   ],
   "source": [
    "for i in powers(range(1, 6)):\n",
    "    print(i)"
   ]
  },
  {
   "cell_type": "code",
   "execution_count": 3,
   "id": "447d1555-6277-4fa5-bcb6-3b78f03476ac",
   "metadata": {},
   "outputs": [],
   "source": [
    "def waiter():\n",
    "    print(\"what would you like\")\n",
    "    order = yield\n",
    "    print(\"your order:\", order)"
   ]
  },
  {
   "cell_type": "code",
   "execution_count": 4,
   "id": "c3fe9ae3-3f54-4bcb-a2ee-0cbbf634afbe",
   "metadata": {},
   "outputs": [
    {
     "name": "stdout",
     "output_type": "stream",
     "text": [
      "<generator object waiter at 0x10445f100>\n"
     ]
    }
   ],
   "source": [
    "w = waiter()\n",
    "print(w)"
   ]
  },
  {
   "cell_type": "code",
   "execution_count": 5,
   "id": "c17e3094-7b55-4206-8e01-3e1858057297",
   "metadata": {},
   "outputs": [
    {
     "name": "stdout",
     "output_type": "stream",
     "text": [
      "what would you like\n",
      "None\n",
      "your order: None\n"
     ]
    }
   ],
   "source": [
    "for i in waiter():\n",
    "    print(i)"
   ]
  },
  {
   "cell_type": "code",
   "execution_count": 6,
   "id": "440cf9ce-a8b6-46a8-8f47-36ada00bf7f9",
   "metadata": {},
   "outputs": [
    {
     "ename": "TypeError",
     "evalue": "can't send non-None value to a just-started generator",
     "output_type": "error",
     "traceback": [
      "\u001b[0;31m---------------------------------------------------------------------------\u001b[0m",
      "\u001b[0;31mTypeError\u001b[0m                                 Traceback (most recent call last)",
      "Cell \u001b[0;32mIn[6], line 2\u001b[0m\n\u001b[1;32m      1\u001b[0m w \u001b[38;5;241m=\u001b[39m waiter()\n\u001b[0;32m----> 2\u001b[0m \u001b[43mw\u001b[49m\u001b[38;5;241;43m.\u001b[39;49m\u001b[43msend\u001b[49m\u001b[43m(\u001b[49m\u001b[38;5;124;43m\"\u001b[39;49m\u001b[38;5;124;43mpasta\u001b[39;49m\u001b[38;5;124;43m\"\u001b[39;49m\u001b[43m)\u001b[49m\n",
      "\u001b[0;31mTypeError\u001b[0m: can't send non-None value to a just-started generator"
     ]
    }
   ],
   "source": [
    "w = waiter()\n",
    "w.send(\"pasta\")"
   ]
  },
  {
   "cell_type": "code",
   "execution_count": 7,
   "id": "8c5332d6-4651-433d-b365-0e08614a4f25",
   "metadata": {},
   "outputs": [
    {
     "name": "stdout",
     "output_type": "stream",
     "text": [
      "what would you like\n"
     ]
    }
   ],
   "source": [
    "w = waiter()\n",
    "next(w)"
   ]
  },
  {
   "cell_type": "code",
   "execution_count": 8,
   "id": "b2c9500c-acbd-4c2c-98e5-d8ac3603409b",
   "metadata": {},
   "outputs": [
    {
     "name": "stdout",
     "output_type": "stream",
     "text": [
      "your order: pasta\n"
     ]
    },
    {
     "ename": "StopIteration",
     "evalue": "",
     "output_type": "error",
     "traceback": [
      "\u001b[0;31m---------------------------------------------------------------------------\u001b[0m",
      "\u001b[0;31mStopIteration\u001b[0m                             Traceback (most recent call last)",
      "Cell \u001b[0;32mIn[8], line 1\u001b[0m\n\u001b[0;32m----> 1\u001b[0m \u001b[43mw\u001b[49m\u001b[38;5;241;43m.\u001b[39;49m\u001b[43msend\u001b[49m\u001b[43m(\u001b[49m\u001b[38;5;124;43m\"\u001b[39;49m\u001b[38;5;124;43mpasta\u001b[39;49m\u001b[38;5;124;43m\"\u001b[39;49m\u001b[43m)\u001b[49m\n",
      "\u001b[0;31mStopIteration\u001b[0m: "
     ]
    }
   ],
   "source": [
    "w.send(\"pasta\")"
   ]
  },
  {
   "cell_type": "code",
   "execution_count": 9,
   "id": "989db2f9-2383-41a1-b20e-74777e63a091",
   "metadata": {},
   "outputs": [
    {
     "name": "stdout",
     "output_type": "stream",
     "text": [
      "what would you like\n",
      "gonna order salad\n",
      "your order: fruit salad\n"
     ]
    },
    {
     "ename": "StopIteration",
     "evalue": "",
     "output_type": "error",
     "traceback": [
      "\u001b[0;31m---------------------------------------------------------------------------\u001b[0m",
      "\u001b[0;31mStopIteration\u001b[0m                             Traceback (most recent call last)",
      "Cell \u001b[0;32mIn[9], line 4\u001b[0m\n\u001b[1;32m      2\u001b[0m \u001b[38;5;28;01mfor\u001b[39;00m _ \u001b[38;5;129;01min\u001b[39;00m w:\n\u001b[1;32m      3\u001b[0m     \u001b[38;5;28mprint\u001b[39m(\u001b[38;5;124m\"\u001b[39m\u001b[38;5;124mgonna order salad\u001b[39m\u001b[38;5;124m\"\u001b[39m)\n\u001b[0;32m----> 4\u001b[0m     \u001b[43mw\u001b[49m\u001b[38;5;241;43m.\u001b[39;49m\u001b[43msend\u001b[49m\u001b[43m(\u001b[49m\u001b[38;5;124;43m\"\u001b[39;49m\u001b[38;5;124;43mfruit salad\u001b[39;49m\u001b[38;5;124;43m\"\u001b[39;49m\u001b[43m)\u001b[49m\n\u001b[1;32m      5\u001b[0m     \u001b[38;5;28mprint\u001b[39m(\u001b[38;5;124m\"\u001b[39m\u001b[38;5;124mthat\u001b[39m\u001b[38;5;124m'\u001b[39m\u001b[38;5;124ms it, thank you\u001b[39m\u001b[38;5;124m\"\u001b[39m)\n",
      "\u001b[0;31mStopIteration\u001b[0m: "
     ]
    }
   ],
   "source": [
    "w = waiter()\n",
    "for _ in w:\n",
    "    print(\"gonna order salad\")\n",
    "    w.send(\"fruit salad\")\n",
    "    print(\"that's it, thank you\")"
   ]
  },
  {
   "cell_type": "code",
   "execution_count": 10,
   "id": "811ace6f-6cd9-4539-998c-cf7e47573920",
   "metadata": {},
   "outputs": [
    {
     "name": "stdout",
     "output_type": "stream",
     "text": [
      "what would you like\n",
      "gonna order salad\n",
      "your order: fruit salad\n"
     ]
    },
    {
     "ename": "StopIteration",
     "evalue": "",
     "output_type": "error",
     "traceback": [
      "\u001b[0;31m---------------------------------------------------------------------------\u001b[0m",
      "\u001b[0;31mStopIteration\u001b[0m                             Traceback (most recent call last)",
      "Cell \u001b[0;32mIn[10], line 4\u001b[0m\n\u001b[1;32m      2\u001b[0m \u001b[38;5;28;01mfor\u001b[39;00m _ \u001b[38;5;129;01min\u001b[39;00m w:\n\u001b[1;32m      3\u001b[0m     \u001b[38;5;28mprint\u001b[39m(\u001b[38;5;124m\"\u001b[39m\u001b[38;5;124mgonna order salad\u001b[39m\u001b[38;5;124m\"\u001b[39m)\n\u001b[0;32m----> 4\u001b[0m     \u001b[43mw\u001b[49m\u001b[38;5;241;43m.\u001b[39;49m\u001b[43msend\u001b[49m\u001b[43m(\u001b[49m\u001b[38;5;124;43m\"\u001b[39;49m\u001b[38;5;124;43mfruit salad\u001b[39;49m\u001b[38;5;124;43m\"\u001b[39;49m\u001b[43m)\u001b[49m\n\u001b[1;32m      5\u001b[0m     \u001b[38;5;28mprint\u001b[39m(\u001b[38;5;124m\"\u001b[39m\u001b[38;5;124mthat\u001b[39m\u001b[38;5;124m'\u001b[39m\u001b[38;5;124ms it, thank you\u001b[39m\u001b[38;5;124m\"\u001b[39m)\n\u001b[1;32m      6\u001b[0m     \u001b[38;5;28;01mbreak\u001b[39;00m\n",
      "\u001b[0;31mStopIteration\u001b[0m: "
     ]
    }
   ],
   "source": [
    "w = waiter()\n",
    "for _ in w:\n",
    "    print(\"gonna order salad\")\n",
    "    w.send(\"fruit salad\")\n",
    "    print(\"that's it, thank you\")\n",
    "    break"
   ]
  },
  {
   "cell_type": "code",
   "execution_count": 11,
   "id": "420c1c03-0f4a-4d46-adc7-1e7bae89492d",
   "metadata": {},
   "outputs": [],
   "source": [
    "def waiter():\n",
    "    order_items = []\n",
    "    print(\"what would you like\")\n",
    "    while True:\n",
    "        order = yield order_items\n",
    "        order_items.append(order)\n",
    "        print(order, \"ok, what else\")"
   ]
  },
  {
   "cell_type": "code",
   "execution_count": 12,
   "id": "33e25c32-d11b-4b44-b0cc-ed74553b495b",
   "metadata": {},
   "outputs": [
    {
     "name": "stdout",
     "output_type": "stream",
     "text": [
      "what would you like\n",
      "pasta ok, what else\n",
      "juice ok, what else\n",
      "fruit salad ok, what else\n"
     ]
    }
   ],
   "source": [
    "w = waiter()\n",
    "i_want_to_order = [\n",
    "    \"pasta\",\n",
    "    \"juice\",\n",
    "    \"fruit salad\",\n",
    "]\n",
    "next(w)\n",
    "for food in i_want_to_order:\n",
    "    w.send(food)"
   ]
  },
  {
   "cell_type": "code",
   "execution_count": 13,
   "id": "1a3e7dbf-39c2-4576-9920-c606930a6b29",
   "metadata": {},
   "outputs": [
    {
     "name": "stdout",
     "output_type": "stream",
     "text": [
      "None ok, what else\n"
     ]
    },
    {
     "data": {
      "text/plain": [
       "['pasta', 'juice', 'fruit salad', None]"
      ]
     },
     "execution_count": 13,
     "metadata": {},
     "output_type": "execute_result"
    }
   ],
   "source": [
    "next(w)"
   ]
  },
  {
   "cell_type": "code",
   "execution_count": 14,
   "id": "0849c418-5a75-4aa5-bca0-cc133119cf39",
   "metadata": {},
   "outputs": [],
   "source": [
    "def waiter():\n",
    "    order_items = []\n",
    "    print(\"what would you like\")\n",
    "    while True:\n",
    "        order = yield order_items\n",
    "        if order is None:\n",
    "            print(\"done\", order_items)\n",
    "            return order_items\n",
    "        order_items.append(order)\n",
    "        print(order, \"ok, what else\")"
   ]
  },
  {
   "cell_type": "code",
   "execution_count": 15,
   "id": "bc0a3aa5-4678-453e-94e9-92d9f996532c",
   "metadata": {},
   "outputs": [
    {
     "name": "stdout",
     "output_type": "stream",
     "text": [
      "what would you like\n",
      "pasta ok, what else\n",
      "juice ok, what else\n",
      "fruit salad ok, what else\n"
     ]
    }
   ],
   "source": [
    "w = waiter()\n",
    "i_want_to_order = [\n",
    "    \"pasta\",\n",
    "    \"juice\",\n",
    "    \"fruit salad\",\n",
    "]\n",
    "next(w)\n",
    "for food in i_want_to_order:\n",
    "    w.send(food)"
   ]
  },
  {
   "cell_type": "code",
   "execution_count": 16,
   "id": "fea2eb9f-43fd-4a23-bca0-414f9e3767be",
   "metadata": {},
   "outputs": [
    {
     "name": "stdout",
     "output_type": "stream",
     "text": [
      "done ['pasta', 'juice', 'fruit salad']\n"
     ]
    },
    {
     "ename": "StopIteration",
     "evalue": "['pasta', 'juice', 'fruit salad']",
     "output_type": "error",
     "traceback": [
      "\u001b[0;31m---------------------------------------------------------------------------\u001b[0m",
      "\u001b[0;31mStopIteration\u001b[0m                             Traceback (most recent call last)",
      "Cell \u001b[0;32mIn[16], line 1\u001b[0m\n\u001b[0;32m----> 1\u001b[0m \u001b[38;5;28;43mnext\u001b[39;49m\u001b[43m(\u001b[49m\u001b[43mw\u001b[49m\u001b[43m)\u001b[49m\n",
      "\u001b[0;31mStopIteration\u001b[0m: ['pasta', 'juice', 'fruit salad']"
     ]
    }
   ],
   "source": [
    "next(w)"
   ]
  },
  {
   "cell_type": "code",
   "execution_count": 18,
   "id": "db76f07a-393f-404a-87f5-6375fed920e5",
   "metadata": {},
   "outputs": [],
   "source": [
    "stop = object()\n",
    "\n",
    "def waiter():\n",
    "    order_items = []\n",
    "    print(\"what would you like\")\n",
    "    while True:\n",
    "        order = yield order_items\n",
    "        if order is stop:\n",
    "            print(\"done\", order_items)\n",
    "            return order_items\n",
    "        if order is not None:\n",
    "            order_items.append(order)\n",
    "            print(order, \"ok, what else\")"
   ]
  },
  {
   "cell_type": "code",
   "execution_count": 19,
   "id": "6ab510d5-5ac8-4c16-9266-75e4a8de60d5",
   "metadata": {},
   "outputs": [
    {
     "name": "stdout",
     "output_type": "stream",
     "text": [
      "what would you like\n",
      "already_order []\n",
      "pasta ok, what else\n",
      "already_order ['pasta']\n",
      "juice ok, what else\n",
      "already_order ['pasta', 'juice']\n",
      "fruit salad ok, what else\n"
     ]
    }
   ],
   "source": [
    "w = waiter()\n",
    "i_want_to_order = [\n",
    "    \"pasta\",\n",
    "    \"juice\",\n",
    "    \"fruit salad\",\n",
    "]\n",
    "\n",
    "for food, already_ordered in zip(i_want_to_order, w):\n",
    "    print(\"already_order\", already_ordered)\n",
    "    w.send(food)"
   ]
  },
  {
   "cell_type": "code",
   "execution_count": 20,
   "id": "88adc208-8e2e-4838-bb06-b82fcc824452",
   "metadata": {},
   "outputs": [
    {
     "data": {
      "text/plain": [
       "['pasta', 'juice', 'fruit salad']"
      ]
     },
     "execution_count": 20,
     "metadata": {},
     "output_type": "execute_result"
    }
   ],
   "source": [
    "next(w)"
   ]
  },
  {
   "cell_type": "code",
   "execution_count": 21,
   "id": "6e96e08b-7954-41b0-bfc6-dd12132ea026",
   "metadata": {},
   "outputs": [
    {
     "data": {
      "text/plain": [
       "['pasta', 'juice', 'fruit salad']"
      ]
     },
     "execution_count": 21,
     "metadata": {},
     "output_type": "execute_result"
    }
   ],
   "source": [
    "next(w)"
   ]
  },
  {
   "cell_type": "code",
   "execution_count": 22,
   "id": "7f1ab0b7-6685-43a9-a953-a45de0b5f8f4",
   "metadata": {},
   "outputs": [
    {
     "name": "stdout",
     "output_type": "stream",
     "text": [
      "done ['pasta', 'juice', 'fruit salad']\n"
     ]
    },
    {
     "ename": "StopIteration",
     "evalue": "['pasta', 'juice', 'fruit salad']",
     "output_type": "error",
     "traceback": [
      "\u001b[0;31m---------------------------------------------------------------------------\u001b[0m",
      "\u001b[0;31mStopIteration\u001b[0m                             Traceback (most recent call last)",
      "Cell \u001b[0;32mIn[22], line 1\u001b[0m\n\u001b[0;32m----> 1\u001b[0m \u001b[43mw\u001b[49m\u001b[38;5;241;43m.\u001b[39;49m\u001b[43msend\u001b[49m\u001b[43m(\u001b[49m\u001b[43mstop\u001b[49m\u001b[43m)\u001b[49m\n",
      "\u001b[0;31mStopIteration\u001b[0m: ['pasta', 'juice', 'fruit salad']"
     ]
    }
   ],
   "source": [
    "w.send(stop)"
   ]
  },
  {
   "cell_type": "code",
   "execution_count": 23,
   "id": "a1fb53d9-c05a-4dec-a5db-22270bab4cba",
   "metadata": {},
   "outputs": [],
   "source": [
    "class OrderComplete(Exception):\n",
    "    pass\n",
    "\n",
    "\n",
    "def waiter():\n",
    "    order_items = []\n",
    "    print(\"what would you like\")\n",
    "    while True:\n",
    "        try:\n",
    "            order = yield order_items\n",
    "        except OrderComplete:\n",
    "            print(\"done\", order_items)\n",
    "            return order_items\n",
    "        if order is not None:\n",
    "            order_items.append(order)\n",
    "            print(order, \"ok, what else\")"
   ]
  },
  {
   "cell_type": "code",
   "execution_count": 24,
   "id": "83e5adc7-aebe-4d38-8372-6c38ea76a761",
   "metadata": {},
   "outputs": [
    {
     "name": "stdout",
     "output_type": "stream",
     "text": [
      "what would you like\n",
      "already_order []\n",
      "pasta ok, what else\n",
      "already_order ['pasta']\n",
      "juice ok, what else\n",
      "already_order ['pasta', 'juice']\n",
      "fruit salad ok, what else\n"
     ]
    }
   ],
   "source": [
    "w = waiter()\n",
    "i_want_to_order = [\n",
    "    \"pasta\",\n",
    "    \"juice\",\n",
    "    \"fruit salad\",\n",
    "]\n",
    "\n",
    "for food, already_ordered in zip(i_want_to_order, w):\n",
    "    print(\"already_order\", already_ordered)\n",
    "    w.send(food)"
   ]
  },
  {
   "cell_type": "code",
   "execution_count": 25,
   "id": "f6acbb7a-7d24-4b8a-8a4c-c71067c1ac67",
   "metadata": {},
   "outputs": [
    {
     "data": {
      "text/plain": [
       "['pasta', 'juice', 'fruit salad']"
      ]
     },
     "execution_count": 25,
     "metadata": {},
     "output_type": "execute_result"
    }
   ],
   "source": [
    "next(w)"
   ]
  },
  {
   "cell_type": "code",
   "execution_count": 26,
   "id": "8c2bd6c7-8011-4cbf-86a7-900e52ee31c9",
   "metadata": {},
   "outputs": [
    {
     "name": "stdout",
     "output_type": "stream",
     "text": [
      "done ['pasta', 'juice', 'fruit salad']\n"
     ]
    },
    {
     "ename": "StopIteration",
     "evalue": "['pasta', 'juice', 'fruit salad']",
     "output_type": "error",
     "traceback": [
      "\u001b[0;31m---------------------------------------------------------------------------\u001b[0m",
      "\u001b[0;31mStopIteration\u001b[0m                             Traceback (most recent call last)",
      "Cell \u001b[0;32mIn[26], line 1\u001b[0m\n\u001b[0;32m----> 1\u001b[0m \u001b[43mw\u001b[49m\u001b[38;5;241;43m.\u001b[39;49m\u001b[43mthrow\u001b[49m\u001b[43m(\u001b[49m\u001b[43mOrderComplete\u001b[49m\u001b[43m)\u001b[49m\n",
      "\u001b[0;31mStopIteration\u001b[0m: ['pasta', 'juice', 'fruit salad']"
     ]
    }
   ],
   "source": [
    "w.throw(OrderComplete)"
   ]
  },
  {
   "cell_type": "code",
   "execution_count": 27,
   "id": "9fa2b6bb-a0be-4755-bec1-e465546cc8ae",
   "metadata": {},
   "outputs": [],
   "source": [
    "def powers(num):\n",
    "    p = 0\n",
    "    while True:\n",
    "        p = yield num ** p"
   ]
  },
  {
   "cell_type": "code",
   "execution_count": 28,
   "id": "03054f6f-977e-4532-833f-ba7660588e0d",
   "metadata": {},
   "outputs": [
    {
     "ename": "TypeError",
     "evalue": "can't send non-None value to a just-started generator",
     "output_type": "error",
     "traceback": [
      "\u001b[0;31m---------------------------------------------------------------------------\u001b[0m",
      "\u001b[0;31mTypeError\u001b[0m                                 Traceback (most recent call last)",
      "Cell \u001b[0;32mIn[28], line 2\u001b[0m\n\u001b[1;32m      1\u001b[0m p \u001b[38;5;241m=\u001b[39m powers(\u001b[38;5;241m2\u001b[39m)\n\u001b[0;32m----> 2\u001b[0m \u001b[43mp\u001b[49m\u001b[38;5;241;43m.\u001b[39;49m\u001b[43msend\u001b[49m\u001b[43m(\u001b[49m\u001b[38;5;241;43m2\u001b[39;49m\u001b[43m)\u001b[49m\n",
      "\u001b[0;31mTypeError\u001b[0m: can't send non-None value to a just-started generator"
     ]
    }
   ],
   "source": [
    "p = powers(2)\n",
    "p.send(2)"
   ]
  },
  {
   "cell_type": "code",
   "execution_count": 29,
   "id": "5e2a1bd7-c02f-40b9-ad5b-5a75cd473817",
   "metadata": {},
   "outputs": [
    {
     "data": {
      "text/plain": [
       "1"
      ]
     },
     "execution_count": 29,
     "metadata": {},
     "output_type": "execute_result"
    }
   ],
   "source": [
    "next(p)"
   ]
  },
  {
   "cell_type": "code",
   "execution_count": 30,
   "id": "528feda4-1cb6-476f-aa57-b0330ca13462",
   "metadata": {},
   "outputs": [
    {
     "data": {
      "text/plain": [
       "4"
      ]
     },
     "execution_count": 30,
     "metadata": {},
     "output_type": "execute_result"
    }
   ],
   "source": [
    "p.send(2)"
   ]
  },
  {
   "cell_type": "code",
   "execution_count": 31,
   "id": "28e5836e-8c39-4bcc-ad2b-29930667b244",
   "metadata": {},
   "outputs": [
    {
     "data": {
      "text/plain": [
       "8"
      ]
     },
     "execution_count": 31,
     "metadata": {},
     "output_type": "execute_result"
    }
   ],
   "source": [
    "p.send(3)"
   ]
  },
  {
   "cell_type": "code",
   "execution_count": 32,
   "id": "06024edc-e69a-42c9-8e51-cc98d1563736",
   "metadata": {},
   "outputs": [
    {
     "name": "stdout",
     "output_type": "stream",
     "text": [
      "0 1\n",
      "1 2\n",
      "2 4\n",
      "3 8\n",
      "4 16\n"
     ]
    }
   ],
   "source": [
    "for i in range(5):\n",
    "    print(i, p.send(i))"
   ]
  },
  {
   "cell_type": "code",
   "execution_count": 33,
   "id": "82582392-5440-4b8a-9a91-57cf1d5d1045",
   "metadata": {},
   "outputs": [
    {
     "data": {
      "text/plain": [
       "1024"
      ]
     },
     "execution_count": 33,
     "metadata": {},
     "output_type": "execute_result"
    }
   ],
   "source": [
    "p.send(10)"
   ]
  },
  {
   "cell_type": "code",
   "execution_count": 34,
   "id": "f26a3435-60fc-440c-af01-f856e23e7b4d",
   "metadata": {},
   "outputs": [],
   "source": [
    "p.close()"
   ]
  },
  {
   "cell_type": "code",
   "execution_count": 35,
   "id": "3e696b83-79b3-43ab-9509-631563d1db00",
   "metadata": {},
   "outputs": [
    {
     "ename": "StopIteration",
     "evalue": "",
     "output_type": "error",
     "traceback": [
      "\u001b[0;31m---------------------------------------------------------------------------\u001b[0m",
      "\u001b[0;31mStopIteration\u001b[0m                             Traceback (most recent call last)",
      "Cell \u001b[0;32mIn[35], line 1\u001b[0m\n\u001b[0;32m----> 1\u001b[0m \u001b[43mp\u001b[49m\u001b[38;5;241;43m.\u001b[39;49m\u001b[43msend\u001b[49m\u001b[43m(\u001b[49m\u001b[38;5;241;43m10\u001b[39;49m\u001b[43m)\u001b[49m\n",
      "\u001b[0;31mStopIteration\u001b[0m: "
     ]
    }
   ],
   "source": [
    "p.send(10)"
   ]
  },
  {
   "cell_type": "code",
   "execution_count": 36,
   "id": "0a026173-2244-4bcc-b571-74232852c1e1",
   "metadata": {},
   "outputs": [],
   "source": [
    "def items_by_one(seq):\n",
    "    yield from seq"
   ]
  },
  {
   "cell_type": "code",
   "execution_count": 37,
   "id": "c025d3ab-c2c5-4f52-a4b9-4e002766356b",
   "metadata": {},
   "outputs": [
    {
     "name": "stdout",
     "output_type": "stream",
     "text": [
      "0\n",
      "1\n",
      "2\n"
     ]
    }
   ],
   "source": [
    "for i in items_by_one(range(3)):\n",
    "    print(i)"
   ]
  },
  {
   "cell_type": "code",
   "execution_count": 40,
   "id": "48d5467e-4253-4fe1-b2b5-c60c44a828ff",
   "metadata": {},
   "outputs": [],
   "source": [
    "def add_count():\n",
    "    counter = 0\n",
    "    while True:\n",
    "        num = yield\n",
    "        if num is None:\n",
    "            return counter\n",
    "        counter += num\n",
    "        print(\"counter inc by\", num, \"now =\", counter)\n",
    "\n",
    "\n",
    "def collect_counts(counters: list):\n",
    "    while True:\n",
    "        counter = yield from add_count()\n",
    "        counters.append(counter)"
   ]
  },
  {
   "cell_type": "code",
   "execution_count": 41,
   "id": "62eebde5-89fb-478a-a731-928bc416deba",
   "metadata": {},
   "outputs": [
    {
     "name": "stdout",
     "output_type": "stream",
     "text": [
      "[]\n"
     ]
    }
   ],
   "source": [
    "numbers = []\n",
    "collector = collect_counts(numbers)\n",
    "print(numbers)"
   ]
  },
  {
   "cell_type": "code",
   "execution_count": 42,
   "id": "17a84a64-60d1-49f6-88ad-6405e08af751",
   "metadata": {},
   "outputs": [],
   "source": [
    "next(collector)"
   ]
  },
  {
   "cell_type": "code",
   "execution_count": 43,
   "id": "e0668730-eae6-4d38-be5e-35f0b399c6d1",
   "metadata": {},
   "outputs": [
    {
     "name": "stdout",
     "output_type": "stream",
     "text": [
      "counter inc by 5 now = 5\n"
     ]
    }
   ],
   "source": [
    "collector.send(5)"
   ]
  },
  {
   "cell_type": "code",
   "execution_count": 44,
   "id": "df9052d2-46be-41f5-b96a-d9daf150dc47",
   "metadata": {},
   "outputs": [
    {
     "name": "stdout",
     "output_type": "stream",
     "text": [
      "counter inc by 4 now = 9\n"
     ]
    }
   ],
   "source": [
    "collector.send(4)"
   ]
  },
  {
   "cell_type": "code",
   "execution_count": 45,
   "id": "06ed2665-edc6-4866-8d15-611676ff4314",
   "metadata": {},
   "outputs": [
    {
     "name": "stdout",
     "output_type": "stream",
     "text": [
      "[]\n"
     ]
    }
   ],
   "source": [
    "print(numbers)"
   ]
  },
  {
   "cell_type": "code",
   "execution_count": 46,
   "id": "e8ae5108-5ec0-4c5b-89b8-251c50505336",
   "metadata": {},
   "outputs": [],
   "source": [
    "collector.send(None)"
   ]
  },
  {
   "cell_type": "code",
   "execution_count": 47,
   "id": "a8a448a6-eb80-458a-b2ef-c66cd47a7d59",
   "metadata": {},
   "outputs": [
    {
     "name": "stdout",
     "output_type": "stream",
     "text": [
      "[9]\n"
     ]
    }
   ],
   "source": [
    "print(numbers)"
   ]
  },
  {
   "cell_type": "code",
   "execution_count": 48,
   "id": "a7a6ea36-029c-431b-a75c-b233a0d219bc",
   "metadata": {},
   "outputs": [
    {
     "name": "stdout",
     "output_type": "stream",
     "text": [
      "counter inc by 7 now = 7\n"
     ]
    }
   ],
   "source": [
    "collector.send(7)"
   ]
  },
  {
   "cell_type": "code",
   "execution_count": 49,
   "id": "cadc31a6-5c92-45d1-93fd-8a76d0fd83db",
   "metadata": {},
   "outputs": [
    {
     "name": "stdout",
     "output_type": "stream",
     "text": [
      "counter inc by 3 now = 10\n"
     ]
    }
   ],
   "source": [
    "collector.send(3)"
   ]
  },
  {
   "cell_type": "code",
   "execution_count": 50,
   "id": "d99cfc03-9211-4c85-b547-bec2307c4ee5",
   "metadata": {},
   "outputs": [
    {
     "name": "stdout",
     "output_type": "stream",
     "text": [
      "[9]\n",
      "[9, 10]\n"
     ]
    }
   ],
   "source": [
    "print(numbers)\n",
    "collector.send(None)\n",
    "print(numbers)"
   ]
  },
  {
   "cell_type": "code",
   "execution_count": null,
   "id": "62622a67-41be-4916-b5be-667c84667256",
   "metadata": {},
   "outputs": [],
   "source": []
  }
 ],
 "metadata": {
  "kernelspec": {
   "display_name": "Python 3 (ipykernel)",
   "language": "python",
   "name": "python3"
  },
  "language_info": {
   "codemirror_mode": {
    "name": "ipython",
    "version": 3
   },
   "file_extension": ".py",
   "mimetype": "text/x-python",
   "name": "python",
   "nbconvert_exporter": "python",
   "pygments_lexer": "ipython3",
   "version": "3.11.4"
  }
 },
 "nbformat": 4,
 "nbformat_minor": 5
}
