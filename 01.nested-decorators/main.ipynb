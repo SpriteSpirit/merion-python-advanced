{
 "cells": [
  {
   "cell_type": "markdown",
   "id": "1e01b1f7-be60-497c-bf21-84e31dad5361",
   "metadata": {},
   "source": [
    "## Декораторы\n",
    "### вложенные декораторы и генерация декораторов\n",
    "\n",
    "- вспомнить, как работают декораторы\n",
    "- комбинировать несколько декораторов\n",
    "- научиться создавать вложенные декораторы\n",
    "- принимать неограниченное число параметров и аргументов"
   ]
  },
  {
   "cell_type": "code",
   "execution_count": 1,
   "id": "91e80c9f-70eb-4465-90bc-cd150db38c64",
   "metadata": {},
   "outputs": [],
   "source": [
    "def fib(n):\n",
    "    \"\"\"\n",
    "    0 1 1 2 3 5 8 13\n",
    "    \"\"\"\n",
    "    if n < 2:\n",
    "        return n\n",
    "    return fib(n - 1) + fib(n - 2)"
   ]
  },
  {
   "cell_type": "code",
   "execution_count": 2,
   "id": "49a78048-d47f-4fd1-b336-898867426fdb",
   "metadata": {},
   "outputs": [
    {
     "data": {
      "text/plain": [
       "55"
      ]
     },
     "execution_count": 2,
     "metadata": {},
     "output_type": "execute_result"
    }
   ],
   "source": [
    "fib(10)"
   ]
  },
  {
   "cell_type": "code",
   "execution_count": 3,
   "id": "e7c77958-f205-4056-adbb-1245dd3b7f42",
   "metadata": {},
   "outputs": [
    {
     "data": {
      "text/plain": [
       "[0, 1, 1, 2, 3, 5, 8, 13, 21, 34, 55]"
      ]
     },
     "execution_count": 3,
     "metadata": {},
     "output_type": "execute_result"
    }
   ],
   "source": [
    "[fib(n) for n in range(11)]"
   ]
  },
  {
   "cell_type": "code",
   "execution_count": 4,
   "id": "801f93a9-4dc2-43f8-82ce-86c2d6629d61",
   "metadata": {},
   "outputs": [
    {
     "data": {
      "text/plain": [
       "3524578"
      ]
     },
     "execution_count": 4,
     "metadata": {},
     "output_type": "execute_result"
    }
   ],
   "source": [
    "fib(33)"
   ]
  },
  {
   "cell_type": "code",
   "execution_count": 5,
   "id": "d80a8336-5419-471f-b909-df50d7ef1248",
   "metadata": {},
   "outputs": [],
   "source": [
    "from functools import cache\n",
    "\n",
    "\n",
    "# fib = cache(fib)\n",
    "\n",
    "@cache\n",
    "def fib(n):\n",
    "    \"\"\"\n",
    "    0 1 1 2 3 5 8 13\n",
    "    \"\"\"\n",
    "    if n < 2:\n",
    "        return n\n",
    "    return fib(n - 1) + fib(n - 2)"
   ]
  },
  {
   "cell_type": "code",
   "execution_count": 6,
   "id": "0cbb07b8-d57c-459f-96c2-170ebaab8a5c",
   "metadata": {},
   "outputs": [
    {
     "data": {
      "text/plain": [
       "3524578"
      ]
     },
     "execution_count": 6,
     "metadata": {},
     "output_type": "execute_result"
    }
   ],
   "source": [
    "fib(33)"
   ]
  },
  {
   "cell_type": "code",
   "execution_count": 7,
   "id": "adf8198e-157b-4f37-bac3-134d2eaefd25",
   "metadata": {},
   "outputs": [
    {
     "data": {
      "text/plain": [
       "12586269025"
      ]
     },
     "execution_count": 7,
     "metadata": {},
     "output_type": "execute_result"
    }
   ],
   "source": [
    "fib(50)"
   ]
  },
  {
   "cell_type": "code",
   "execution_count": 8,
   "id": "8184477d-5a77-46f8-bb66-da1412b112ba",
   "metadata": {},
   "outputs": [],
   "source": [
    "from functools import wraps\n",
    "\n",
    "def cached(func):\n",
    "\n",
    "    results = {}\n",
    "    \n",
    "    @wraps(func)\n",
    "    def wrapped(n):\n",
    "        if n not in results:\n",
    "            results[n] = func(n)\n",
    "        return results[n]\n",
    "\n",
    "    return wrapped"
   ]
  },
  {
   "cell_type": "code",
   "execution_count": 9,
   "id": "5e2ae45d-c34b-47f3-adeb-7a3541b4c206",
   "metadata": {},
   "outputs": [],
   "source": [
    "@cached\n",
    "def fib(n):\n",
    "    \"\"\"\n",
    "    0 1 1 2 3 5 8 13\n",
    "    \"\"\"\n",
    "    if n < 2:\n",
    "        return n\n",
    "    return fib(n - 1) + fib(n - 2)"
   ]
  },
  {
   "cell_type": "code",
   "execution_count": 12,
   "id": "2f3daa27-5988-4893-b04a-49fd004a27f6",
   "metadata": {},
   "outputs": [
    {
     "data": {
      "text/plain": [
       "'<function fib at 0x111bb6660>'"
      ]
     },
     "execution_count": 12,
     "metadata": {},
     "output_type": "execute_result"
    }
   ],
   "source": [
    "str(fib)"
   ]
  },
  {
   "cell_type": "code",
   "execution_count": 13,
   "id": "a6bbc800-1d2f-4f4a-b3f5-cc1ad9c212bd",
   "metadata": {},
   "outputs": [
    {
     "data": {
      "text/plain": [
       "'<function fib at 0x111bb65c0>'"
      ]
     },
     "execution_count": 13,
     "metadata": {},
     "output_type": "execute_result"
    }
   ],
   "source": [
    "str(fib.__wrapped__)"
   ]
  },
  {
   "cell_type": "code",
   "execution_count": 14,
   "id": "a3940819-e745-45a2-bf80-e6bd3b618052",
   "metadata": {},
   "outputs": [
    {
     "data": {
      "text/plain": [
       "[832040,\n",
       " 1346269,\n",
       " 2178309,\n",
       " 3524578,\n",
       " 5702887,\n",
       " 9227465,\n",
       " 14930352,\n",
       " 24157817,\n",
       " 39088169,\n",
       " 63245986,\n",
       " 102334155,\n",
       " 165580141,\n",
       " 267914296,\n",
       " 433494437,\n",
       " 701408733,\n",
       " 1134903170,\n",
       " 1836311903,\n",
       " 2971215073,\n",
       " 4807526976,\n",
       " 7778742049]"
      ]
     },
     "execution_count": 14,
     "metadata": {},
     "output_type": "execute_result"
    }
   ],
   "source": [
    "[fib(n) for n in range(30, 50)]"
   ]
  },
  {
   "cell_type": "code",
   "execution_count": 15,
   "id": "dd1fd688-1354-4b77-80cc-bdceec29b8f6",
   "metadata": {},
   "outputs": [],
   "source": [
    "def trace(func):\n",
    "\n",
    "    sep = \"=\"\n",
    "    func.calls = 0\n",
    "\n",
    "    @wraps(func)\n",
    "    def wrapper(*a, **kw):\n",
    "        func.calls += 1\n",
    "        print(sep * func.calls, f\"-> {func.__name__}(*{a}, **{kw})\")\n",
    "        try:\n",
    "            return func(*a, **kw)\n",
    "        finally:\n",
    "            print(sep * func.calls, f\"<- {func.__name__}(*{a}, **{kw})\")\n",
    "            func.calls -= 1\n",
    "\n",
    "    return wrapper"
   ]
  },
  {
   "cell_type": "code",
   "execution_count": 16,
   "id": "ff9dbbf0-4f69-4a6b-abd6-a57c83690b21",
   "metadata": {},
   "outputs": [],
   "source": [
    "@trace\n",
    "def fib(n):\n",
    "    \"\"\"\n",
    "    0 1 1 2 3 5 8 13\n",
    "    \"\"\"\n",
    "    if n < 2:\n",
    "        return n\n",
    "    return fib(n - 1) + fib(n - 2)"
   ]
  },
  {
   "cell_type": "code",
   "execution_count": 17,
   "id": "b0630462-d1ff-40ab-b8d1-4554d9318ca1",
   "metadata": {},
   "outputs": [
    {
     "name": "stdout",
     "output_type": "stream",
     "text": [
      "= -> fib(*(3,), **{})\n",
      "== -> fib(*(2,), **{})\n",
      "=== -> fib(*(1,), **{})\n",
      "=== <- fib(*(1,), **{})\n",
      "=== -> fib(*(0,), **{})\n",
      "=== <- fib(*(0,), **{})\n",
      "== <- fib(*(2,), **{})\n",
      "== -> fib(*(1,), **{})\n",
      "== <- fib(*(1,), **{})\n",
      "= <- fib(*(3,), **{})\n"
     ]
    },
    {
     "data": {
      "text/plain": [
       "2"
      ]
     },
     "execution_count": 17,
     "metadata": {},
     "output_type": "execute_result"
    }
   ],
   "source": [
    "fib(3)"
   ]
  },
  {
   "cell_type": "code",
   "execution_count": 18,
   "id": "7378844c-cc31-423d-8e9c-15ddb236b1a1",
   "metadata": {},
   "outputs": [
    {
     "name": "stdout",
     "output_type": "stream",
     "text": [
      "= -> fib(*(10,), **{})\n",
      "== -> fib(*(9,), **{})\n",
      "=== -> fib(*(8,), **{})\n",
      "==== -> fib(*(7,), **{})\n",
      "===== -> fib(*(6,), **{})\n",
      "====== -> fib(*(5,), **{})\n",
      "======= -> fib(*(4,), **{})\n",
      "======== -> fib(*(3,), **{})\n",
      "========= -> fib(*(2,), **{})\n",
      "========== -> fib(*(1,), **{})\n",
      "========== <- fib(*(1,), **{})\n",
      "========== -> fib(*(0,), **{})\n",
      "========== <- fib(*(0,), **{})\n",
      "========= <- fib(*(2,), **{})\n",
      "========= -> fib(*(1,), **{})\n",
      "========= <- fib(*(1,), **{})\n",
      "======== <- fib(*(3,), **{})\n",
      "======== -> fib(*(2,), **{})\n",
      "========= -> fib(*(1,), **{})\n",
      "========= <- fib(*(1,), **{})\n",
      "========= -> fib(*(0,), **{})\n",
      "========= <- fib(*(0,), **{})\n",
      "======== <- fib(*(2,), **{})\n",
      "======= <- fib(*(4,), **{})\n",
      "======= -> fib(*(3,), **{})\n",
      "======== -> fib(*(2,), **{})\n",
      "========= -> fib(*(1,), **{})\n",
      "========= <- fib(*(1,), **{})\n",
      "========= -> fib(*(0,), **{})\n",
      "========= <- fib(*(0,), **{})\n",
      "======== <- fib(*(2,), **{})\n",
      "======== -> fib(*(1,), **{})\n",
      "======== <- fib(*(1,), **{})\n",
      "======= <- fib(*(3,), **{})\n",
      "====== <- fib(*(5,), **{})\n",
      "====== -> fib(*(4,), **{})\n",
      "======= -> fib(*(3,), **{})\n",
      "======== -> fib(*(2,), **{})\n",
      "========= -> fib(*(1,), **{})\n",
      "========= <- fib(*(1,), **{})\n",
      "========= -> fib(*(0,), **{})\n",
      "========= <- fib(*(0,), **{})\n",
      "======== <- fib(*(2,), **{})\n",
      "======== -> fib(*(1,), **{})\n",
      "======== <- fib(*(1,), **{})\n",
      "======= <- fib(*(3,), **{})\n",
      "======= -> fib(*(2,), **{})\n",
      "======== -> fib(*(1,), **{})\n",
      "======== <- fib(*(1,), **{})\n",
      "======== -> fib(*(0,), **{})\n",
      "======== <- fib(*(0,), **{})\n",
      "======= <- fib(*(2,), **{})\n",
      "====== <- fib(*(4,), **{})\n",
      "===== <- fib(*(6,), **{})\n",
      "===== -> fib(*(5,), **{})\n",
      "====== -> fib(*(4,), **{})\n",
      "======= -> fib(*(3,), **{})\n",
      "======== -> fib(*(2,), **{})\n",
      "========= -> fib(*(1,), **{})\n",
      "========= <- fib(*(1,), **{})\n",
      "========= -> fib(*(0,), **{})\n",
      "========= <- fib(*(0,), **{})\n",
      "======== <- fib(*(2,), **{})\n",
      "======== -> fib(*(1,), **{})\n",
      "======== <- fib(*(1,), **{})\n",
      "======= <- fib(*(3,), **{})\n",
      "======= -> fib(*(2,), **{})\n",
      "======== -> fib(*(1,), **{})\n",
      "======== <- fib(*(1,), **{})\n",
      "======== -> fib(*(0,), **{})\n",
      "======== <- fib(*(0,), **{})\n",
      "======= <- fib(*(2,), **{})\n",
      "====== <- fib(*(4,), **{})\n",
      "====== -> fib(*(3,), **{})\n",
      "======= -> fib(*(2,), **{})\n",
      "======== -> fib(*(1,), **{})\n",
      "======== <- fib(*(1,), **{})\n",
      "======== -> fib(*(0,), **{})\n",
      "======== <- fib(*(0,), **{})\n",
      "======= <- fib(*(2,), **{})\n",
      "======= -> fib(*(1,), **{})\n",
      "======= <- fib(*(1,), **{})\n",
      "====== <- fib(*(3,), **{})\n",
      "===== <- fib(*(5,), **{})\n",
      "==== <- fib(*(7,), **{})\n",
      "==== -> fib(*(6,), **{})\n",
      "===== -> fib(*(5,), **{})\n",
      "====== -> fib(*(4,), **{})\n",
      "======= -> fib(*(3,), **{})\n",
      "======== -> fib(*(2,), **{})\n",
      "========= -> fib(*(1,), **{})\n",
      "========= <- fib(*(1,), **{})\n",
      "========= -> fib(*(0,), **{})\n",
      "========= <- fib(*(0,), **{})\n",
      "======== <- fib(*(2,), **{})\n",
      "======== -> fib(*(1,), **{})\n",
      "======== <- fib(*(1,), **{})\n",
      "======= <- fib(*(3,), **{})\n",
      "======= -> fib(*(2,), **{})\n",
      "======== -> fib(*(1,), **{})\n",
      "======== <- fib(*(1,), **{})\n",
      "======== -> fib(*(0,), **{})\n",
      "======== <- fib(*(0,), **{})\n",
      "======= <- fib(*(2,), **{})\n",
      "====== <- fib(*(4,), **{})\n",
      "====== -> fib(*(3,), **{})\n",
      "======= -> fib(*(2,), **{})\n",
      "======== -> fib(*(1,), **{})\n",
      "======== <- fib(*(1,), **{})\n",
      "======== -> fib(*(0,), **{})\n",
      "======== <- fib(*(0,), **{})\n",
      "======= <- fib(*(2,), **{})\n",
      "======= -> fib(*(1,), **{})\n",
      "======= <- fib(*(1,), **{})\n",
      "====== <- fib(*(3,), **{})\n",
      "===== <- fib(*(5,), **{})\n",
      "===== -> fib(*(4,), **{})\n",
      "====== -> fib(*(3,), **{})\n",
      "======= -> fib(*(2,), **{})\n",
      "======== -> fib(*(1,), **{})\n",
      "======== <- fib(*(1,), **{})\n",
      "======== -> fib(*(0,), **{})\n",
      "======== <- fib(*(0,), **{})\n",
      "======= <- fib(*(2,), **{})\n",
      "======= -> fib(*(1,), **{})\n",
      "======= <- fib(*(1,), **{})\n",
      "====== <- fib(*(3,), **{})\n",
      "====== -> fib(*(2,), **{})\n",
      "======= -> fib(*(1,), **{})\n",
      "======= <- fib(*(1,), **{})\n",
      "======= -> fib(*(0,), **{})\n",
      "======= <- fib(*(0,), **{})\n",
      "====== <- fib(*(2,), **{})\n",
      "===== <- fib(*(4,), **{})\n",
      "==== <- fib(*(6,), **{})\n",
      "=== <- fib(*(8,), **{})\n",
      "=== -> fib(*(7,), **{})\n",
      "==== -> fib(*(6,), **{})\n",
      "===== -> fib(*(5,), **{})\n",
      "====== -> fib(*(4,), **{})\n",
      "======= -> fib(*(3,), **{})\n",
      "======== -> fib(*(2,), **{})\n",
      "========= -> fib(*(1,), **{})\n",
      "========= <- fib(*(1,), **{})\n",
      "========= -> fib(*(0,), **{})\n",
      "========= <- fib(*(0,), **{})\n",
      "======== <- fib(*(2,), **{})\n",
      "======== -> fib(*(1,), **{})\n",
      "======== <- fib(*(1,), **{})\n",
      "======= <- fib(*(3,), **{})\n",
      "======= -> fib(*(2,), **{})\n",
      "======== -> fib(*(1,), **{})\n",
      "======== <- fib(*(1,), **{})\n",
      "======== -> fib(*(0,), **{})\n",
      "======== <- fib(*(0,), **{})\n",
      "======= <- fib(*(2,), **{})\n",
      "====== <- fib(*(4,), **{})\n",
      "====== -> fib(*(3,), **{})\n",
      "======= -> fib(*(2,), **{})\n",
      "======== -> fib(*(1,), **{})\n",
      "======== <- fib(*(1,), **{})\n",
      "======== -> fib(*(0,), **{})\n",
      "======== <- fib(*(0,), **{})\n",
      "======= <- fib(*(2,), **{})\n",
      "======= -> fib(*(1,), **{})\n",
      "======= <- fib(*(1,), **{})\n",
      "====== <- fib(*(3,), **{})\n",
      "===== <- fib(*(5,), **{})\n",
      "===== -> fib(*(4,), **{})\n",
      "====== -> fib(*(3,), **{})\n",
      "======= -> fib(*(2,), **{})\n",
      "======== -> fib(*(1,), **{})\n",
      "======== <- fib(*(1,), **{})\n",
      "======== -> fib(*(0,), **{})\n",
      "======== <- fib(*(0,), **{})\n",
      "======= <- fib(*(2,), **{})\n",
      "======= -> fib(*(1,), **{})\n",
      "======= <- fib(*(1,), **{})\n",
      "====== <- fib(*(3,), **{})\n",
      "====== -> fib(*(2,), **{})\n",
      "======= -> fib(*(1,), **{})\n",
      "======= <- fib(*(1,), **{})\n",
      "======= -> fib(*(0,), **{})\n",
      "======= <- fib(*(0,), **{})\n",
      "====== <- fib(*(2,), **{})\n",
      "===== <- fib(*(4,), **{})\n",
      "==== <- fib(*(6,), **{})\n",
      "==== -> fib(*(5,), **{})\n",
      "===== -> fib(*(4,), **{})\n",
      "====== -> fib(*(3,), **{})\n",
      "======= -> fib(*(2,), **{})\n",
      "======== -> fib(*(1,), **{})\n",
      "======== <- fib(*(1,), **{})\n",
      "======== -> fib(*(0,), **{})\n",
      "======== <- fib(*(0,), **{})\n",
      "======= <- fib(*(2,), **{})\n",
      "======= -> fib(*(1,), **{})\n",
      "======= <- fib(*(1,), **{})\n",
      "====== <- fib(*(3,), **{})\n",
      "====== -> fib(*(2,), **{})\n",
      "======= -> fib(*(1,), **{})\n",
      "======= <- fib(*(1,), **{})\n",
      "======= -> fib(*(0,), **{})\n",
      "======= <- fib(*(0,), **{})\n",
      "====== <- fib(*(2,), **{})\n",
      "===== <- fib(*(4,), **{})\n",
      "===== -> fib(*(3,), **{})\n",
      "====== -> fib(*(2,), **{})\n",
      "======= -> fib(*(1,), **{})\n",
      "======= <- fib(*(1,), **{})\n",
      "======= -> fib(*(0,), **{})\n",
      "======= <- fib(*(0,), **{})\n",
      "====== <- fib(*(2,), **{})\n",
      "====== -> fib(*(1,), **{})\n",
      "====== <- fib(*(1,), **{})\n",
      "===== <- fib(*(3,), **{})\n",
      "==== <- fib(*(5,), **{})\n",
      "=== <- fib(*(7,), **{})\n",
      "== <- fib(*(9,), **{})\n",
      "== -> fib(*(8,), **{})\n",
      "=== -> fib(*(7,), **{})\n",
      "==== -> fib(*(6,), **{})\n",
      "===== -> fib(*(5,), **{})\n",
      "====== -> fib(*(4,), **{})\n",
      "======= -> fib(*(3,), **{})\n",
      "======== -> fib(*(2,), **{})\n",
      "========= -> fib(*(1,), **{})\n",
      "========= <- fib(*(1,), **{})\n",
      "========= -> fib(*(0,), **{})\n",
      "========= <- fib(*(0,), **{})\n",
      "======== <- fib(*(2,), **{})\n",
      "======== -> fib(*(1,), **{})\n",
      "======== <- fib(*(1,), **{})\n",
      "======= <- fib(*(3,), **{})\n",
      "======= -> fib(*(2,), **{})\n",
      "======== -> fib(*(1,), **{})\n",
      "======== <- fib(*(1,), **{})\n",
      "======== -> fib(*(0,), **{})\n",
      "======== <- fib(*(0,), **{})\n",
      "======= <- fib(*(2,), **{})\n",
      "====== <- fib(*(4,), **{})\n",
      "====== -> fib(*(3,), **{})\n",
      "======= -> fib(*(2,), **{})\n",
      "======== -> fib(*(1,), **{})\n",
      "======== <- fib(*(1,), **{})\n",
      "======== -> fib(*(0,), **{})\n",
      "======== <- fib(*(0,), **{})\n",
      "======= <- fib(*(2,), **{})\n",
      "======= -> fib(*(1,), **{})\n",
      "======= <- fib(*(1,), **{})\n",
      "====== <- fib(*(3,), **{})\n",
      "===== <- fib(*(5,), **{})\n",
      "===== -> fib(*(4,), **{})\n",
      "====== -> fib(*(3,), **{})\n",
      "======= -> fib(*(2,), **{})\n",
      "======== -> fib(*(1,), **{})\n",
      "======== <- fib(*(1,), **{})\n",
      "======== -> fib(*(0,), **{})\n",
      "======== <- fib(*(0,), **{})\n",
      "======= <- fib(*(2,), **{})\n",
      "======= -> fib(*(1,), **{})\n",
      "======= <- fib(*(1,), **{})\n",
      "====== <- fib(*(3,), **{})\n",
      "====== -> fib(*(2,), **{})\n",
      "======= -> fib(*(1,), **{})\n",
      "======= <- fib(*(1,), **{})\n",
      "======= -> fib(*(0,), **{})\n",
      "======= <- fib(*(0,), **{})\n",
      "====== <- fib(*(2,), **{})\n",
      "===== <- fib(*(4,), **{})\n",
      "==== <- fib(*(6,), **{})\n",
      "==== -> fib(*(5,), **{})\n",
      "===== -> fib(*(4,), **{})\n",
      "====== -> fib(*(3,), **{})\n",
      "======= -> fib(*(2,), **{})\n",
      "======== -> fib(*(1,), **{})\n",
      "======== <- fib(*(1,), **{})\n",
      "======== -> fib(*(0,), **{})\n",
      "======== <- fib(*(0,), **{})\n",
      "======= <- fib(*(2,), **{})\n",
      "======= -> fib(*(1,), **{})\n",
      "======= <- fib(*(1,), **{})\n",
      "====== <- fib(*(3,), **{})\n",
      "====== -> fib(*(2,), **{})\n",
      "======= -> fib(*(1,), **{})\n",
      "======= <- fib(*(1,), **{})\n",
      "======= -> fib(*(0,), **{})\n",
      "======= <- fib(*(0,), **{})\n",
      "====== <- fib(*(2,), **{})\n",
      "===== <- fib(*(4,), **{})\n",
      "===== -> fib(*(3,), **{})\n",
      "====== -> fib(*(2,), **{})\n",
      "======= -> fib(*(1,), **{})\n",
      "======= <- fib(*(1,), **{})\n",
      "======= -> fib(*(0,), **{})\n",
      "======= <- fib(*(0,), **{})\n",
      "====== <- fib(*(2,), **{})\n",
      "====== -> fib(*(1,), **{})\n",
      "====== <- fib(*(1,), **{})\n",
      "===== <- fib(*(3,), **{})\n",
      "==== <- fib(*(5,), **{})\n",
      "=== <- fib(*(7,), **{})\n",
      "=== -> fib(*(6,), **{})\n",
      "==== -> fib(*(5,), **{})\n",
      "===== -> fib(*(4,), **{})\n",
      "====== -> fib(*(3,), **{})\n",
      "======= -> fib(*(2,), **{})\n",
      "======== -> fib(*(1,), **{})\n",
      "======== <- fib(*(1,), **{})\n",
      "======== -> fib(*(0,), **{})\n",
      "======== <- fib(*(0,), **{})\n",
      "======= <- fib(*(2,), **{})\n",
      "======= -> fib(*(1,), **{})\n",
      "======= <- fib(*(1,), **{})\n",
      "====== <- fib(*(3,), **{})\n",
      "====== -> fib(*(2,), **{})\n",
      "======= -> fib(*(1,), **{})\n",
      "======= <- fib(*(1,), **{})\n",
      "======= -> fib(*(0,), **{})\n",
      "======= <- fib(*(0,), **{})\n",
      "====== <- fib(*(2,), **{})\n",
      "===== <- fib(*(4,), **{})\n",
      "===== -> fib(*(3,), **{})\n",
      "====== -> fib(*(2,), **{})\n",
      "======= -> fib(*(1,), **{})\n",
      "======= <- fib(*(1,), **{})\n",
      "======= -> fib(*(0,), **{})\n",
      "======= <- fib(*(0,), **{})\n",
      "====== <- fib(*(2,), **{})\n",
      "====== -> fib(*(1,), **{})\n",
      "====== <- fib(*(1,), **{})\n",
      "===== <- fib(*(3,), **{})\n",
      "==== <- fib(*(5,), **{})\n",
      "==== -> fib(*(4,), **{})\n",
      "===== -> fib(*(3,), **{})\n",
      "====== -> fib(*(2,), **{})\n",
      "======= -> fib(*(1,), **{})\n",
      "======= <- fib(*(1,), **{})\n",
      "======= -> fib(*(0,), **{})\n",
      "======= <- fib(*(0,), **{})\n",
      "====== <- fib(*(2,), **{})\n",
      "====== -> fib(*(1,), **{})\n",
      "====== <- fib(*(1,), **{})\n",
      "===== <- fib(*(3,), **{})\n",
      "===== -> fib(*(2,), **{})\n",
      "====== -> fib(*(1,), **{})\n",
      "====== <- fib(*(1,), **{})\n",
      "====== -> fib(*(0,), **{})\n",
      "====== <- fib(*(0,), **{})\n",
      "===== <- fib(*(2,), **{})\n",
      "==== <- fib(*(4,), **{})\n",
      "=== <- fib(*(6,), **{})\n",
      "== <- fib(*(8,), **{})\n",
      "= <- fib(*(10,), **{})\n"
     ]
    },
    {
     "data": {
      "text/plain": [
       "55"
      ]
     },
     "execution_count": 18,
     "metadata": {},
     "output_type": "execute_result"
    }
   ],
   "source": [
    "fib(10)"
   ]
  },
  {
   "cell_type": "code",
   "execution_count": 19,
   "id": "5986af35-00bc-4389-b71e-0937fcb0ac5f",
   "metadata": {},
   "outputs": [],
   "source": [
    "@cache\n",
    "@trace\n",
    "def fib(n):\n",
    "    \"\"\"\n",
    "    0 1 1 2 3 5 8 13\n",
    "    \"\"\"\n",
    "    if n < 2:\n",
    "        return n\n",
    "    return fib(n - 1) + fib(n - 2)"
   ]
  },
  {
   "cell_type": "code",
   "execution_count": 20,
   "id": "17d20462-bece-45ef-9677-1d6de573ffb8",
   "metadata": {},
   "outputs": [
    {
     "name": "stdout",
     "output_type": "stream",
     "text": [
      "= -> fib(*(3,), **{})\n",
      "== -> fib(*(2,), **{})\n",
      "=== -> fib(*(1,), **{})\n",
      "=== <- fib(*(1,), **{})\n",
      "=== -> fib(*(0,), **{})\n",
      "=== <- fib(*(0,), **{})\n",
      "== <- fib(*(2,), **{})\n",
      "= <- fib(*(3,), **{})\n"
     ]
    },
    {
     "data": {
      "text/plain": [
       "2"
      ]
     },
     "execution_count": 20,
     "metadata": {},
     "output_type": "execute_result"
    }
   ],
   "source": [
    "fib(3)"
   ]
  },
  {
   "cell_type": "code",
   "execution_count": 21,
   "id": "03bbf037-d82e-474a-9aca-b299737d4e75",
   "metadata": {},
   "outputs": [
    {
     "name": "stdout",
     "output_type": "stream",
     "text": [
      "= -> fib(*(10,), **{})\n",
      "== -> fib(*(9,), **{})\n",
      "=== -> fib(*(8,), **{})\n",
      "==== -> fib(*(7,), **{})\n",
      "===== -> fib(*(6,), **{})\n",
      "====== -> fib(*(5,), **{})\n",
      "======= -> fib(*(4,), **{})\n",
      "======= <- fib(*(4,), **{})\n",
      "====== <- fib(*(5,), **{})\n",
      "===== <- fib(*(6,), **{})\n",
      "==== <- fib(*(7,), **{})\n",
      "=== <- fib(*(8,), **{})\n",
      "== <- fib(*(9,), **{})\n",
      "= <- fib(*(10,), **{})\n"
     ]
    },
    {
     "data": {
      "text/plain": [
       "55"
      ]
     },
     "execution_count": 21,
     "metadata": {},
     "output_type": "execute_result"
    }
   ],
   "source": [
    "fib(10)"
   ]
  },
  {
   "cell_type": "code",
   "execution_count": 22,
   "id": "e11667bc-8726-4089-a1a0-b78dfcbb210c",
   "metadata": {},
   "outputs": [
    {
     "name": "stdout",
     "output_type": "stream",
     "text": [
      "= -> fib(*(12,), **{})\n",
      "== -> fib(*(11,), **{})\n",
      "== <- fib(*(11,), **{})\n",
      "= <- fib(*(12,), **{})\n"
     ]
    },
    {
     "data": {
      "text/plain": [
       "144"
      ]
     },
     "execution_count": 22,
     "metadata": {},
     "output_type": "execute_result"
    }
   ],
   "source": [
    "fib(12)"
   ]
  },
  {
   "cell_type": "code",
   "execution_count": 23,
   "id": "46427bac-b9c8-471b-9047-ba1bfdc962cd",
   "metadata": {},
   "outputs": [],
   "source": [
    "@trace\n",
    "@cache\n",
    "def fib(n):\n",
    "    \"\"\"\n",
    "    0 1 1 2 3 5 8 13\n",
    "    \"\"\"\n",
    "    if n < 2:\n",
    "        return n\n",
    "    return fib(n - 1) + fib(n - 2)"
   ]
  },
  {
   "cell_type": "code",
   "execution_count": 24,
   "id": "a451c207-c8cf-4c12-9c86-085e2e73624c",
   "metadata": {},
   "outputs": [
    {
     "name": "stdout",
     "output_type": "stream",
     "text": [
      "= -> fib(*(3,), **{})\n",
      "== -> fib(*(2,), **{})\n",
      "=== -> fib(*(1,), **{})\n",
      "=== <- fib(*(1,), **{})\n",
      "=== -> fib(*(0,), **{})\n",
      "=== <- fib(*(0,), **{})\n",
      "== <- fib(*(2,), **{})\n",
      "== -> fib(*(1,), **{})\n",
      "== <- fib(*(1,), **{})\n",
      "= <- fib(*(3,), **{})\n"
     ]
    },
    {
     "data": {
      "text/plain": [
       "2"
      ]
     },
     "execution_count": 24,
     "metadata": {},
     "output_type": "execute_result"
    }
   ],
   "source": [
    "fib(3)"
   ]
  },
  {
   "cell_type": "code",
   "execution_count": 25,
   "id": "cc3092af-54cc-4e2c-8bac-7269da6de939",
   "metadata": {},
   "outputs": [
    {
     "name": "stdout",
     "output_type": "stream",
     "text": [
      "= -> fib(*(10,), **{})\n",
      "== -> fib(*(9,), **{})\n",
      "=== -> fib(*(8,), **{})\n",
      "==== -> fib(*(7,), **{})\n",
      "===== -> fib(*(6,), **{})\n",
      "====== -> fib(*(5,), **{})\n",
      "======= -> fib(*(4,), **{})\n",
      "======== -> fib(*(3,), **{})\n",
      "======== <- fib(*(3,), **{})\n",
      "======== -> fib(*(2,), **{})\n",
      "======== <- fib(*(2,), **{})\n",
      "======= <- fib(*(4,), **{})\n",
      "======= -> fib(*(3,), **{})\n",
      "======= <- fib(*(3,), **{})\n",
      "====== <- fib(*(5,), **{})\n",
      "====== -> fib(*(4,), **{})\n",
      "====== <- fib(*(4,), **{})\n",
      "===== <- fib(*(6,), **{})\n",
      "===== -> fib(*(5,), **{})\n",
      "===== <- fib(*(5,), **{})\n",
      "==== <- fib(*(7,), **{})\n",
      "==== -> fib(*(6,), **{})\n",
      "==== <- fib(*(6,), **{})\n",
      "=== <- fib(*(8,), **{})\n",
      "=== -> fib(*(7,), **{})\n",
      "=== <- fib(*(7,), **{})\n",
      "== <- fib(*(9,), **{})\n",
      "== -> fib(*(8,), **{})\n",
      "== <- fib(*(8,), **{})\n",
      "= <- fib(*(10,), **{})\n"
     ]
    },
    {
     "data": {
      "text/plain": [
       "55"
      ]
     },
     "execution_count": 25,
     "metadata": {},
     "output_type": "execute_result"
    }
   ],
   "source": [
    "fib(10)"
   ]
  },
  {
   "cell_type": "code",
   "execution_count": 26,
   "id": "d34e52c2-bfaa-4a9a-827c-1af96190387f",
   "metadata": {},
   "outputs": [
    {
     "name": "stdout",
     "output_type": "stream",
     "text": [
      "= -> fib(*(12,), **{})\n",
      "== -> fib(*(11,), **{})\n",
      "=== -> fib(*(10,), **{})\n",
      "=== <- fib(*(10,), **{})\n",
      "=== -> fib(*(9,), **{})\n",
      "=== <- fib(*(9,), **{})\n",
      "== <- fib(*(11,), **{})\n",
      "== -> fib(*(10,), **{})\n",
      "== <- fib(*(10,), **{})\n",
      "= <- fib(*(12,), **{})\n"
     ]
    },
    {
     "data": {
      "text/plain": [
       "144"
      ]
     },
     "execution_count": 26,
     "metadata": {},
     "output_type": "execute_result"
    }
   ],
   "source": [
    "fib(12)"
   ]
  },
  {
   "cell_type": "code",
   "execution_count": 27,
   "id": "2532e591-8636-4dde-9602-61c08ea66094",
   "metadata": {},
   "outputs": [
    {
     "name": "stdout",
     "output_type": "stream",
     "text": [
      "= -> fib(*(12,), **{})\n",
      "= <- fib(*(12,), **{})\n"
     ]
    },
    {
     "data": {
      "text/plain": [
       "144"
      ]
     },
     "execution_count": 27,
     "metadata": {},
     "output_type": "execute_result"
    }
   ],
   "source": [
    "fib(12)"
   ]
  },
  {
   "cell_type": "code",
   "execution_count": 30,
   "id": "6f55f347-fbcf-4473-8126-8ed4b4d5a318",
   "metadata": {},
   "outputs": [],
   "source": [
    "def trace(sep=\"=\"):\n",
    "\n",
    "    def decorator(func):\n",
    "        func.calls = 0\n",
    "    \n",
    "        @wraps(func)\n",
    "        def wrapper(*a, **kw):\n",
    "            func.calls += 1\n",
    "            print(sep * func.calls, f\"-> {func.__name__}(*{a}, **{kw})\")\n",
    "            try:\n",
    "                return func(*a, **kw)\n",
    "            finally:\n",
    "                print(sep * func.calls, f\"<- {func.__name__}(*{a}, **{kw})\")\n",
    "                func.calls -= 1\n",
    "\n",
    "        return wrapper\n",
    "    return decorator"
   ]
  },
  {
   "cell_type": "code",
   "execution_count": 31,
   "id": "2dfbb0e1-83cf-4b98-9b6f-ac31d91a0049",
   "metadata": {},
   "outputs": [],
   "source": [
    "@trace()\n",
    "def fib(n):\n",
    "    \"\"\"\n",
    "    0 1 1 2 3 5 8 13\n",
    "    \"\"\"\n",
    "    if n < 2:\n",
    "        return n\n",
    "    return fib(n - 1) + fib(n - 2)"
   ]
  },
  {
   "cell_type": "code",
   "execution_count": 32,
   "id": "f3f5a63e-b5fb-4e07-ae4a-5d4818f010d9",
   "metadata": {},
   "outputs": [
    {
     "name": "stdout",
     "output_type": "stream",
     "text": [
      "= -> fib(*(3,), **{})\n",
      "== -> fib(*(2,), **{})\n",
      "=== -> fib(*(1,), **{})\n",
      "=== <- fib(*(1,), **{})\n",
      "=== -> fib(*(0,), **{})\n",
      "=== <- fib(*(0,), **{})\n",
      "== <- fib(*(2,), **{})\n",
      "== -> fib(*(1,), **{})\n",
      "== <- fib(*(1,), **{})\n",
      "= <- fib(*(3,), **{})\n"
     ]
    },
    {
     "data": {
      "text/plain": [
       "2"
      ]
     },
     "execution_count": 32,
     "metadata": {},
     "output_type": "execute_result"
    }
   ],
   "source": [
    "fib(3)"
   ]
  },
  {
   "cell_type": "code",
   "execution_count": 33,
   "id": "d9ec4b5b-c666-412a-a07d-8dfd95f8a416",
   "metadata": {},
   "outputs": [],
   "source": [
    "@trace(\"~\")\n",
    "@cache\n",
    "def fib(n):\n",
    "    \"\"\"\n",
    "    0 1 1 2 3 5 8 13\n",
    "    \"\"\"\n",
    "    if n < 2:\n",
    "        return n\n",
    "    return fib(n - 1) + fib(n - 2)"
   ]
  },
  {
   "cell_type": "code",
   "execution_count": 34,
   "id": "40e71a97-eee7-465e-bc76-f605f2d14e33",
   "metadata": {},
   "outputs": [
    {
     "name": "stdout",
     "output_type": "stream",
     "text": [
      "~ -> fib(*(3,), **{})\n",
      "~~ -> fib(*(2,), **{})\n",
      "~~~ -> fib(*(1,), **{})\n",
      "~~~ <- fib(*(1,), **{})\n",
      "~~~ -> fib(*(0,), **{})\n",
      "~~~ <- fib(*(0,), **{})\n",
      "~~ <- fib(*(2,), **{})\n",
      "~~ -> fib(*(1,), **{})\n",
      "~~ <- fib(*(1,), **{})\n",
      "~ <- fib(*(3,), **{})\n"
     ]
    },
    {
     "data": {
      "text/plain": [
       "2"
      ]
     },
     "execution_count": 34,
     "metadata": {},
     "output_type": "execute_result"
    }
   ],
   "source": [
    "fib(3)"
   ]
  },
  {
   "cell_type": "code",
   "execution_count": 35,
   "id": "55a78d21-f933-41e3-93b9-f4ef291074c8",
   "metadata": {},
   "outputs": [
    {
     "name": "stdout",
     "output_type": "stream",
     "text": [
      "~ -> fib(*(5,), **{})\n",
      "~~ -> fib(*(4,), **{})\n",
      "~~~ -> fib(*(3,), **{})\n",
      "~~~ <- fib(*(3,), **{})\n",
      "~~~ -> fib(*(2,), **{})\n",
      "~~~ <- fib(*(2,), **{})\n",
      "~~ <- fib(*(4,), **{})\n",
      "~~ -> fib(*(3,), **{})\n",
      "~~ <- fib(*(3,), **{})\n",
      "~ <- fib(*(5,), **{})\n"
     ]
    },
    {
     "data": {
      "text/plain": [
       "5"
      ]
     },
     "execution_count": 35,
     "metadata": {},
     "output_type": "execute_result"
    }
   ],
   "source": [
    "fib(5)"
   ]
  },
  {
   "cell_type": "code",
   "execution_count": 36,
   "id": "8dfc32cf-e265-4ca2-b353-de8f9e1a86b2",
   "metadata": {},
   "outputs": [],
   "source": [
    "def trace(sep=\"=\"):\n",
    "\n",
    "    def decorator(func):\n",
    "        func.calls = 0\n",
    "    \n",
    "        @wraps(func)\n",
    "        def wrapper(*a, **kw):\n",
    "            func.calls += 1\n",
    "            print(sep * func.calls, f\"-> {func.__name__}(*{a}, **{kw})\")\n",
    "            try:\n",
    "                return func(*a, **kw)\n",
    "            finally:\n",
    "                print(sep * func.calls, f\"<- {func.__name__}(*{a}, **{kw})\")\n",
    "                func.calls -= 1\n",
    "\n",
    "        return wrapper\n",
    "\n",
    "    if isinstance(sep, str):\n",
    "        return decorator\n",
    "\n",
    "    _func = sep\n",
    "    sep = \"=\"\n",
    "    return decorator(_func)"
   ]
  },
  {
   "cell_type": "code",
   "execution_count": 37,
   "id": "81dbffe1-00f1-466c-9dcd-bde17a79777f",
   "metadata": {},
   "outputs": [],
   "source": [
    "@trace\n",
    "@cache\n",
    "def fib(n):\n",
    "    \"\"\"\n",
    "    0 1 1 2 3 5 8 13\n",
    "    \"\"\"\n",
    "    if n < 2:\n",
    "        return n\n",
    "    return fib(n - 1) + fib(n - 2)"
   ]
  },
  {
   "cell_type": "code",
   "execution_count": 38,
   "id": "5bae8b80-2da4-47cf-a70f-e53ba2adee31",
   "metadata": {},
   "outputs": [
    {
     "name": "stdout",
     "output_type": "stream",
     "text": [
      "= -> fib(*(3,), **{})\n",
      "== -> fib(*(2,), **{})\n",
      "=== -> fib(*(1,), **{})\n",
      "=== <- fib(*(1,), **{})\n",
      "=== -> fib(*(0,), **{})\n",
      "=== <- fib(*(0,), **{})\n",
      "== <- fib(*(2,), **{})\n",
      "== -> fib(*(1,), **{})\n",
      "== <- fib(*(1,), **{})\n",
      "= <- fib(*(3,), **{})\n"
     ]
    },
    {
     "data": {
      "text/plain": [
       "2"
      ]
     },
     "execution_count": 38,
     "metadata": {},
     "output_type": "execute_result"
    }
   ],
   "source": [
    "fib(3)"
   ]
  },
  {
   "cell_type": "code",
   "execution_count": 39,
   "id": "5a7bf145-84fd-454d-ad45-d6c3b7d9ff69",
   "metadata": {},
   "outputs": [],
   "source": [
    "@trace(\"~\")\n",
    "@cache\n",
    "def fib(n):\n",
    "    \"\"\"\n",
    "    0 1 1 2 3 5 8 13\n",
    "    \"\"\"\n",
    "    if n < 2:\n",
    "        return n\n",
    "    return fib(n - 1) + fib(n - 2)"
   ]
  },
  {
   "cell_type": "code",
   "execution_count": 40,
   "id": "79775a0a-d4ec-48a3-a9ad-9f8da27436d9",
   "metadata": {},
   "outputs": [
    {
     "name": "stdout",
     "output_type": "stream",
     "text": [
      "~ -> fib(*(3,), **{})\n",
      "~~ -> fib(*(2,), **{})\n",
      "~~~ -> fib(*(1,), **{})\n",
      "~~~ <- fib(*(1,), **{})\n",
      "~~~ -> fib(*(0,), **{})\n",
      "~~~ <- fib(*(0,), **{})\n",
      "~~ <- fib(*(2,), **{})\n",
      "~~ -> fib(*(1,), **{})\n",
      "~~ <- fib(*(1,), **{})\n",
      "~ <- fib(*(3,), **{})\n"
     ]
    },
    {
     "data": {
      "text/plain": [
       "2"
      ]
     },
     "execution_count": 40,
     "metadata": {},
     "output_type": "execute_result"
    }
   ],
   "source": [
    "fib(3)"
   ]
  },
  {
   "cell_type": "code",
   "execution_count": 41,
   "id": "e01cdd61-5795-4d7c-aa25-96f382896b83",
   "metadata": {},
   "outputs": [],
   "source": [
    "def trace(_func=None, *, sep=\"=\"):\n",
    "\n",
    "    def decorator(func):\n",
    "        func.calls = 0\n",
    "    \n",
    "        @wraps(func)\n",
    "        def wrapper(*a, **kw):\n",
    "            func.calls += 1\n",
    "            print(sep * func.calls, f\"-> {func.__name__}(*{a}, **{kw})\")\n",
    "            try:\n",
    "                return func(*a, **kw)\n",
    "            finally:\n",
    "                print(sep * func.calls, f\"<- {func.__name__}(*{a}, **{kw})\")\n",
    "                func.calls -= 1\n",
    "\n",
    "        return wrapper\n",
    "\n",
    "    if _func is not None:\n",
    "        return decorator(_func)\n",
    "    return decorator"
   ]
  },
  {
   "cell_type": "code",
   "execution_count": 42,
   "id": "e111b373-97cd-43b8-bf7d-8017b78862f3",
   "metadata": {},
   "outputs": [],
   "source": [
    "@cache\n",
    "@trace(sep=\"~\")\n",
    "def fib(n):\n",
    "    \"\"\"\n",
    "    0 1 1 2 3 5 8 13\n",
    "    \"\"\"\n",
    "    if n < 2:\n",
    "        return n\n",
    "    return fib(n - 1) + fib(n - 2)"
   ]
  },
  {
   "cell_type": "code",
   "execution_count": 43,
   "id": "c665ed9a-9eda-4a1b-b796-9240643775da",
   "metadata": {},
   "outputs": [
    {
     "name": "stdout",
     "output_type": "stream",
     "text": [
      "~ -> fib(*(3,), **{})\n",
      "~~ -> fib(*(2,), **{})\n",
      "~~~ -> fib(*(1,), **{})\n",
      "~~~ <- fib(*(1,), **{})\n",
      "~~~ -> fib(*(0,), **{})\n",
      "~~~ <- fib(*(0,), **{})\n",
      "~~ <- fib(*(2,), **{})\n",
      "~ <- fib(*(3,), **{})\n"
     ]
    },
    {
     "data": {
      "text/plain": [
       "2"
      ]
     },
     "execution_count": 43,
     "metadata": {},
     "output_type": "execute_result"
    }
   ],
   "source": [
    "fib(3)"
   ]
  },
  {
   "cell_type": "code",
   "execution_count": 44,
   "id": "77e3eecb-b43c-45d4-bbe2-270157f46cdb",
   "metadata": {},
   "outputs": [],
   "source": [
    "@cache\n",
    "@trace\n",
    "def fib(n):\n",
    "    \"\"\"\n",
    "    0 1 1 2 3 5 8 13\n",
    "    \"\"\"\n",
    "    if n < 2:\n",
    "        return n\n",
    "    return fib(n - 1) + fib(n - 2)"
   ]
  },
  {
   "cell_type": "code",
   "execution_count": 45,
   "id": "98641bfe-6905-4686-9ec0-2ba2152b82ee",
   "metadata": {},
   "outputs": [
    {
     "name": "stdout",
     "output_type": "stream",
     "text": [
      "= -> fib(*(3,), **{})\n",
      "== -> fib(*(2,), **{})\n",
      "=== -> fib(*(1,), **{})\n",
      "=== <- fib(*(1,), **{})\n",
      "=== -> fib(*(0,), **{})\n",
      "=== <- fib(*(0,), **{})\n",
      "== <- fib(*(2,), **{})\n",
      "= <- fib(*(3,), **{})\n"
     ]
    },
    {
     "data": {
      "text/plain": [
       "2"
      ]
     },
     "execution_count": 45,
     "metadata": {},
     "output_type": "execute_result"
    }
   ],
   "source": [
    "fib(3)"
   ]
  },
  {
   "cell_type": "code",
   "execution_count": null,
   "id": "0e21324d-4a0b-465c-aa99-954fd50706bf",
   "metadata": {},
   "outputs": [],
   "source": []
  }
 ],
 "metadata": {
  "kernelspec": {
   "display_name": "Python 3 (ipykernel)",
   "language": "python",
   "name": "python3"
  },
  "language_info": {
   "codemirror_mode": {
    "name": "ipython",
    "version": 3
   },
   "file_extension": ".py",
   "mimetype": "text/x-python",
   "name": "python",
   "nbconvert_exporter": "python",
   "pygments_lexer": "ipython3",
   "version": "3.11.4"
  }
 },
 "nbformat": 4,
 "nbformat_minor": 5
}
