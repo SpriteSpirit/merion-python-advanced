{
 "cells": [
  {
   "cell_type": "markdown",
   "id": "1ac1b9ec-93e7-4d93-b10d-1a6623109054",
   "metadata": {},
   "source": [
    "## multithreading"
   ]
  },
  {
   "cell_type": "code",
   "execution_count": 1,
   "id": "49f046ee-5405-4d4c-8efc-ccf3df4d90fd",
   "metadata": {},
   "outputs": [],
   "source": [
    "import logging\n",
    "\n",
    "logging.basicConfig(\n",
    "    level=logging.INFO,\n",
    "    datefmt=\"%H:%M:%S\",\n",
    "    format=\"%(asctime)s.%(msecs)03d %(funcName)15s:%(lineno)-3d - %(message)s\",\n",
    ")\n",
    "\n",
    "log = logging.getLogger(__name__)"
   ]
  },
  {
   "cell_type": "code",
   "execution_count": 2,
   "id": "1b095f2d-f65f-4606-b7e5-3d89ade736af",
   "metadata": {},
   "outputs": [
    {
     "name": "stderr",
     "output_type": "stream",
     "text": [
      "20:23:25.442        <module>:1   - hi\n"
     ]
    }
   ],
   "source": [
    "log.info(\"hi\")"
   ]
  },
  {
   "cell_type": "code",
   "execution_count": 4,
   "id": "b7c03269-e33b-4153-a65b-d9ce139fd029",
   "metadata": {},
   "outputs": [],
   "source": [
    "from time import sleep\n",
    "\n",
    "\n",
    "def get_weather():\n",
    "    log.info(\"fetching weather\")\n",
    "    sleep(1)\n",
    "    log.info(\"got weather\")\n",
    "\n",
    "\n",
    "def get_stocks():\n",
    "    log.info(\"fetching stocks\")\n",
    "    sleep(1)\n",
    "    log.info(\"got stocks\")"
   ]
  },
  {
   "cell_type": "code",
   "execution_count": 5,
   "id": "6c578e55-bfbb-49bf-8717-a2f411e8a6fa",
   "metadata": {},
   "outputs": [
    {
     "name": "stderr",
     "output_type": "stream",
     "text": [
      "20:25:16.927            main:2   - start main\n",
      "20:25:16.929     get_weather:5   - fetching weather\n",
      "20:25:17.940     get_weather:7   - got weather\n",
      "20:25:17.941      get_stocks:11  - fetching stocks\n",
      "20:25:18.946      get_stocks:13  - got stocks\n",
      "20:25:18.948            main:5   - done main\n"
     ]
    }
   ],
   "source": [
    "def main():\n",
    "    log.info(\"start main\")\n",
    "    get_weather()\n",
    "    get_stocks()\n",
    "    log.info(\"done main\")\n",
    "\n",
    "main()"
   ]
  },
  {
   "cell_type": "code",
   "execution_count": 7,
   "id": "151bfac3-be61-408c-b96a-8765725da0e6",
   "metadata": {},
   "outputs": [
    {
     "name": "stderr",
     "output_type": "stream",
     "text": [
      "20:28:14.530            main:4   - start main\n",
      "20:28:14.543            main:7   - created thread\n",
      "20:28:14.545     get_weather:5   - fetching weather\n",
      "20:28:14.547            main:10  - started thread, will wait\n",
      "20:28:15.549     get_weather:7   - got weather\n",
      "20:28:15.550            main:13  - finished thread\n",
      "20:28:15.551            main:15  - done main\n"
     ]
    }
   ],
   "source": [
    "import threading\n",
    "\n",
    "def main():\n",
    "    log.info(\"start main\")\n",
    "    \n",
    "    thread_weather = threading.Thread(target=get_weather)\n",
    "    log.info(\"created thread\")\n",
    "\n",
    "    thread_weather.start()\n",
    "    log.info(\"started thread, will wait\")\n",
    "\n",
    "    thread_weather.join()\n",
    "    log.info(\"finished thread\")\n",
    "    \n",
    "    log.info(\"done main\")\n",
    "\n",
    "main()"
   ]
  },
  {
   "cell_type": "code",
   "execution_count": 8,
   "id": "b286d598-d90c-4529-8e7b-697b64ea9b8b",
   "metadata": {},
   "outputs": [
    {
     "name": "stderr",
     "output_type": "stream",
     "text": [
      "20:31:29.713            main:4   - start main\n",
      "20:31:29.719            main:8   - created threads\n",
      "20:31:29.721     get_weather:5   - fetching weather\n",
      "20:31:29.723      get_stocks:11  - fetching stocks\n",
      "20:31:29.724            main:12  - started threads, will wait\n",
      "20:31:30.726     get_weather:7   - got weather\n",
      "20:31:30.730      get_stocks:13  - got stocks\n",
      "20:31:30.731            main:16  - finished thread\n",
      "20:31:30.732            main:18  - done main\n"
     ]
    }
   ],
   "source": [
    "import threading\n",
    "\n",
    "def main():\n",
    "    log.info(\"start main\")\n",
    "    \n",
    "    thread_weather = threading.Thread(target=get_weather)\n",
    "    thread_stocks = threading.Thread(target=get_stocks)\n",
    "    log.info(\"created threads\")\n",
    "\n",
    "    thread_weather.start()\n",
    "    thread_stocks.start()\n",
    "    log.info(\"started threads, will wait\")\n",
    "\n",
    "    thread_weather.join()\n",
    "    thread_stocks.join()\n",
    "    log.info(\"finished thread\")\n",
    "    \n",
    "    log.info(\"done main\")\n",
    "\n",
    "main()"
   ]
  },
  {
   "cell_type": "code",
   "execution_count": 9,
   "id": "e905eed8-7f21-4c6d-a070-37f1eaecfb44",
   "metadata": {},
   "outputs": [],
   "source": [
    "def get_stock_info(name):\n",
    "    log.info(\"find stock %s\", name)\n",
    "    sleep(1)\n",
    "    log.info(\"got stock %s\", name)\n",
    "    return {\"name\": name}"
   ]
  },
  {
   "cell_type": "code",
   "execution_count": 10,
   "id": "04c23476-667c-4f1b-a790-27ba7c29597e",
   "metadata": {},
   "outputs": [
    {
     "name": "stderr",
     "output_type": "stream",
     "text": [
      "20:35:18.712            main:2   - start main\n",
      "20:35:18.713            main:6   - created threads\n",
      "20:35:18.713  get_stock_info:2   - find stock AAA\n",
      "20:35:18.714  get_stock_info:2   - find stock BBB\n",
      "20:35:18.714            main:10  - started threads, will wait\n",
      "20:35:19.717  get_stock_info:4   - got stock BBB\n",
      "20:35:19.720  get_stock_info:4   - got stock AAA\n",
      "20:35:19.722            main:14  - finished threads\n",
      "20:35:19.723            main:16  - done main\n"
     ]
    }
   ],
   "source": [
    "def main():\n",
    "    log.info(\"start main\")\n",
    "    \n",
    "    thread_stock_a = threading.Thread(target=get_stock_info, args=(\"AAA\", ))\n",
    "    thread_stock_b = threading.Thread(target=get_stock_info, args=(\"BBB\", ))\n",
    "    log.info(\"created threads\")\n",
    "\n",
    "    thread_stock_a.start()\n",
    "    thread_stock_b.start()\n",
    "    log.info(\"started threads, will wait\")\n",
    "\n",
    "    thread_stock_a.join()\n",
    "    thread_stock_b.join()\n",
    "    log.info(\"finished threads\")\n",
    "    \n",
    "    log.info(\"done main\")\n",
    "\n",
    "main()"
   ]
  },
  {
   "cell_type": "code",
   "execution_count": 13,
   "id": "548ddf60-26cc-498c-9631-076843c724f7",
   "metadata": {},
   "outputs": [
    {
     "name": "stderr",
     "output_type": "stream",
     "text": [
      "20:39:17.901  get_stock_info:2   - find stock one\n",
      "20:39:17.902  get_stock_info:2   - find stock two\n",
      "20:39:17.903  get_stock_info:2   - find stock three\n",
      "20:39:18.910  get_stock_info:4   - got stock one\n",
      "20:39:18.914  get_stock_info:2   - find stock four\n",
      "20:39:18.911  get_stock_info:4   - got stock two\n",
      "20:39:18.915  get_stock_info:4   - got stock three\n",
      "20:39:19.928  get_stock_info:4   - got stock four\n"
     ]
    }
   ],
   "source": [
    "import concurrent.futures\n",
    "\n",
    "def main():\n",
    "    with concurrent.futures.ThreadPoolExecutor(max_workers=3) as executor:\n",
    "        executor.map(get_stock_info, [\"one\", \"two\", \"three\", \"four\"])\n",
    "\n",
    "main()"
   ]
  },
  {
   "cell_type": "code",
   "execution_count": 14,
   "id": "a268f047-cd3b-4da0-a6df-2e1a4fb2ceb7",
   "metadata": {},
   "outputs": [
    {
     "name": "stderr",
     "output_type": "stream",
     "text": [
      "20:40:34.865  get_stock_info:2   - find stock one\n",
      "20:40:34.866  get_stock_info:2   - find stock two\n",
      "20:40:34.867  get_stock_info:2   - find stock three\n",
      "20:40:35.871  get_stock_info:4   - got stock one\n",
      "20:40:35.872  get_stock_info:2   - find stock four\n",
      "20:40:35.872  get_stock_info:4   - got stock two\n",
      "20:40:35.874  get_stock_info:4   - got stock three\n",
      "20:40:36.874  get_stock_info:4   - got stock four\n",
      "20:40:36.876            main:6   - result: {'name': 'one'}\n",
      "20:40:36.881            main:6   - result: {'name': 'two'}\n",
      "20:40:36.883            main:6   - result: {'name': 'three'}\n",
      "20:40:36.885            main:6   - result: {'name': 'four'}\n"
     ]
    }
   ],
   "source": [
    "\n",
    "def main():\n",
    "    with concurrent.futures.ThreadPoolExecutor(max_workers=3) as executor:\n",
    "        results = executor.map(get_stock_info, [\"one\", \"two\", \"three\", \"four\"])\n",
    "\n",
    "    for res in results:\n",
    "        log.info(\"result: %s\", res)\n",
    "\n",
    "main()"
   ]
  },
  {
   "cell_type": "code",
   "execution_count": 15,
   "id": "ce217a27-35b3-4ba6-be44-2065124d6a79",
   "metadata": {},
   "outputs": [
    {
     "name": "stderr",
     "output_type": "stream",
     "text": [
      "20:42:00.012  get_stock_info:2   - find stock spam\n",
      "20:42:01.014  get_stock_info:4   - got stock spam\n",
      "20:42:01.015            main:6   - result: {'name': 'spam'}\n"
     ]
    }
   ],
   "source": [
    "\n",
    "def main():\n",
    "    with concurrent.futures.ThreadPoolExecutor(max_workers=3) as executor:\n",
    "        future_stock = executor.submit(get_stock_info, \"spam\")\n",
    "\n",
    "    res = future_stock.result()\n",
    "    log.info(\"result: %s\", res)\n",
    "\n",
    "main()"
   ]
  },
  {
   "cell_type": "markdown",
   "id": "7d155e5d-0e4e-48df-87db-f11b794720f3",
   "metadata": {},
   "source": [
    "### Global Interpreter Lock"
   ]
  },
  {
   "cell_type": "code",
   "execution_count": 16,
   "id": "0418eb0f-2f58-461d-b214-cf0bc81777c0",
   "metadata": {},
   "outputs": [],
   "source": [
    "timeout = 42_000_000\n",
    "\n",
    "def countdown(n):\n",
    "    log.info(\"countdown %s\", n)\n",
    "    while n:\n",
    "        n -= 1\n",
    "    log.info(\"done countdown\")"
   ]
  },
  {
   "cell_type": "code",
   "execution_count": 17,
   "id": "578207d2-f340-43d3-8600-ebfc95671f0f",
   "metadata": {},
   "outputs": [
    {
     "name": "stderr",
     "output_type": "stream",
     "text": [
      "20:46:12.929       countdown:4   - countdown 42000000\n",
      "20:46:13.768       countdown:7   - done countdown\n"
     ]
    }
   ],
   "source": [
    "countdown(timeout)"
   ]
  },
  {
   "cell_type": "code",
   "execution_count": 18,
   "id": "39ab424f-9b3e-4b94-879e-4b69553ac61d",
   "metadata": {},
   "outputs": [
    {
     "name": "stderr",
     "output_type": "stream",
     "text": [
      "20:47:11.617            main:2   - start main\n",
      "20:47:11.621            main:6   - created threads\n",
      "20:47:11.622       countdown:4   - countdown 42000000\n",
      "20:47:11.642       countdown:4   - countdown 42000000\n",
      "20:47:11.649            main:10  - started threads, will wait\n",
      "20:47:13.171       countdown:7   - done countdown\n",
      "20:47:13.229       countdown:7   - done countdown\n",
      "20:47:13.230            main:14  - finished threads\n",
      "20:47:13.230            main:16  - done main\n"
     ]
    }
   ],
   "source": [
    "def main():\n",
    "    log.info(\"start main\")\n",
    "    \n",
    "    thread_a = threading.Thread(target=countdown, args=(timeout, ))\n",
    "    thread_b = threading.Thread(target=countdown, args=(timeout, ))\n",
    "    log.info(\"created threads\")\n",
    "\n",
    "    thread_a.start()\n",
    "    thread_b.start()\n",
    "    log.info(\"started threads, will wait\")\n",
    "\n",
    "    thread_a.join()\n",
    "    thread_b.join()\n",
    "    log.info(\"finished threads\")\n",
    "    \n",
    "    log.info(\"done main\")\n",
    "\n",
    "main()"
   ]
  },
  {
   "cell_type": "code",
   "execution_count": 19,
   "id": "331cd26a-a584-4fe6-9ebb-a05176827c90",
   "metadata": {},
   "outputs": [
    {
     "name": "stderr",
     "output_type": "stream",
     "text": [
      "20:48:06.468       countdown:4   - countdown 42000000\n",
      "20:48:07.280       countdown:7   - done countdown\n"
     ]
    },
    {
     "name": "stdout",
     "output_type": "stream",
     "text": [
      "CPU times: user 794 ms, sys: 6.9 ms, total: 801 ms\n",
      "Wall time: 812 ms\n"
     ]
    }
   ],
   "source": [
    "%%time\n",
    "\n",
    "countdown(timeout)"
   ]
  },
  {
   "cell_type": "code",
   "execution_count": 20,
   "id": "48a08d31-693e-4919-b69b-e23a03bd61f5",
   "metadata": {},
   "outputs": [
    {
     "name": "stderr",
     "output_type": "stream",
     "text": [
      "20:48:21.098            main:2   - start main\n",
      "20:48:21.102            main:6   - created threads\n",
      "20:48:21.103       countdown:4   - countdown 42000000\n",
      "20:48:21.107       countdown:4   - countdown 42000000\n",
      "20:48:21.107            main:10  - started threads, will wait\n",
      "20:48:22.648       countdown:7   - done countdown\n",
      "20:48:22.727       countdown:7   - done countdown\n",
      "20:48:22.727            main:14  - finished threads\n",
      "20:48:22.727            main:16  - done main\n"
     ]
    },
    {
     "name": "stdout",
     "output_type": "stream",
     "text": [
      "CPU times: user 1.6 s, sys: 22.2 ms, total: 1.62 s\n",
      "Wall time: 1.63 s\n"
     ]
    }
   ],
   "source": [
    "%%time\n",
    "\n",
    "main()"
   ]
  },
  {
   "cell_type": "code",
   "execution_count": null,
   "id": "e737b7ca-e0b4-4955-8122-7252bf3e517c",
   "metadata": {},
   "outputs": [],
   "source": []
  }
 ],
 "metadata": {
  "kernelspec": {
   "display_name": "Python 3 (ipykernel)",
   "language": "python",
   "name": "python3"
  },
  "language_info": {
   "codemirror_mode": {
    "name": "ipython",
    "version": 3
   },
   "file_extension": ".py",
   "mimetype": "text/x-python",
   "name": "python",
   "nbconvert_exporter": "python",
   "pygments_lexer": "ipython3",
   "version": "3.11.4"
  }
 },
 "nbformat": 4,
 "nbformat_minor": 5
}
