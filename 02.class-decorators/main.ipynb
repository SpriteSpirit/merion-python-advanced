{
 "cells": [
  {
   "cell_type": "markdown",
   "id": "d3f07f61-24dc-4e83-a61c-d5fd026deec0",
   "metadata": {},
   "source": [
    "## class decorators\n",
    "### классы-декораторы\n",
    "### декораторы классов"
   ]
  },
  {
   "cell_type": "code",
   "execution_count": 3,
   "id": "ef1c5f3b-936f-44a6-bbc5-bce7fdcc7b0a",
   "metadata": {},
   "outputs": [],
   "source": [
    "from dataclasses import dataclass\n",
    "\n",
    "@dataclass(slots=True)\n",
    "class User:\n",
    "    id: int\n",
    "    username: str"
   ]
  },
  {
   "cell_type": "code",
   "execution_count": 4,
   "id": "24eeedee-a898-4f24-9c26-1be05dfc1d1d",
   "metadata": {},
   "outputs": [
    {
     "name": "stdout",
     "output_type": "stream",
     "text": [
      "User(id=1, username='john')\n"
     ]
    }
   ],
   "source": [
    "user = User(id=1, username=\"john\")\n",
    "print(user)"
   ]
  },
  {
   "cell_type": "code",
   "execution_count": 5,
   "id": "2078fab7-57d1-4f37-a3eb-7e4fcc265767",
   "metadata": {},
   "outputs": [
    {
     "data": {
      "text/plain": [
       "('id', 'username')"
      ]
     },
     "execution_count": 5,
     "metadata": {},
     "output_type": "execute_result"
    }
   ],
   "source": [
    "User.__slots__"
   ]
  },
  {
   "cell_type": "code",
   "execution_count": 6,
   "id": "0ff8bb09-6096-4f6b-b26e-59a88f421435",
   "metadata": {},
   "outputs": [
    {
     "data": {
      "text/plain": [
       "[__main__.User, object]"
      ]
     },
     "execution_count": 6,
     "metadata": {},
     "output_type": "execute_result"
    }
   ],
   "source": [
    "User.mro()"
   ]
  },
  {
   "cell_type": "code",
   "execution_count": 7,
   "id": "52de81b2-212a-4607-8aec-9c8ea92a6457",
   "metadata": {},
   "outputs": [
    {
     "data": {
      "text/plain": [
       "_DataclassParams(init=True,repr=True,eq=True,order=False,unsafe_hash=False,frozen=False)"
      ]
     },
     "execution_count": 7,
     "metadata": {},
     "output_type": "execute_result"
    }
   ],
   "source": [
    "User.__dataclass_params__"
   ]
  },
  {
   "cell_type": "code",
   "execution_count": 8,
   "id": "6901d03f-0b8f-426a-b128-a98dd18e7b12",
   "metadata": {},
   "outputs": [
    {
     "name": "stdout",
     "output_type": "stream",
     "text": [
      "User(id=1, username='john')\n"
     ]
    }
   ],
   "source": [
    "print(repr(user))"
   ]
  },
  {
   "cell_type": "code",
   "execution_count": 9,
   "id": "1fbec6f2-551a-4cb1-85c0-949ba0c63320",
   "metadata": {},
   "outputs": [],
   "source": [
    "registry = {}\n",
    "\n",
    "def register_model(cls):\n",
    "\n",
    "    registry[cls.__name__] = cls\n",
    "    cls.__models_registry__ = registry\n",
    "\n",
    "    return cls"
   ]
  },
  {
   "cell_type": "code",
   "execution_count": 10,
   "id": "e43e47be-fd45-4250-bafb-a405ec24c928",
   "metadata": {},
   "outputs": [
    {
     "name": "stdout",
     "output_type": "stream",
     "text": [
      "{}\n",
      "{'Post': <class '__main__.Post'>}\n"
     ]
    }
   ],
   "source": [
    "print(registry)\n",
    "\n",
    "@register_model\n",
    "class Post:\n",
    "    pass\n",
    "\n",
    "print(registry)"
   ]
  },
  {
   "cell_type": "code",
   "execution_count": 11,
   "id": "db33ad3d-2893-4c43-bd27-15847b265996",
   "metadata": {},
   "outputs": [
    {
     "name": "stdout",
     "output_type": "stream",
     "text": [
      "{'Post': <class '__main__.Post'>}\n",
      "{'Post': <class '__main__.Post'>, 'Comment': <class '__main__.Comment'>}\n"
     ]
    }
   ],
   "source": [
    "print(registry)\n",
    "\n",
    "@register_model\n",
    "class Comment:\n",
    "    pass\n",
    "\n",
    "\n",
    "print(Comment.__models_registry__)"
   ]
  },
  {
   "cell_type": "code",
   "execution_count": 12,
   "id": "bb6d9d42-1d99-435a-9e2b-39b24cf3b7aa",
   "metadata": {},
   "outputs": [
    {
     "data": {
      "text/plain": [
       "{'Post': __main__.Post, 'Comment': __main__.Comment}"
      ]
     },
     "execution_count": 12,
     "metadata": {},
     "output_type": "execute_result"
    }
   ],
   "source": [
    "Post.__models_registry__"
   ]
  },
  {
   "cell_type": "code",
   "execution_count": 13,
   "id": "161dc5b1-2d22-488f-9407-05c670f4b361",
   "metadata": {},
   "outputs": [],
   "source": [
    "class ModelsRegistry:\n",
    "    def __init__(self):\n",
    "        self._registry = {}\n",
    "\n",
    "    def register(self, decorated_class):\n",
    "        \n",
    "        self._registry[decorated_class.__name__] = decorated_class\n",
    "        decorated_class.__models_registry__ = self._registry\n",
    "\n",
    "        return decorated_class"
   ]
  },
  {
   "cell_type": "code",
   "execution_count": 14,
   "id": "b4e82168-fe33-433f-b54b-685faccdbf1b",
   "metadata": {},
   "outputs": [
    {
     "name": "stdout",
     "output_type": "stream",
     "text": [
      "{}\n"
     ]
    }
   ],
   "source": [
    "models_registry = ModelsRegistry()\n",
    "print(models_registry._registry)"
   ]
  },
  {
   "cell_type": "code",
   "execution_count": 15,
   "id": "b2c1015e-6e49-476c-a4b7-3f0168e6050c",
   "metadata": {},
   "outputs": [
    {
     "name": "stdout",
     "output_type": "stream",
     "text": [
      "{'Client': <class '__main__.Client'>}\n",
      "{'Client': <class '__main__.Client'>, 'Manager': <class '__main__.Manager'>}\n"
     ]
    }
   ],
   "source": [
    "@models_registry.register\n",
    "class Client:\n",
    "    pass\n",
    "\n",
    "print(models_registry._registry)\n",
    "\n",
    "@models_registry.register\n",
    "class Manager:\n",
    "    pass\n",
    "\n",
    "print(Manager.__models_registry__)"
   ]
  },
  {
   "cell_type": "code",
   "execution_count": 16,
   "id": "db7a12b4-0b11-4fdc-9a5c-7870d4de99db",
   "metadata": {},
   "outputs": [],
   "source": [
    "class Cached:\n",
    "    def __init__(self, func):\n",
    "        self.func = func\n",
    "        self._cache = {}\n",
    "\n",
    "    def __call__(self, *args):\n",
    "        if args not in self._cache:\n",
    "            self._cache[args] = self.func(*args)\n",
    "        return self._cache[args]"
   ]
  },
  {
   "cell_type": "code",
   "execution_count": 17,
   "id": "2febf8fe-7918-442b-9e63-a452f8c2cc90",
   "metadata": {},
   "outputs": [],
   "source": [
    "@Cached\n",
    "def fib(n):\n",
    "    if n < 2:\n",
    "        return n\n",
    "    return fib(n - 1) + fib(n - 2)"
   ]
  },
  {
   "cell_type": "code",
   "execution_count": 18,
   "id": "fc372ce1-c7e6-40a8-86a5-d752e61aaee8",
   "metadata": {},
   "outputs": [
    {
     "data": {
      "text/plain": [
       "<__main__.Cached at 0x1049cbd50>"
      ]
     },
     "execution_count": 18,
     "metadata": {},
     "output_type": "execute_result"
    }
   ],
   "source": [
    "fib"
   ]
  },
  {
   "cell_type": "code",
   "execution_count": 19,
   "id": "a432389a-d713-456c-87df-08a8c3baf3b8",
   "metadata": {},
   "outputs": [
    {
     "data": {
      "text/plain": [
       "{}"
      ]
     },
     "execution_count": 19,
     "metadata": {},
     "output_type": "execute_result"
    }
   ],
   "source": [
    "fib._cache"
   ]
  },
  {
   "cell_type": "code",
   "execution_count": 20,
   "id": "5e1fb32a-49bd-4b27-8d74-4e5671790ad3",
   "metadata": {},
   "outputs": [
    {
     "data": {
      "text/plain": [
       "2"
      ]
     },
     "execution_count": 20,
     "metadata": {},
     "output_type": "execute_result"
    }
   ],
   "source": [
    "fib(3)"
   ]
  },
  {
   "cell_type": "code",
   "execution_count": 21,
   "id": "4a68cfb9-0672-44fc-8b95-ef3a7d19bdf1",
   "metadata": {},
   "outputs": [
    {
     "data": {
      "text/plain": [
       "{(1,): 1, (0,): 0, (2,): 1, (3,): 2}"
      ]
     },
     "execution_count": 21,
     "metadata": {},
     "output_type": "execute_result"
    }
   ],
   "source": [
    "fib._cache"
   ]
  },
  {
   "cell_type": "code",
   "execution_count": 22,
   "id": "b2e3a884-d3fd-4d47-a50c-5c2f15d83183",
   "metadata": {},
   "outputs": [
    {
     "data": {
      "text/plain": [
       "55"
      ]
     },
     "execution_count": 22,
     "metadata": {},
     "output_type": "execute_result"
    }
   ],
   "source": [
    "fib(10)"
   ]
  },
  {
   "cell_type": "code",
   "execution_count": 23,
   "id": "502691a0-0fd6-44ce-a355-ed6b4e71e717",
   "metadata": {},
   "outputs": [
    {
     "data": {
      "text/plain": [
       "{(1,): 1,\n",
       " (0,): 0,\n",
       " (2,): 1,\n",
       " (3,): 2,\n",
       " (4,): 3,\n",
       " (5,): 5,\n",
       " (6,): 8,\n",
       " (7,): 13,\n",
       " (8,): 21,\n",
       " (9,): 34,\n",
       " (10,): 55}"
      ]
     },
     "execution_count": 23,
     "metadata": {},
     "output_type": "execute_result"
    }
   ],
   "source": [
    "fib._cache"
   ]
  },
  {
   "cell_type": "code",
   "execution_count": 24,
   "id": "92676b90-9d54-4340-8bdd-e0aa70b32cd3",
   "metadata": {},
   "outputs": [],
   "source": [
    "from functools import wraps\n",
    "\n",
    "\n",
    "class History:\n",
    "    def __init__(self, total_items=10):\n",
    "        self.total_items = total_items\n",
    "        self.results_history = []\n",
    "        self.func = None\n",
    "\n",
    "    def add_history_item(self, result):\n",
    "        self.results_history.append(result)\n",
    "        if len(self.results_history) > self.total_items:\n",
    "            self.results_history.pop(0)\n",
    "\n",
    "    def wrap(self, func):\n",
    "        self.func = func\n",
    "        func.history = self\n",
    "\n",
    "        @wraps(func)\n",
    "        def wrapper(*a, **kw):\n",
    "            result = self.func(*a, **kw)\n",
    "            self.add_history_item(result)\n",
    "            return result\n",
    "\n",
    "        return wrapper\n",
    "        \n",
    "\n",
    "    def __call__(self, func):\n",
    "        return self.wrap(func)\n",
    "        "
   ]
  },
  {
   "cell_type": "code",
   "execution_count": 25,
   "id": "99f84e1d-aa0b-450a-b367-ac7d2d8f31cd",
   "metadata": {},
   "outputs": [],
   "source": [
    "@History(total_items=3)\n",
    "def power(num, e):\n",
    "    return num ** e"
   ]
  },
  {
   "cell_type": "code",
   "execution_count": 26,
   "id": "826bda73-07da-43a6-9a30-47e0f9cd5caa",
   "metadata": {},
   "outputs": [
    {
     "data": {
      "text/plain": [
       "<function __main__.power(num, e)>"
      ]
     },
     "execution_count": 26,
     "metadata": {},
     "output_type": "execute_result"
    }
   ],
   "source": [
    "power"
   ]
  },
  {
   "cell_type": "code",
   "execution_count": 27,
   "id": "e2cf1e45-849a-4349-abed-b8071b6bef60",
   "metadata": {},
   "outputs": [
    {
     "data": {
      "text/plain": [
       "8"
      ]
     },
     "execution_count": 27,
     "metadata": {},
     "output_type": "execute_result"
    }
   ],
   "source": [
    "power(2, 3)"
   ]
  },
  {
   "cell_type": "code",
   "execution_count": 28,
   "id": "86815e46-8557-435e-a52a-097392e00ddd",
   "metadata": {},
   "outputs": [
    {
     "data": {
      "text/plain": [
       "<__main__.History at 0x1049ad310>"
      ]
     },
     "execution_count": 28,
     "metadata": {},
     "output_type": "execute_result"
    }
   ],
   "source": [
    "power.history"
   ]
  },
  {
   "cell_type": "code",
   "execution_count": 29,
   "id": "b6f19151-5d07-4553-a9a9-d7ad6e639a07",
   "metadata": {},
   "outputs": [
    {
     "data": {
      "text/plain": [
       "[8]"
      ]
     },
     "execution_count": 29,
     "metadata": {},
     "output_type": "execute_result"
    }
   ],
   "source": [
    "power.history.results_history"
   ]
  },
  {
   "cell_type": "code",
   "execution_count": 30,
   "id": "27871791-d73f-4d60-aa19-243fc758d116",
   "metadata": {},
   "outputs": [
    {
     "data": {
      "text/plain": [
       "16"
      ]
     },
     "execution_count": 30,
     "metadata": {},
     "output_type": "execute_result"
    }
   ],
   "source": [
    "power(4, 2)"
   ]
  },
  {
   "cell_type": "code",
   "execution_count": 31,
   "id": "d408f1fd-fa62-49d9-8408-db211c8a8a01",
   "metadata": {},
   "outputs": [
    {
     "data": {
      "text/plain": [
       "1024"
      ]
     },
     "execution_count": 31,
     "metadata": {},
     "output_type": "execute_result"
    }
   ],
   "source": [
    "power(2, 10)"
   ]
  },
  {
   "cell_type": "code",
   "execution_count": 32,
   "id": "bfefdec6-0976-4436-86b3-685508d8375a",
   "metadata": {},
   "outputs": [
    {
     "data": {
      "text/plain": [
       "[8, 16, 1024]"
      ]
     },
     "execution_count": 32,
     "metadata": {},
     "output_type": "execute_result"
    }
   ],
   "source": [
    "power.history.results_history"
   ]
  },
  {
   "cell_type": "code",
   "execution_count": 33,
   "id": "50cd1f35-12da-45af-bc48-6c0cc3302fd0",
   "metadata": {},
   "outputs": [
    {
     "data": {
      "text/plain": [
       "3"
      ]
     },
     "execution_count": 33,
     "metadata": {},
     "output_type": "execute_result"
    }
   ],
   "source": [
    "power.history.total_items"
   ]
  },
  {
   "cell_type": "code",
   "execution_count": 34,
   "id": "d190d47a-65e8-4092-a1a2-5b96a9b5c610",
   "metadata": {},
   "outputs": [
    {
     "data": {
      "text/plain": [
       "256"
      ]
     },
     "execution_count": 34,
     "metadata": {},
     "output_type": "execute_result"
    }
   ],
   "source": [
    "power(4, 4)"
   ]
  },
  {
   "cell_type": "code",
   "execution_count": 35,
   "id": "744cb02a-2ceb-45fb-8a7b-ae5e6b80618d",
   "metadata": {},
   "outputs": [
    {
     "data": {
      "text/plain": [
       "[16, 1024, 256]"
      ]
     },
     "execution_count": 35,
     "metadata": {},
     "output_type": "execute_result"
    }
   ],
   "source": [
    "power.history.results_history"
   ]
  },
  {
   "cell_type": "code",
   "execution_count": null,
   "id": "b8306ba3-50b1-4a10-9623-093f0c89fe15",
   "metadata": {},
   "outputs": [],
   "source": []
  }
 ],
 "metadata": {
  "kernelspec": {
   "display_name": "Python 3 (ipykernel)",
   "language": "python",
   "name": "python3"
  },
  "language_info": {
   "codemirror_mode": {
    "name": "ipython",
    "version": 3
   },
   "file_extension": ".py",
   "mimetype": "text/x-python",
   "name": "python",
   "nbconvert_exporter": "python",
   "pygments_lexer": "ipython3",
   "version": "3.11.4"
  }
 },
 "nbformat": 4,
 "nbformat_minor": 5
}
