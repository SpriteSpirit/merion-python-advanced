{
 "cells": [
  {
   "cell_type": "markdown",
   "metadata": {},
   "source": [
    "## Метаклассы"
   ]
  },
  {
   "cell_type": "code",
   "execution_count": 1,
   "metadata": {},
   "outputs": [
    {
     "name": "stdout",
     "output_type": "stream",
     "text": [
      "<__main__.User object at 0x1119b23d0>\n",
      "<class '__main__.User'>\n",
      "<class '__main__.User'>\n"
     ]
    }
   ],
   "source": [
    "class User:\n",
    "    pass\n",
    "\n",
    "user = User()\n",
    "print(user)\n",
    "print(user.__class__)\n",
    "print(type(user))"
   ]
  },
  {
   "cell_type": "code",
   "execution_count": 2,
   "metadata": {},
   "outputs": [
    {
     "data": {
      "text/plain": [
       "True"
      ]
     },
     "execution_count": 2,
     "metadata": {},
     "output_type": "execute_result"
    }
   ],
   "source": [
    "user.__class__ is type(user)"
   ]
  },
  {
   "cell_type": "code",
   "execution_count": 3,
   "metadata": {},
   "outputs": [
    {
     "name": "stdout",
     "output_type": "stream",
     "text": [
      "{'foo': 'bar'}\n",
      "<class 'dict'>\n",
      "<class 'dict'>\n"
     ]
    }
   ],
   "source": [
    "data = {\"foo\": \"bar\"}\n",
    "print(data)\n",
    "print(type(data))\n",
    "print(data.__class__)"
   ]
  },
  {
   "cell_type": "code",
   "execution_count": 4,
   "metadata": {},
   "outputs": [
    {
     "name": "stdout",
     "output_type": "stream",
     "text": [
      "<class 'type'>\n",
      "<class 'type'>\n",
      "<class 'type'>\n"
     ]
    }
   ],
   "source": [
    "print(type(User))\n",
    "print(type(dict))\n",
    "print(type(int))"
   ]
  },
  {
   "cell_type": "code",
   "execution_count": 5,
   "metadata": {},
   "outputs": [
    {
     "data": {
      "text/plain": [
       "True"
      ]
     },
     "execution_count": 5,
     "metadata": {},
     "output_type": "execute_result"
    }
   ],
   "source": [
    "type(dict) is type"
   ]
  },
  {
   "cell_type": "code",
   "execution_count": 6,
   "metadata": {},
   "outputs": [
    {
     "name": "stdout",
     "output_type": "stream",
     "text": [
      "<class 'type'>\n"
     ]
    }
   ],
   "source": [
    "print(type(type))"
   ]
  },
  {
   "cell_type": "code",
   "execution_count": 7,
   "metadata": {},
   "outputs": [
    {
     "name": "stdout",
     "output_type": "stream",
     "text": [
      "Help on class type in module builtins:\n",
      "\n",
      "class type(object)\n",
      " |  type(object) -> the object's type\n",
      " |  type(name, bases, dict, **kwds) -> a new type\n",
      " |  \n",
      " |  Methods defined here:\n",
      " |  \n",
      " |  __call__(self, /, *args, **kwargs)\n",
      " |      Call self as a function.\n",
      " |  \n",
      " |  __delattr__(self, name, /)\n",
      " |      Implement delattr(self, name).\n",
      " |  \n",
      " |  __dir__(self, /)\n",
      " |      Specialized __dir__ implementation for types.\n",
      " |  \n",
      " |  __getattribute__(self, name, /)\n",
      " |      Return getattr(self, name).\n",
      " |  \n",
      " |  __init__(self, /, *args, **kwargs)\n",
      " |      Initialize self.  See help(type(self)) for accurate signature.\n",
      " |  \n",
      " |  __instancecheck__(self, instance, /)\n",
      " |      Check if an object is an instance.\n",
      " |  \n",
      " |  __or__(self, value, /)\n",
      " |      Return self|value.\n",
      " |  \n",
      " |  __repr__(self, /)\n",
      " |      Return repr(self).\n",
      " |  \n",
      " |  __ror__(self, value, /)\n",
      " |      Return value|self.\n",
      " |  \n",
      " |  __setattr__(self, name, value, /)\n",
      " |      Implement setattr(self, name, value).\n",
      " |  \n",
      " |  __sizeof__(self, /)\n",
      " |      Return memory consumption of the type object.\n",
      " |  \n",
      " |  __subclasscheck__(self, subclass, /)\n",
      " |      Check if a class is a subclass.\n",
      " |  \n",
      " |  __subclasses__(self, /)\n",
      " |      Return a list of immediate subclasses.\n",
      " |  \n",
      " |  mro(self, /)\n",
      " |      Return a type's method resolution order.\n",
      " |  \n",
      " |  ----------------------------------------------------------------------\n",
      " |  Class methods defined here:\n",
      " |  \n",
      " |  __prepare__(...)\n",
      " |      __prepare__() -> dict\n",
      " |      used to create the namespace for the class statement\n",
      " |  \n",
      " |  ----------------------------------------------------------------------\n",
      " |  Static methods defined here:\n",
      " |  \n",
      " |  __new__(*args, **kwargs)\n",
      " |      Create and return a new object.  See help(type) for accurate signature.\n",
      " |  \n",
      " |  ----------------------------------------------------------------------\n",
      " |  Data descriptors defined here:\n",
      " |  \n",
      " |  __abstractmethods__\n",
      " |  \n",
      " |  __annotations__\n",
      " |  \n",
      " |  __dict__\n",
      " |  \n",
      " |  __text_signature__\n",
      " |  \n",
      " |  ----------------------------------------------------------------------\n",
      " |  Data and other attributes defined here:\n",
      " |  \n",
      " |  __base__ = <class 'object'>\n",
      " |      The base class of the class hierarchy.\n",
      " |      \n",
      " |      When called, it accepts no arguments and returns a new featureless\n",
      " |      instance that has no instance attributes and cannot be given any.\n",
      " |  \n",
      " |  \n",
      " |  __bases__ = (<class 'object'>,)\n",
      " |  \n",
      " |  __basicsize__ = 904\n",
      " |  \n",
      " |  __dictoffset__ = 264\n",
      " |  \n",
      " |  __flags__ = 2148031744\n",
      " |  \n",
      " |  __itemsize__ = 40\n",
      " |  \n",
      " |  __mro__ = (<class 'type'>, <class 'object'>)\n",
      " |  \n",
      " |  __weakrefoffset__ = 368\n",
      "\n",
      "None\n"
     ]
    }
   ],
   "source": [
    "print(help(type))"
   ]
  },
  {
   "cell_type": "code",
   "execution_count": 8,
   "metadata": {},
   "outputs": [
    {
     "name": "stdout",
     "output_type": "stream",
     "text": [
      "<__main__.User object at 0x1119a4cd0>\n",
      "<class '__main__.User'>\n",
      "<class '__main__.User'>\n"
     ]
    }
   ],
   "source": [
    "User = type(\"User\", (), {})\n",
    "\n",
    "user = User()\n",
    "\n",
    "print(user)\n",
    "print(user.__class__)\n",
    "print(type(user))"
   ]
  },
  {
   "cell_type": "code",
   "execution_count": 9,
   "metadata": {},
   "outputs": [
    {
     "name": "stdout",
     "output_type": "stream",
     "text": [
      "<__main__.User object at 0x111961d50>\n",
      "bar\n",
      "eggs\n",
      "[<class '__main__.User'>, <class '__main__.UserBase'>, <class 'object'>]\n"
     ]
    }
   ],
   "source": [
    "class UserBase:\n",
    "    foo = \"bar\"\n",
    "\n",
    "class User(UserBase):\n",
    "    spam = \"eggs\"\n",
    "\n",
    "\n",
    "user = User()\n",
    "print(user)\n",
    "print(user.foo)\n",
    "print(user.spam)\n",
    "print(User.mro())"
   ]
  },
  {
   "cell_type": "code",
   "execution_count": 10,
   "metadata": {},
   "outputs": [
    {
     "name": "stdout",
     "output_type": "stream",
     "text": [
      "<__main__.User object at 0x1119d2550>\n",
      "bar\n",
      "eggs\n",
      "[<class '__main__.User'>, <class '__main__.UserBase'>, <class 'object'>]\n"
     ]
    }
   ],
   "source": [
    "User = type(\"User\", (UserBase, ), {\"spam\": \"eggs\"})\n",
    "\n",
    "user = User()\n",
    "print(user)\n",
    "print(user.foo)\n",
    "print(user.spam)\n",
    "print(User.mro())"
   ]
  },
  {
   "cell_type": "code",
   "execution_count": 11,
   "metadata": {},
   "outputs": [
    {
     "name": "stdout",
     "output_type": "stream",
     "text": [
      "<__main__.User object at 0x1119d2450>\n",
      "John Smith\n"
     ]
    }
   ],
   "source": [
    "class User:\n",
    "    first_name = \"\"\n",
    "    last_name = \"\"\n",
    "\n",
    "    def get_full_name(self):\n",
    "        return f\"{self.first_name} {self.last_name}\".strip()\n",
    "\n",
    "\n",
    "user = User()\n",
    "print(user)\n",
    "user.first_name = \"John\"\n",
    "user.last_name = \"Smith\"\n",
    "print(user.get_full_name())"
   ]
  },
  {
   "cell_type": "code",
   "execution_count": 12,
   "metadata": {},
   "outputs": [
    {
     "data": {
      "text/plain": [
       "mappingproxy({'__module__': '__main__',\n",
       "              'first_name': '',\n",
       "              'last_name': '',\n",
       "              'get_full_name': <function __main__.User.get_full_name(self)>,\n",
       "              '__dict__': <attribute '__dict__' of 'User' objects>,\n",
       "              '__weakref__': <attribute '__weakref__' of 'User' objects>,\n",
       "              '__doc__': None})"
      ]
     },
     "execution_count": 12,
     "metadata": {},
     "output_type": "execute_result"
    }
   ],
   "source": [
    "vars(User)"
   ]
  },
  {
   "cell_type": "code",
   "execution_count": 13,
   "metadata": {},
   "outputs": [
    {
     "name": "stdout",
     "output_type": "stream",
     "text": [
      "<__main__.User object at 0x1119c4810>\n",
      "John Smith\n"
     ]
    }
   ],
   "source": [
    "def get_full_name(user):\n",
    "    return f\"{user.first_name} {user.last_name}\".strip()\n",
    "\n",
    "\n",
    "User = type(\n",
    "    \"User\",\n",
    "    (),\n",
    "    {\n",
    "        \"first_name\": \"\",\n",
    "        \"last_name\": \"\",\n",
    "        \"get_full_name\": get_full_name,\n",
    "    },\n",
    ")\n",
    "\n",
    "user = User()\n",
    "print(user)\n",
    "user.first_name = \"John\"\n",
    "user.last_name = \"Smith\"\n",
    "print(user.get_full_name())"
   ]
  },
  {
   "cell_type": "code",
   "execution_count": 14,
   "metadata": {},
   "outputs": [
    {
     "data": {
      "text/plain": [
       "mappingproxy({'first_name': '',\n",
       "              'last_name': '',\n",
       "              'get_full_name': <function __main__.get_full_name(user)>,\n",
       "              '__module__': '__main__',\n",
       "              '__dict__': <attribute '__dict__' of 'User' objects>,\n",
       "              '__weakref__': <attribute '__weakref__' of 'User' objects>,\n",
       "              '__doc__': None})"
      ]
     },
     "execution_count": 14,
     "metadata": {},
     "output_type": "execute_result"
    }
   ],
   "source": [
    "vars(User)"
   ]
  },
  {
   "cell_type": "code",
   "execution_count": 18,
   "metadata": {},
   "outputs": [],
   "source": [
    "class User:\n",
    "    def __new__(cls):\n",
    "        u = super().__new__(cls)\n",
    "        u.first_name = \"\"\n",
    "        u.last_name = \"\"\n",
    "        return u"
   ]
  },
  {
   "cell_type": "code",
   "execution_count": 19,
   "metadata": {},
   "outputs": [
    {
     "data": {
      "text/plain": [
       "mappingproxy({'__module__': '__main__',\n",
       "              '__new__': <staticmethod(<function User.__new__ at 0x1119e2520>)>,\n",
       "              '__dict__': <attribute '__dict__' of 'User' objects>,\n",
       "              '__weakref__': <attribute '__weakref__' of 'User' objects>,\n",
       "              '__doc__': None})"
      ]
     },
     "execution_count": 19,
     "metadata": {},
     "output_type": "execute_result"
    }
   ],
   "source": [
    "vars(User)"
   ]
  },
  {
   "cell_type": "code",
   "execution_count": 20,
   "metadata": {},
   "outputs": [
    {
     "data": {
      "text/plain": [
       "{'first_name': '', 'last_name': ''}"
      ]
     },
     "execution_count": 20,
     "metadata": {},
     "output_type": "execute_result"
    }
   ],
   "source": [
    "user = User()\n",
    "vars(user)"
   ]
  },
  {
   "cell_type": "code",
   "execution_count": 21,
   "metadata": {},
   "outputs": [],
   "source": [
    "class Parent:\n",
    "    attr = \"parent\"\n",
    "\n",
    "class Child:\n",
    "    attr = \"child\"\n",
    "\n",
    "class FamilyMember:\n",
    "    _members = []\n",
    "\n",
    "    def __new__(cls, other_type):\n",
    "        instance = super().__new__(other_type)\n",
    "        cls._members.append(instance)\n",
    "        return instance"
   ]
  },
  {
   "cell_type": "code",
   "execution_count": 22,
   "metadata": {},
   "outputs": [
    {
     "name": "stdout",
     "output_type": "stream",
     "text": [
      "<__main__.Child object at 0x108460750>\n",
      "child\n"
     ]
    }
   ],
   "source": [
    "child = FamilyMember(Child)\n",
    "print(child)\n",
    "print(child.attr)"
   ]
  },
  {
   "cell_type": "code",
   "execution_count": 23,
   "metadata": {},
   "outputs": [
    {
     "data": {
      "text/plain": [
       "[<__main__.Child at 0x108460750>]"
      ]
     },
     "execution_count": 23,
     "metadata": {},
     "output_type": "execute_result"
    }
   ],
   "source": [
    "FamilyMember._members"
   ]
  },
  {
   "cell_type": "code",
   "execution_count": 24,
   "metadata": {},
   "outputs": [
    {
     "name": "stdout",
     "output_type": "stream",
     "text": [
      "<class '__main__.Child'>\n"
     ]
    }
   ],
   "source": [
    "print(type(child))"
   ]
  },
  {
   "cell_type": "code",
   "execution_count": 25,
   "metadata": {},
   "outputs": [
    {
     "name": "stdout",
     "output_type": "stream",
     "text": [
      "<__main__.Parent object at 0x1119a7b10>\n",
      "parent\n",
      "<class '__main__.Parent'>\n"
     ]
    }
   ],
   "source": [
    "parent = FamilyMember(Parent)\n",
    "print(parent)\n",
    "print(parent.attr)\n",
    "print(type(parent))"
   ]
  },
  {
   "cell_type": "code",
   "execution_count": 26,
   "metadata": {},
   "outputs": [
    {
     "data": {
      "text/plain": [
       "[<__main__.Child at 0x108460750>, <__main__.Parent at 0x1119a7b10>]"
      ]
     },
     "execution_count": 26,
     "metadata": {},
     "output_type": "execute_result"
    }
   ],
   "source": [
    "FamilyMember._members"
   ]
  },
  {
   "cell_type": "code",
   "execution_count": 27,
   "metadata": {},
   "outputs": [],
   "source": [
    "class Meta(type):\n",
    "    def __init__(cls, name, *args, **kw):\n",
    "        cls.spam = \"eggs\""
   ]
  },
  {
   "cell_type": "code",
   "execution_count": 28,
   "metadata": {},
   "outputs": [
    {
     "name": "stdout",
     "output_type": "stream",
     "text": [
      "eggs\n",
      "eggs\n"
     ]
    }
   ],
   "source": [
    "class A(metaclass=Meta):\n",
    "    pass\n",
    "\n",
    "class B(metaclass=Meta):\n",
    "    pass\n",
    "\n",
    "print(A.spam)\n",
    "print(B.spam)"
   ]
  },
  {
   "cell_type": "code",
   "execution_count": 29,
   "metadata": {},
   "outputs": [
    {
     "data": {
      "text/plain": [
       "[__main__.A, object]"
      ]
     },
     "execution_count": 29,
     "metadata": {},
     "output_type": "execute_result"
    }
   ],
   "source": [
    "A.mro()"
   ]
  },
  {
   "cell_type": "code",
   "execution_count": 30,
   "metadata": {},
   "outputs": [
    {
     "data": {
      "text/plain": [
       "__main__.Meta"
      ]
     },
     "execution_count": 30,
     "metadata": {},
     "output_type": "execute_result"
    }
   ],
   "source": [
    "type(A)"
   ]
  },
  {
   "cell_type": "code",
   "execution_count": 31,
   "metadata": {},
   "outputs": [
    {
     "name": "stdout",
     "output_type": "stream",
     "text": [
      "foo\n",
      "bar\n"
     ]
    }
   ],
   "source": [
    "A.spam = \"foo\"\n",
    "B.spam = \"bar\"\n",
    "print(A.spam)\n",
    "print(B.spam)"
   ]
  },
  {
   "cell_type": "code",
   "execution_count": 32,
   "metadata": {},
   "outputs": [
    {
     "name": "stdout",
     "output_type": "stream",
     "text": [
      "eggs\n",
      "eggs\n"
     ]
    }
   ],
   "source": [
    "class Base:\n",
    "    spam = \"eggs\"\n",
    "\n",
    "class A(Base):\n",
    "    pass\n",
    "\n",
    "class B(Base):\n",
    "    pass\n",
    "\n",
    "print(A.spam)\n",
    "print(B.spam)"
   ]
  },
  {
   "cell_type": "code",
   "execution_count": 33,
   "metadata": {},
   "outputs": [
    {
     "name": "stdout",
     "output_type": "stream",
     "text": [
      "foo\n",
      "bar\n"
     ]
    }
   ],
   "source": [
    "A.spam = \"foo\"\n",
    "B.spam = \"bar\"\n",
    "print(A.spam)\n",
    "print(B.spam)"
   ]
  },
  {
   "cell_type": "code",
   "execution_count": 34,
   "metadata": {},
   "outputs": [
    {
     "data": {
      "text/plain": [
       "type"
      ]
     },
     "execution_count": 34,
     "metadata": {},
     "output_type": "execute_result"
    }
   ],
   "source": [
    "type(A)"
   ]
  },
  {
   "cell_type": "code",
   "execution_count": 35,
   "metadata": {},
   "outputs": [
    {
     "data": {
      "text/plain": [
       "[__main__.A, __main__.Base, object]"
      ]
     },
     "execution_count": 35,
     "metadata": {},
     "output_type": "execute_result"
    }
   ],
   "source": [
    "A.mro()"
   ]
  },
  {
   "cell_type": "code",
   "execution_count": 36,
   "metadata": {},
   "outputs": [],
   "source": [
    "class UsernamesTuple(tuple):\n",
    "    def __init__(self, iterable):\n",
    "        print(\"init cls w/\", iterable)\n",
    "        print(\"self\", self)"
   ]
  },
  {
   "cell_type": "code",
   "execution_count": 37,
   "metadata": {},
   "outputs": [
    {
     "name": "stdout",
     "output_type": "stream",
     "text": [
      "init cls w/ ['John', 'Sam']\n",
      "self ('John', 'Sam')\n"
     ]
    },
    {
     "data": {
      "text/plain": [
       "('John', 'Sam')"
      ]
     },
     "execution_count": 37,
     "metadata": {},
     "output_type": "execute_result"
    }
   ],
   "source": [
    "UsernamesTuple([\"John\", \"Sam\"])"
   ]
  },
  {
   "cell_type": "code",
   "execution_count": 40,
   "metadata": {},
   "outputs": [],
   "source": [
    "class UsernamesTuple(tuple):\n",
    "    def __new__(cls, iterable):\n",
    "        lower_strings = (s.lower() for s in iterable)\n",
    "        return super().__new__(cls, lower_strings)"
   ]
  },
  {
   "cell_type": "code",
   "execution_count": 41,
   "metadata": {},
   "outputs": [
    {
     "data": {
      "text/plain": [
       "('john', 'sam')"
      ]
     },
     "execution_count": 41,
     "metadata": {},
     "output_type": "execute_result"
    }
   ],
   "source": [
    "UsernamesTuple([\"John\", \"Sam\"])"
   ]
  },
  {
   "cell_type": "code",
   "execution_count": 42,
   "metadata": {},
   "outputs": [
    {
     "name": "stdout",
     "output_type": "stream",
     "text": [
      "<class '__main__.UsernamesTuple'>\n",
      "[<class '__main__.UsernamesTuple'>, <class 'tuple'>, <class 'object'>]\n"
     ]
    }
   ],
   "source": [
    "usernames = UsernamesTuple([\"John\", \"Sam\"])\n",
    "\n",
    "print(type(usernames))\n",
    "print(type(usernames).mro())"
   ]
  },
  {
   "cell_type": "code",
   "execution_count": 43,
   "metadata": {},
   "outputs": [],
   "source": [
    "def camel_to_snake(name):\n",
    "    snake_name_chars = []\n",
    "    # SnakeCase -> snake_case\n",
    "    for i, char in enumerate(name):\n",
    "        if char.isupper() and i:\n",
    "            snake_name_chars.append(\"_\")\n",
    "        snake_name_chars.append(char.lower())\n",
    "    return \"\".join(snake_name_chars)\n",
    "\n",
    "\n",
    "class CamelToSnakeMeta(type):\n",
    "    def __new__(cls, name, bases, attrs):\n",
    "        snake_attrs = {}\n",
    "        for attr_name, attr_value in attrs.items():\n",
    "            snake_name = camel_to_snake(attr_name)\n",
    "            snake_attrs[snake_name] = attr_value\n",
    "        return super().__new__(cls, name, bases, snake_attrs)"
   ]
  },
  {
   "cell_type": "code",
   "execution_count": 44,
   "metadata": {},
   "outputs": [
    {
     "data": {
      "text/plain": [
       "mappingproxy({'__module__': '__main__',\n",
       "              'user_name': 'john',\n",
       "              'age': 20,\n",
       "              'increase_age': <function __main__.User.increaseAge(self)>,\n",
       "              '__dict__': <attribute '__dict__' of 'User' objects>,\n",
       "              '__weakref__': <attribute '__weakref__' of 'User' objects>,\n",
       "              '__doc__': None})"
      ]
     },
     "execution_count": 44,
     "metadata": {},
     "output_type": "execute_result"
    }
   ],
   "source": [
    "class User(metaclass=CamelToSnakeMeta):\n",
    "    userName = \"john\"\n",
    "    age = 20\n",
    "\n",
    "    def increaseAge(self):\n",
    "        self.age += 1\n",
    "\n",
    "vars(User)"
   ]
  },
  {
   "cell_type": "code",
   "execution_count": 45,
   "metadata": {},
   "outputs": [
    {
     "name": "stdout",
     "output_type": "stream",
     "text": [
      "john\n",
      "20\n",
      "21\n"
     ]
    }
   ],
   "source": [
    "user = User()\n",
    "print(user.user_name)\n",
    "print(user.age)\n",
    "user.increase_age()\n",
    "print(user.age)"
   ]
  },
  {
   "cell_type": "code",
   "execution_count": 46,
   "metadata": {},
   "outputs": [],
   "source": [
    "class RegistryMeta(type):\n",
    "    _registry = {}\n",
    "\n",
    "    def __new__(mcs, name, *args, **kwargs):\n",
    "        if name in mcs._registry:\n",
    "            raise NameError(f\"Class {name} already defined!\")\n",
    "        cls = super().__new__(mcs, name, *args, **kwargs)\n",
    "        mcs._registry[name] = cls\n",
    "        return cls"
   ]
  },
  {
   "cell_type": "code",
   "execution_count": 47,
   "metadata": {},
   "outputs": [
    {
     "data": {
      "text/plain": [
       "{'User': __main__.User, 'Post': __main__.Post}"
      ]
     },
     "execution_count": 47,
     "metadata": {},
     "output_type": "execute_result"
    }
   ],
   "source": [
    "class User(metaclass=RegistryMeta):\n",
    "    pass\n",
    "\n",
    "class Post(metaclass=RegistryMeta):\n",
    "    pass\n",
    "\n",
    "RegistryMeta._registry"
   ]
  },
  {
   "cell_type": "code",
   "execution_count": 48,
   "metadata": {},
   "outputs": [
    {
     "ename": "NameError",
     "evalue": "Class User already defined!",
     "output_type": "error",
     "traceback": [
      "\u001b[0;31m---------------------------------------------------------------------------\u001b[0m",
      "\u001b[0;31mNameError\u001b[0m                                 Traceback (most recent call last)",
      "Cell \u001b[0;32mIn[48], line 1\u001b[0m\n\u001b[0;32m----> 1\u001b[0m \u001b[38;5;28;43;01mclass\u001b[39;49;00m\u001b[43m \u001b[49m\u001b[38;5;21;43;01mUser\u001b[39;49;00m\u001b[43m(\u001b[49m\u001b[43mmetaclass\u001b[49m\u001b[38;5;241;43m=\u001b[39;49m\u001b[43mRegistryMeta\u001b[49m\u001b[43m)\u001b[49m\u001b[43m:\u001b[49m\n\u001b[1;32m      2\u001b[0m \u001b[43m    \u001b[49m\u001b[43mspam\u001b[49m\u001b[43m \u001b[49m\u001b[38;5;241;43m=\u001b[39;49m\u001b[43m \u001b[49m\u001b[38;5;124;43m\"\u001b[39;49m\u001b[38;5;124;43meggs\u001b[39;49m\u001b[38;5;124;43m\"\u001b[39;49m\n",
      "Cell \u001b[0;32mIn[46], line 6\u001b[0m, in \u001b[0;36mRegistryMeta.__new__\u001b[0;34m(mcs, name, *args, **kwargs)\u001b[0m\n\u001b[1;32m      4\u001b[0m \u001b[38;5;28;01mdef\u001b[39;00m \u001b[38;5;21m__new__\u001b[39m(mcs, name, \u001b[38;5;241m*\u001b[39margs, \u001b[38;5;241m*\u001b[39m\u001b[38;5;241m*\u001b[39mkwargs):\n\u001b[1;32m      5\u001b[0m     \u001b[38;5;28;01mif\u001b[39;00m name \u001b[38;5;129;01min\u001b[39;00m mcs\u001b[38;5;241m.\u001b[39m_registry:\n\u001b[0;32m----> 6\u001b[0m         \u001b[38;5;28;01mraise\u001b[39;00m \u001b[38;5;167;01mNameError\u001b[39;00m(\u001b[38;5;124mf\u001b[39m\u001b[38;5;124m\"\u001b[39m\u001b[38;5;124mClass \u001b[39m\u001b[38;5;132;01m{\u001b[39;00mname\u001b[38;5;132;01m}\u001b[39;00m\u001b[38;5;124m already defined!\u001b[39m\u001b[38;5;124m\"\u001b[39m)\n\u001b[1;32m      7\u001b[0m     \u001b[38;5;28mcls\u001b[39m \u001b[38;5;241m=\u001b[39m \u001b[38;5;28msuper\u001b[39m()\u001b[38;5;241m.\u001b[39m\u001b[38;5;21m__new__\u001b[39m(mcs, name, \u001b[38;5;241m*\u001b[39margs, \u001b[38;5;241m*\u001b[39m\u001b[38;5;241m*\u001b[39mkwargs)\n\u001b[1;32m      8\u001b[0m     mcs\u001b[38;5;241m.\u001b[39m_registry[name] \u001b[38;5;241m=\u001b[39m \u001b[38;5;28mcls\u001b[39m\n",
      "\u001b[0;31mNameError\u001b[0m: Class User already defined!"
     ]
    }
   ],
   "source": [
    "class User(metaclass=RegistryMeta):\n",
    "    spam = \"eggs\""
   ]
  },
  {
   "cell_type": "code",
   "execution_count": 49,
   "metadata": {},
   "outputs": [],
   "source": [
    "class ModelBase(metaclass=RegistryMeta):\n",
    "    pass"
   ]
  },
  {
   "cell_type": "code",
   "execution_count": 50,
   "metadata": {},
   "outputs": [
    {
     "data": {
      "text/plain": [
       "{'User': __main__.User,\n",
       " 'Post': __main__.Post,\n",
       " 'ModelBase': __main__.ModelBase,\n",
       " 'Manager': __main__.Manager,\n",
       " 'Client': __main__.Client}"
      ]
     },
     "execution_count": 50,
     "metadata": {},
     "output_type": "execute_result"
    }
   ],
   "source": [
    "class Manager(ModelBase):\n",
    "    pass\n",
    "\n",
    "class Client(ModelBase):\n",
    "    pass\n",
    "\n",
    "RegistryMeta._registry"
   ]
  },
  {
   "cell_type": "code",
   "execution_count": 51,
   "metadata": {},
   "outputs": [],
   "source": [
    "class Node:\n",
    "    def __init_subclass__(cls, node_pos):\n",
    "        cls.pos = node_pos\n",
    "        return cls\n",
    "\n",
    "\n",
    "class LeftNode(Node, node_pos=\"left\"):\n",
    "    pass\n",
    "\n",
    "\n",
    "class RightNode(Node, node_pos=\"right\"):\n",
    "    pass"
   ]
  },
  {
   "cell_type": "code",
   "execution_count": 52,
   "metadata": {},
   "outputs": [
    {
     "name": "stdout",
     "output_type": "stream",
     "text": [
      "left\n",
      "right\n"
     ]
    }
   ],
   "source": [
    "print(LeftNode.pos)\n",
    "print(RightNode.pos)"
   ]
  },
  {
   "cell_type": "code",
   "execution_count": 53,
   "metadata": {},
   "outputs": [
    {
     "data": {
      "text/plain": [
       "[__main__.RightNode, __main__.Node, object]"
      ]
     },
     "execution_count": 53,
     "metadata": {},
     "output_type": "execute_result"
    }
   ],
   "source": [
    "RightNode.mro()"
   ]
  },
  {
   "cell_type": "code",
   "execution_count": null,
   "metadata": {},
   "outputs": [],
   "source": []
  }
 ],
 "metadata": {
  "kernelspec": {
   "display_name": "Python 3 (ipykernel)",
   "language": "python",
   "name": "python3"
  },
  "language_info": {
   "codemirror_mode": {
    "name": "ipython",
    "version": 3
   },
   "file_extension": ".py",
   "mimetype": "text/x-python",
   "name": "python",
   "nbconvert_exporter": "python",
   "pygments_lexer": "ipython3",
   "version": "3.11.4"
  }
 },
 "nbformat": 4,
 "nbformat_minor": 4
}
