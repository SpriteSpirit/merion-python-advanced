{
 "cells": [
  {
   "cell_type": "markdown",
   "id": "47a489d3-3bd6-4ec9-8b68-f22195d8137e",
   "metadata": {},
   "source": [
    "## итераторы и генераторы\n",
    "- что такое итератор в Python, когда с ним сталкиваются\n",
    "- что такое генератор, зачем нужен\n",
    "- чтение файла"
   ]
  },
  {
   "cell_type": "code",
   "execution_count": 1,
   "id": "ac4008af-5a30-4331-951f-bac1e74f79e4",
   "metadata": {},
   "outputs": [
    {
     "name": "stdout",
     "output_type": "stream",
     "text": [
      "Hi, Suren\n"
     ]
    }
   ],
   "source": [
    "name = \"Suren\"\n",
    "print(\"Hi,\", name)"
   ]
  },
  {
   "cell_type": "code",
   "execution_count": 2,
   "id": "85480802-54e1-40b1-bc2e-cdf36d96e134",
   "metadata": {},
   "outputs": [
    {
     "name": "stdout",
     "output_type": "stream",
     "text": [
      "Hi, Suren\n",
      "Hi, Suren\n",
      "Hi, Suren\n"
     ]
    }
   ],
   "source": [
    "print(\"Hi,\", name)\n",
    "print(\"Hi,\", name)\n",
    "print(\"Hi,\", name)"
   ]
  },
  {
   "cell_type": "code",
   "execution_count": 3,
   "id": "f317c99d-b3e2-4091-aa45-53cf8f96860a",
   "metadata": {},
   "outputs": [
    {
     "name": "stdout",
     "output_type": "stream",
     "text": [
      "Hi, Suren\n",
      "Hi, Suren\n",
      "Hi, Suren\n",
      "Hi, Suren\n",
      "Hi, Suren\n"
     ]
    }
   ],
   "source": [
    "times = 0\n",
    "while times < 5:\n",
    "    print(\"Hi,\", name)\n",
    "    times += 1"
   ]
  },
  {
   "cell_type": "code",
   "execution_count": 4,
   "id": "2cb00edf-4963-46b4-959d-9791481986ee",
   "metadata": {},
   "outputs": [
    {
     "name": "stdout",
     "output_type": "stream",
     "text": [
      "Hello, Suren\n",
      "Hello, Suren\n",
      "Hello, Suren\n",
      "Hello, Suren\n",
      "Hello, Suren\n"
     ]
    }
   ],
   "source": [
    "times = 0\n",
    "while times < 5:\n",
    "    print(\"Hello,\", name)\n",
    "    times += 1"
   ]
  },
  {
   "cell_type": "code",
   "execution_count": 5,
   "id": "b4a1bb79-d495-459a-8d92-924569589089",
   "metadata": {},
   "outputs": [
    {
     "name": "stdout",
     "output_type": "stream",
     "text": [
      "1\n",
      "2\n",
      "3\n"
     ]
    }
   ],
   "source": [
    "numbers = [1, 2, 3]\n",
    "for num in numbers:\n",
    "    print(num)"
   ]
  },
  {
   "cell_type": "code",
   "execution_count": 6,
   "id": "032f540a-50a7-4148-a296-ee4b3b767858",
   "metadata": {},
   "outputs": [
    {
     "name": "stdout",
     "output_type": "stream",
     "text": [
      "1\n",
      "2\n",
      "3\n"
     ]
    }
   ],
   "source": [
    "for num in numbers:\n",
    "    print(num)"
   ]
  },
  {
   "cell_type": "code",
   "execution_count": 7,
   "id": "cda15f05-085b-40e9-a7a3-b356057b48ac",
   "metadata": {},
   "outputs": [
    {
     "ename": "RuntimeError",
     "evalue": "dictionary changed size during iteration",
     "output_type": "error",
     "traceback": [
      "\u001b[0;31m---------------------------------------------------------------------------\u001b[0m",
      "\u001b[0;31mRuntimeError\u001b[0m                              Traceback (most recent call last)",
      "Cell \u001b[0;32mIn[7], line 6\u001b[0m\n\u001b[1;32m      1\u001b[0m data \u001b[38;5;241m=\u001b[39m {\n\u001b[1;32m      2\u001b[0m     \u001b[38;5;124m\"\u001b[39m\u001b[38;5;124mfoo\u001b[39m\u001b[38;5;124m\"\u001b[39m: \u001b[38;5;124m\"\u001b[39m\u001b[38;5;124mbar\u001b[39m\u001b[38;5;124m\"\u001b[39m,\n\u001b[1;32m      3\u001b[0m     \u001b[38;5;124m\"\u001b[39m\u001b[38;5;124mspam\u001b[39m\u001b[38;5;124m\"\u001b[39m: \u001b[38;5;124m\"\u001b[39m\u001b[38;5;124meggs\u001b[39m\u001b[38;5;124m\"\u001b[39m,\n\u001b[1;32m      4\u001b[0m }\n\u001b[0;32m----> 6\u001b[0m \u001b[38;5;28;01mfor\u001b[39;00m key \u001b[38;5;129;01min\u001b[39;00m data:\n\u001b[1;32m      7\u001b[0m     data\u001b[38;5;241m.\u001b[39mpop(key)\n",
      "\u001b[0;31mRuntimeError\u001b[0m: dictionary changed size during iteration"
     ]
    }
   ],
   "source": [
    "data = {\n",
    "    \"foo\": \"bar\",\n",
    "    \"spam\": \"eggs\",\n",
    "}\n",
    "\n",
    "for key in data:\n",
    "    data.pop(key)"
   ]
  },
  {
   "cell_type": "code",
   "execution_count": 8,
   "id": "a29aea38-63ec-43e0-b971-29629e566e4a",
   "metadata": {},
   "outputs": [
    {
     "name": "stdout",
     "output_type": "stream",
     "text": [
      "0\n",
      "1\n",
      "2\n",
      "3\n",
      "4\n"
     ]
    }
   ],
   "source": [
    "for i in range(5):\n",
    "    print(i)"
   ]
  },
  {
   "cell_type": "code",
   "execution_count": 9,
   "id": "75ea7adc-2d0d-40b8-98dd-dfec2a091eab",
   "metadata": {},
   "outputs": [
    {
     "name": "stdout",
     "output_type": "stream",
     "text": [
      "range(0, 5)\n"
     ]
    }
   ],
   "source": [
    "print(range(5))"
   ]
  },
  {
   "cell_type": "code",
   "execution_count": 10,
   "id": "ce2a7d08-cff0-4b3e-8cd6-2db4ffd07f0c",
   "metadata": {},
   "outputs": [
    {
     "name": "stdout",
     "output_type": "stream",
     "text": [
      "0\n",
      "1\n",
      "2\n",
      "3\n",
      "4\n",
      "5\n",
      "6\n",
      "7\n",
      "8\n"
     ]
    }
   ],
   "source": [
    "for i in range(1000000):\n",
    "    print(i)\n",
    "    if i > 7:\n",
    "        break"
   ]
  },
  {
   "cell_type": "code",
   "execution_count": 11,
   "id": "7c32565a-8860-475f-b1de-79a2bf508823",
   "metadata": {},
   "outputs": [
    {
     "name": "stdout",
     "output_type": "stream",
     "text": [
      "range(0, 7)\n"
     ]
    }
   ],
   "source": [
    "r = range(7)\n",
    "print(r)"
   ]
  },
  {
   "cell_type": "code",
   "execution_count": 12,
   "id": "099e6f5d-d6a0-47ef-a998-eab2fee951ec",
   "metadata": {},
   "outputs": [
    {
     "name": "stdout",
     "output_type": "stream",
     "text": [
      "0\n",
      "1\n",
      "2\n",
      "3\n",
      "4\n"
     ]
    }
   ],
   "source": [
    "for i in r:\n",
    "    print(i)\n",
    "    if i > 3:\n",
    "        break"
   ]
  },
  {
   "cell_type": "code",
   "execution_count": 13,
   "id": "b411ae09-2bc2-4402-822e-380a7a76f737",
   "metadata": {},
   "outputs": [
    {
     "name": "stdout",
     "output_type": "stream",
     "text": [
      "0\n",
      "1\n",
      "2\n",
      "3\n",
      "4\n",
      "5\n",
      "6\n"
     ]
    }
   ],
   "source": [
    "for i in r:\n",
    "    print(i)"
   ]
  },
  {
   "cell_type": "code",
   "execution_count": 14,
   "id": "8941e5a7-def2-4b12-be39-674f189c848a",
   "metadata": {},
   "outputs": [
    {
     "data": {
      "text/plain": [
       "range(0, 7)"
      ]
     },
     "execution_count": 14,
     "metadata": {},
     "output_type": "execute_result"
    }
   ],
   "source": [
    "r"
   ]
  },
  {
   "cell_type": "code",
   "execution_count": 15,
   "id": "68701c01-0537-4906-ab7b-fd6e707b7f8e",
   "metadata": {},
   "outputs": [
    {
     "ename": "TypeError",
     "evalue": "'range' object is not an iterator",
     "output_type": "error",
     "traceback": [
      "\u001b[0;31m---------------------------------------------------------------------------\u001b[0m",
      "\u001b[0;31mTypeError\u001b[0m                                 Traceback (most recent call last)",
      "Cell \u001b[0;32mIn[15], line 1\u001b[0m\n\u001b[0;32m----> 1\u001b[0m \u001b[38;5;28;43mnext\u001b[39;49m\u001b[43m(\u001b[49m\u001b[43mr\u001b[49m\u001b[43m)\u001b[49m\n",
      "\u001b[0;31mTypeError\u001b[0m: 'range' object is not an iterator"
     ]
    }
   ],
   "source": [
    "next(r)"
   ]
  },
  {
   "cell_type": "code",
   "execution_count": 16,
   "id": "d82eaf1b-cd5d-4da2-85f4-51ea31710e4e",
   "metadata": {},
   "outputs": [
    {
     "data": {
      "text/plain": [
       "<map at 0x103ec4f40>"
      ]
     },
     "execution_count": 16,
     "metadata": {},
     "output_type": "execute_result"
    }
   ],
   "source": [
    "g = map(lambda n: n * n, range(8))\n",
    "g"
   ]
  },
  {
   "cell_type": "code",
   "execution_count": 17,
   "id": "0fba56db-c216-47e4-b6ee-ae967c1dbc6d",
   "metadata": {},
   "outputs": [
    {
     "name": "stdout",
     "output_type": "stream",
     "text": [
      "0\n",
      "1\n",
      "4\n",
      "9\n"
     ]
    }
   ],
   "source": [
    "for i in g:\n",
    "    print(i)\n",
    "    if i > 6:\n",
    "        break"
   ]
  },
  {
   "cell_type": "code",
   "execution_count": 18,
   "id": "fc3bc7c6-aba0-4d4c-a3c9-e1cb08b71c27",
   "metadata": {},
   "outputs": [
    {
     "data": {
      "text/plain": [
       "16"
      ]
     },
     "execution_count": 18,
     "metadata": {},
     "output_type": "execute_result"
    }
   ],
   "source": [
    "next(g)"
   ]
  },
  {
   "cell_type": "code",
   "execution_count": 19,
   "id": "6f47409b-18a1-477f-8db2-6718d5f57ad0",
   "metadata": {},
   "outputs": [
    {
     "name": "stdout",
     "output_type": "stream",
     "text": [
      "25\n",
      "36\n",
      "49\n"
     ]
    }
   ],
   "source": [
    "for i in g:\n",
    "    print(i)"
   ]
  },
  {
   "cell_type": "code",
   "execution_count": 20,
   "id": "3c10bfe5-652e-4f22-a4c9-f6597c9d4db7",
   "metadata": {},
   "outputs": [
    {
     "data": {
      "text/plain": [
       "<map at 0x103ec4f40>"
      ]
     },
     "execution_count": 20,
     "metadata": {},
     "output_type": "execute_result"
    }
   ],
   "source": [
    "g"
   ]
  },
  {
   "cell_type": "code",
   "execution_count": 21,
   "id": "ff91ce8e-c3c7-409e-b093-f0165e7d7ea2",
   "metadata": {},
   "outputs": [],
   "source": [
    "for i in g:\n",
    "    print(i)"
   ]
  },
  {
   "cell_type": "code",
   "execution_count": 22,
   "id": "92931a1f-6e80-4935-8b1b-4f55c0a0044e",
   "metadata": {},
   "outputs": [
    {
     "ename": "StopIteration",
     "evalue": "",
     "output_type": "error",
     "traceback": [
      "\u001b[0;31m---------------------------------------------------------------------------\u001b[0m",
      "\u001b[0;31mStopIteration\u001b[0m                             Traceback (most recent call last)",
      "Cell \u001b[0;32mIn[22], line 1\u001b[0m\n\u001b[0;32m----> 1\u001b[0m \u001b[38;5;28;43mnext\u001b[39;49m\u001b[43m(\u001b[49m\u001b[43mg\u001b[49m\u001b[43m)\u001b[49m\n",
      "\u001b[0;31mStopIteration\u001b[0m: "
     ]
    }
   ],
   "source": [
    "next(g)"
   ]
  },
  {
   "cell_type": "code",
   "execution_count": 23,
   "id": "9acdfc4f-3bea-46c4-98e2-b716ac1bfd56",
   "metadata": {},
   "outputs": [],
   "source": [
    "file = \"file.txt\"\n",
    "\n",
    "with open(file, \"w\") as f:\n",
    "    f.writelines([\n",
    "        f\"line {i}\\n\"\n",
    "        for i in range(1, 101)\n",
    "    ])"
   ]
  },
  {
   "cell_type": "code",
   "execution_count": 24,
   "id": "a18f32be-2b6c-46c0-a88f-376b6ba6c22e",
   "metadata": {},
   "outputs": [
    {
     "name": "stdout",
     "output_type": "stream",
     "text": [
      "'line 1\\n'\n",
      "'line 2\\n'\n",
      "'line 3\\n'\n",
      "'line 4\\n'\n",
      "'line 5\\n'\n",
      "'line 6\\n'\n",
      "'line 7\\n'\n",
      "one more line:\n",
      "'line 8\\n'\n"
     ]
    }
   ],
   "source": [
    "with open(file, \"r\") as f:\n",
    "    for line in f:\n",
    "        print(repr(line))\n",
    "        if \"7\" in line:\n",
    "            break\n",
    "\n",
    "    print(\"one more line:\")\n",
    "    print(repr(next(f)))"
   ]
  },
  {
   "cell_type": "code",
   "execution_count": null,
   "id": "7615363b-beed-4b9f-9379-fa379db5b4d7",
   "metadata": {},
   "outputs": [],
   "source": []
  }
 ],
 "metadata": {
  "kernelspec": {
   "display_name": "Python 3 (ipykernel)",
   "language": "python",
   "name": "python3"
  },
  "language_info": {
   "codemirror_mode": {
    "name": "ipython",
    "version": 3
   },
   "file_extension": ".py",
   "mimetype": "text/x-python",
   "name": "python",
   "nbconvert_exporter": "python",
   "pygments_lexer": "ipython3",
   "version": "3.11.4"
  }
 },
 "nbformat": 4,
 "nbformat_minor": 5
}
