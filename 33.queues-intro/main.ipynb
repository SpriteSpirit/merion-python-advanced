{
 "cells": [
  {
   "cell_type": "markdown",
   "id": "46ed8236-60d6-4e45-aa96-401bf5d78024",
   "metadata": {},
   "source": [
    "## очереди\n",
    "#### LIFO - Last In, First Out\n",
    "#### FIFO - First In, First Out"
   ]
  },
  {
   "cell_type": "code",
   "execution_count": 1,
   "id": "42ded4b2-4e9e-414e-91df-4df871ba9805",
   "metadata": {},
   "outputs": [
    {
     "name": "stdout",
     "output_type": "stream",
     "text": [
      "[]\n"
     ]
    }
   ],
   "source": [
    "stack = []\n",
    "print(stack)"
   ]
  },
  {
   "cell_type": "code",
   "execution_count": 2,
   "id": "2794bfe6-d2e3-4538-afaa-7608fddb0bc1",
   "metadata": {},
   "outputs": [
    {
     "name": "stdout",
     "output_type": "stream",
     "text": [
      "['apple', 'orange', 'banana']\n"
     ]
    }
   ],
   "source": [
    "stack.append(\"apple\")\n",
    "stack.append(\"orange\")\n",
    "stack.append(\"banana\")\n",
    "print(stack)"
   ]
  },
  {
   "cell_type": "code",
   "execution_count": 3,
   "id": "f7e8b65b-c63c-4f95-a740-ab58ca8d0bb1",
   "metadata": {},
   "outputs": [
    {
     "data": {
      "text/plain": [
       "'banana'"
      ]
     },
     "execution_count": 3,
     "metadata": {},
     "output_type": "execute_result"
    }
   ],
   "source": [
    "stack.pop()"
   ]
  },
  {
   "cell_type": "code",
   "execution_count": 4,
   "id": "1fe625fa-a935-4750-8920-17b09ef881d9",
   "metadata": {},
   "outputs": [
    {
     "name": "stdout",
     "output_type": "stream",
     "text": [
      "['apple', 'orange', 'cherry']\n"
     ]
    }
   ],
   "source": [
    "stack.append(\"cherry\")\n",
    "print(stack)"
   ]
  },
  {
   "cell_type": "code",
   "execution_count": 5,
   "id": "7b5a4fd7-57fb-45d7-a2fe-7c6458dd32e6",
   "metadata": {},
   "outputs": [
    {
     "data": {
      "text/plain": [
       "'cherry'"
      ]
     },
     "execution_count": 5,
     "metadata": {},
     "output_type": "execute_result"
    }
   ],
   "source": [
    "stack.pop()"
   ]
  },
  {
   "cell_type": "code",
   "execution_count": 6,
   "id": "6ecad214-20a0-44da-a526-4928adf4fa84",
   "metadata": {},
   "outputs": [
    {
     "data": {
      "text/plain": [
       "'orange'"
      ]
     },
     "execution_count": 6,
     "metadata": {},
     "output_type": "execute_result"
    }
   ],
   "source": [
    "stack.pop()"
   ]
  },
  {
   "cell_type": "code",
   "execution_count": 7,
   "id": "42f2a5d2-b925-4de5-992f-969701851099",
   "metadata": {},
   "outputs": [
    {
     "data": {
      "text/plain": [
       "['apple']"
      ]
     },
     "execution_count": 7,
     "metadata": {},
     "output_type": "execute_result"
    }
   ],
   "source": [
    "stack"
   ]
  },
  {
   "cell_type": "code",
   "execution_count": 8,
   "id": "ea45f214-c90a-4922-ae60-ce9b7b2f6564",
   "metadata": {},
   "outputs": [
    {
     "data": {
      "text/plain": [
       "'apple'"
      ]
     },
     "execution_count": 8,
     "metadata": {},
     "output_type": "execute_result"
    }
   ],
   "source": [
    "stack.pop()"
   ]
  },
  {
   "cell_type": "code",
   "execution_count": 9,
   "id": "0dda24c0-3f50-4ebd-8aa2-0335674cf4ef",
   "metadata": {},
   "outputs": [
    {
     "data": {
      "text/plain": [
       "[]"
      ]
     },
     "execution_count": 9,
     "metadata": {},
     "output_type": "execute_result"
    }
   ],
   "source": [
    "stack"
   ]
  },
  {
   "cell_type": "code",
   "execution_count": 10,
   "id": "7f13201b-42de-4f16-8f7a-113a1f455a3a",
   "metadata": {},
   "outputs": [],
   "source": [
    "from collections import deque"
   ]
  },
  {
   "cell_type": "code",
   "execution_count": 11,
   "id": "c6bf68cb-215b-4b47-adf5-c236837b0d75",
   "metadata": {},
   "outputs": [
    {
     "name": "stdout",
     "output_type": "stream",
     "text": [
      "deque([])\n"
     ]
    }
   ],
   "source": [
    "q = deque()\n",
    "print(q)"
   ]
  },
  {
   "cell_type": "code",
   "execution_count": 12,
   "id": "44128eeb-c5b8-46bf-a5e3-37320b20f469",
   "metadata": {},
   "outputs": [
    {
     "name": "stdout",
     "output_type": "stream",
     "text": [
      "deque(['apple', 'banana'])\n"
     ]
    }
   ],
   "source": [
    "q.append(\"apple\")\n",
    "q.append(\"banana\")\n",
    "print(q)"
   ]
  },
  {
   "cell_type": "code",
   "execution_count": 13,
   "id": "f3acc8c6-9f89-4431-b89a-6d222fb1febc",
   "metadata": {},
   "outputs": [
    {
     "name": "stdout",
     "output_type": "stream",
     "text": [
      "deque(['apple', 'banana', 'cherry'])\n"
     ]
    }
   ],
   "source": [
    "q.append(\"cherry\")\n",
    "print(q)"
   ]
  },
  {
   "cell_type": "code",
   "execution_count": 14,
   "id": "ab26b713-94b8-4d9b-a5c6-df0476066fa6",
   "metadata": {},
   "outputs": [
    {
     "data": {
      "text/plain": [
       "'cherry'"
      ]
     },
     "execution_count": 14,
     "metadata": {},
     "output_type": "execute_result"
    }
   ],
   "source": [
    "q.pop()"
   ]
  },
  {
   "cell_type": "code",
   "execution_count": 15,
   "id": "197ab9f9-c248-4153-b0f2-ea0950ce0e67",
   "metadata": {},
   "outputs": [
    {
     "data": {
      "text/plain": [
       "'apple'"
      ]
     },
     "execution_count": 15,
     "metadata": {},
     "output_type": "execute_result"
    }
   ],
   "source": [
    "q.popleft()"
   ]
  },
  {
   "cell_type": "code",
   "execution_count": 16,
   "id": "56fd19e6-7051-4d86-9692-03c273b983a0",
   "metadata": {},
   "outputs": [
    {
     "name": "stdout",
     "output_type": "stream",
     "text": [
      "deque(['banana'])\n"
     ]
    }
   ],
   "source": [
    "print(q)"
   ]
  },
  {
   "cell_type": "code",
   "execution_count": 17,
   "id": "ede774d0-e69a-4e94-9e5a-94073057c97a",
   "metadata": {},
   "outputs": [
    {
     "name": "stdout",
     "output_type": "stream",
     "text": [
      "deque(['banana', 'orange'])\n"
     ]
    }
   ],
   "source": [
    "q.append(\"orange\")\n",
    "print(q)"
   ]
  },
  {
   "cell_type": "code",
   "execution_count": 18,
   "id": "b62cbf7f-3cfa-41ae-991a-32142a284dae",
   "metadata": {},
   "outputs": [
    {
     "data": {
      "text/plain": [
       "2"
      ]
     },
     "execution_count": 18,
     "metadata": {},
     "output_type": "execute_result"
    }
   ],
   "source": [
    "len(q)"
   ]
  },
  {
   "cell_type": "code",
   "execution_count": 19,
   "id": "c4aa1be0-816c-46c6-b713-ae8c82b432da",
   "metadata": {},
   "outputs": [
    {
     "data": {
      "text/plain": [
       "True"
      ]
     },
     "execution_count": 19,
     "metadata": {},
     "output_type": "execute_result"
    }
   ],
   "source": [
    "bool(q)"
   ]
  },
  {
   "cell_type": "code",
   "execution_count": 20,
   "id": "6a52899c-90f5-4bdd-8a69-e0d0d8ed11c4",
   "metadata": {},
   "outputs": [
    {
     "data": {
      "text/plain": [
       "'banana'"
      ]
     },
     "execution_count": 20,
     "metadata": {},
     "output_type": "execute_result"
    }
   ],
   "source": [
    "q.popleft()"
   ]
  },
  {
   "cell_type": "code",
   "execution_count": 21,
   "id": "27211805-c800-4313-86ca-caf87291f866",
   "metadata": {},
   "outputs": [
    {
     "data": {
      "text/plain": [
       "1"
      ]
     },
     "execution_count": 21,
     "metadata": {},
     "output_type": "execute_result"
    }
   ],
   "source": [
    "len(q)"
   ]
  },
  {
   "cell_type": "code",
   "execution_count": 22,
   "id": "8e5beb74-6551-4662-9db7-fef96c9fd0db",
   "metadata": {},
   "outputs": [
    {
     "data": {
      "text/plain": [
       "True"
      ]
     },
     "execution_count": 22,
     "metadata": {},
     "output_type": "execute_result"
    }
   ],
   "source": [
    "bool(q)"
   ]
  },
  {
   "cell_type": "code",
   "execution_count": 23,
   "id": "bf43d7ec-008d-412e-bcb4-61c0cd98795d",
   "metadata": {},
   "outputs": [
    {
     "data": {
      "text/plain": [
       "'orange'"
      ]
     },
     "execution_count": 23,
     "metadata": {},
     "output_type": "execute_result"
    }
   ],
   "source": [
    "q.popleft()"
   ]
  },
  {
   "cell_type": "code",
   "execution_count": 24,
   "id": "c0120f0b-a942-40a3-9091-cf88190197de",
   "metadata": {},
   "outputs": [
    {
     "name": "stdout",
     "output_type": "stream",
     "text": [
      "deque([])\n"
     ]
    }
   ],
   "source": [
    "print(q)"
   ]
  },
  {
   "cell_type": "code",
   "execution_count": 25,
   "id": "e89566f0-e057-4341-a795-913ff590f9d5",
   "metadata": {},
   "outputs": [
    {
     "data": {
      "text/plain": [
       "0"
      ]
     },
     "execution_count": 25,
     "metadata": {},
     "output_type": "execute_result"
    }
   ],
   "source": [
    "len(q)"
   ]
  },
  {
   "cell_type": "code",
   "execution_count": 26,
   "id": "ba3d91cd-75d6-4b4c-9254-7b2971e02d74",
   "metadata": {},
   "outputs": [
    {
     "data": {
      "text/plain": [
       "False"
      ]
     },
     "execution_count": 26,
     "metadata": {},
     "output_type": "execute_result"
    }
   ],
   "source": [
    "bool(q)"
   ]
  },
  {
   "cell_type": "code",
   "execution_count": 27,
   "id": "62f80a99-9f69-4e25-b1f2-8919926bc8f1",
   "metadata": {},
   "outputs": [
    {
     "name": "stdout",
     "output_type": "stream",
     "text": [
      "deque(['John', 'Sam'])\n"
     ]
    }
   ],
   "source": [
    "names = deque([\"John\", \"Sam\"])\n",
    "print(names)"
   ]
  },
  {
   "cell_type": "code",
   "execution_count": 28,
   "id": "8bf1e302-51a2-4044-964a-4ba87d5a0686",
   "metadata": {},
   "outputs": [
    {
     "name": "stdout",
     "output_type": "stream",
     "text": [
      "deque(['John', 'Sam', 'Nick'])\n",
      "John\n",
      "deque(['Sam', 'Nick'])\n"
     ]
    }
   ],
   "source": [
    "names.append(\"Nick\")\n",
    "print(names)\n",
    "print(names.popleft())\n",
    "print(names)"
   ]
  },
  {
   "cell_type": "code",
   "execution_count": 29,
   "id": "6b268439-a832-485b-b26d-ffe7d2ef4735",
   "metadata": {},
   "outputs": [
    {
     "name": "stdout",
     "output_type": "stream",
     "text": [
      "deque([], maxlen=3)\n"
     ]
    }
   ],
   "source": [
    "usernames = deque([], 3)\n",
    "print(usernames)"
   ]
  },
  {
   "cell_type": "code",
   "execution_count": 30,
   "id": "21786060-62cb-40c3-a254-d57c5a18b89c",
   "metadata": {},
   "outputs": [
    {
     "name": "stdout",
     "output_type": "stream",
     "text": [
      "deque(['bob', 'john', 'sam'], maxlen=3)\n"
     ]
    }
   ],
   "source": [
    "usernames.append(\"bob\")\n",
    "usernames.append(\"john\")\n",
    "usernames.append(\"sam\")\n",
    "print(usernames)"
   ]
  },
  {
   "cell_type": "code",
   "execution_count": 31,
   "id": "9f33f77d-b3a5-4a22-ab1c-e980cecf936d",
   "metadata": {},
   "outputs": [
    {
     "name": "stdout",
     "output_type": "stream",
     "text": [
      "deque(['john', 'sam', 'kate'], maxlen=3)\n"
     ]
    }
   ],
   "source": [
    "usernames.append(\"kate\")\n",
    "print(usernames)"
   ]
  },
  {
   "cell_type": "code",
   "execution_count": 32,
   "id": "54d99ff3-90b9-4f62-ba69-a19badf49f99",
   "metadata": {},
   "outputs": [
    {
     "name": "stdout",
     "output_type": "stream",
     "text": [
      "deque(['sam', 'kate', 'alice'], maxlen=3)\n"
     ]
    }
   ],
   "source": [
    "usernames.append(\"alice\")\n",
    "print(usernames)"
   ]
  },
  {
   "cell_type": "code",
   "execution_count": 33,
   "id": "034c84c7-e33e-42c2-859b-ddfe3fea473c",
   "metadata": {},
   "outputs": [
    {
     "data": {
      "text/plain": [
       "'sam'"
      ]
     },
     "execution_count": 33,
     "metadata": {},
     "output_type": "execute_result"
    }
   ],
   "source": [
    "usernames.popleft()"
   ]
  },
  {
   "cell_type": "code",
   "execution_count": 34,
   "id": "fef4c3d8-8694-4782-9ab7-bbe86299aca2",
   "metadata": {},
   "outputs": [
    {
     "name": "stdout",
     "output_type": "stream",
     "text": [
      "deque(['kate', 'alice'], maxlen=3)\n"
     ]
    }
   ],
   "source": [
    "print(usernames)"
   ]
  },
  {
   "cell_type": "code",
   "execution_count": 35,
   "id": "b7ce4914-c2dd-48f8-8035-f5cb30a2d666",
   "metadata": {},
   "outputs": [
    {
     "name": "stdout",
     "output_type": "stream",
     "text": [
      "deque(['kate', 'alice', 'jake'], maxlen=3)\n"
     ]
    }
   ],
   "source": [
    "usernames.append(\"jake\")\n",
    "print(usernames)"
   ]
  },
  {
   "cell_type": "code",
   "execution_count": 36,
   "id": "71818353-fe09-4c86-b3fd-35e0e32fa158",
   "metadata": {},
   "outputs": [],
   "source": [
    "tasks = deque([], 100)"
   ]
  },
  {
   "cell_type": "code",
   "execution_count": 37,
   "id": "408d339a-d4ca-487a-b035-e7e0f1a5822e",
   "metadata": {},
   "outputs": [],
   "source": [
    "def create_tasks(n_tasks: int):\n",
    "    for i in range(1, n_tasks + 1):\n",
    "        tasks.append({\"id\": i, \"name\": f\"task_{i:03}\"})"
   ]
  },
  {
   "cell_type": "code",
   "execution_count": 38,
   "id": "f7089fdd-3a2a-4352-8a03-ecb5bbcd1710",
   "metadata": {},
   "outputs": [
    {
     "data": {
      "text/plain": [
       "deque([], maxlen=100)"
      ]
     },
     "execution_count": 38,
     "metadata": {},
     "output_type": "execute_result"
    }
   ],
   "source": [
    "tasks"
   ]
  },
  {
   "cell_type": "code",
   "execution_count": 39,
   "id": "5c8fe308-8800-4c81-8a05-8137c12739ee",
   "metadata": {},
   "outputs": [
    {
     "name": "stdout",
     "output_type": "stream",
     "text": [
      "deque([{'id': 1, 'name': 'task_001'}, {'id': 2, 'name': 'task_002'}, {'id': 3, 'name': 'task_003'}, {'id': 4, 'name': 'task_004'}, {'id': 5, 'name': 'task_005'}], maxlen=100)\n"
     ]
    }
   ],
   "source": [
    "create_tasks(5)\n",
    "print(tasks)"
   ]
  },
  {
   "cell_type": "code",
   "execution_count": 40,
   "id": "a243e8ac-e0a4-4256-81e3-95882cdcc85d",
   "metadata": {},
   "outputs": [
    {
     "name": "stdout",
     "output_type": "stream",
     "text": [
      "deque([{'id': 1, 'name': 'task_001'}, {'id': 2, 'name': 'task_002'}, {'id': 3, 'name': 'task_003'}, {'id': 4, 'name': 'task_004'}, {'id': 5, 'name': 'task_005'}, {'id': 1, 'name': 'task_001'}, {'id': 2, 'name': 'task_002'}, {'id': 3, 'name': 'task_003'}, {'id': 4, 'name': 'task_004'}, {'id': 5, 'name': 'task_005'}, {'id': 6, 'name': 'task_006'}, {'id': 7, 'name': 'task_007'}], maxlen=100)\n"
     ]
    }
   ],
   "source": [
    "create_tasks(7)\n",
    "print(tasks)"
   ]
  },
  {
   "cell_type": "code",
   "execution_count": 41,
   "id": "18a55aad-4616-478e-bd2e-ac8023e3f655",
   "metadata": {},
   "outputs": [],
   "source": [
    "def process_task(task):\n",
    "    print(\"processing task\", task)\n",
    "\n",
    "\n",
    "def consume_tasks():\n",
    "    while tasks:\n",
    "        task = tasks.popleft()\n",
    "        process_task(task)"
   ]
  },
  {
   "cell_type": "code",
   "execution_count": 42,
   "id": "463a5001-03b5-483f-a8e7-a95c0a5a48b2",
   "metadata": {},
   "outputs": [
    {
     "name": "stdout",
     "output_type": "stream",
     "text": [
      "processing task {'id': 1, 'name': 'task_001'}\n",
      "processing task {'id': 2, 'name': 'task_002'}\n",
      "processing task {'id': 3, 'name': 'task_003'}\n",
      "processing task {'id': 4, 'name': 'task_004'}\n",
      "processing task {'id': 5, 'name': 'task_005'}\n",
      "processing task {'id': 1, 'name': 'task_001'}\n",
      "processing task {'id': 2, 'name': 'task_002'}\n",
      "processing task {'id': 3, 'name': 'task_003'}\n",
      "processing task {'id': 4, 'name': 'task_004'}\n",
      "processing task {'id': 5, 'name': 'task_005'}\n",
      "processing task {'id': 6, 'name': 'task_006'}\n",
      "processing task {'id': 7, 'name': 'task_007'}\n"
     ]
    }
   ],
   "source": [
    "consume_tasks()"
   ]
  },
  {
   "cell_type": "code",
   "execution_count": null,
   "id": "4f2f8351-081c-4d13-bef7-91f11a93793c",
   "metadata": {},
   "outputs": [],
   "source": []
  }
 ],
 "metadata": {
  "kernelspec": {
   "display_name": "Python 3 (ipykernel)",
   "language": "python",
   "name": "python3"
  },
  "language_info": {
   "codemirror_mode": {
    "name": "ipython",
    "version": 3
   },
   "file_extension": ".py",
   "mimetype": "text/x-python",
   "name": "python",
   "nbconvert_exporter": "python",
   "pygments_lexer": "ipython3",
   "version": "3.11.4"
  }
 },
 "nbformat": 4,
 "nbformat_minor": 5
}
