{
 "cells": [
  {
   "cell_type": "code",
   "execution_count": 1,
   "metadata": {},
   "outputs": [],
   "source": [
    "class Animal:\n",
    "\n",
    "    def get_sound(self):\n",
    "        return \"\"\n",
    "        \n",
    "    def get_breed(self):\n",
    "        return \"\""
   ]
  },
  {
   "cell_type": "code",
   "execution_count": 2,
   "metadata": {},
   "outputs": [],
   "source": [
    "class Cat(Animal):\n",
    "    def __init__(self, name):\n",
    "        self.name = name"
   ]
  },
  {
   "cell_type": "code",
   "execution_count": 3,
   "metadata": {},
   "outputs": [
    {
     "name": "stdout",
     "output_type": "stream",
     "text": [
      "<__main__.Cat object at 0x1051c1850>\n",
      "Ash\n"
     ]
    }
   ],
   "source": [
    "cat = Cat(\"Ash\")\n",
    "print(cat)\n",
    "print(cat.name)"
   ]
  },
  {
   "cell_type": "code",
   "execution_count": 4,
   "metadata": {},
   "outputs": [
    {
     "name": "stdout",
     "output_type": "stream",
     "text": [
      "True\n"
     ]
    }
   ],
   "source": [
    "print(isinstance(cat, Cat))"
   ]
  },
  {
   "cell_type": "code",
   "execution_count": 5,
   "metadata": {},
   "outputs": [
    {
     "name": "stdout",
     "output_type": "stream",
     "text": [
      "True\n"
     ]
    }
   ],
   "source": [
    "print(isinstance(cat, Animal))"
   ]
  },
  {
   "cell_type": "code",
   "execution_count": 6,
   "metadata": {},
   "outputs": [
    {
     "data": {
      "text/plain": [
       "[__main__.Cat, __main__.Animal, object]"
      ]
     },
     "execution_count": 6,
     "metadata": {},
     "output_type": "execute_result"
    }
   ],
   "source": [
    "Cat.mro()"
   ]
  },
  {
   "cell_type": "code",
   "execution_count": 7,
   "metadata": {},
   "outputs": [
    {
     "name": "stdout",
     "output_type": "stream",
     "text": [
      "True\n"
     ]
    }
   ],
   "source": [
    "print(issubclass(Cat, Animal))"
   ]
  },
  {
   "cell_type": "code",
   "execution_count": 8,
   "metadata": {},
   "outputs": [
    {
     "data": {
      "text/plain": [
       "''"
      ]
     },
     "execution_count": 8,
     "metadata": {},
     "output_type": "execute_result"
    }
   ],
   "source": [
    "cat.get_breed()"
   ]
  },
  {
   "cell_type": "code",
   "execution_count": 9,
   "metadata": {},
   "outputs": [
    {
     "data": {
      "text/plain": [
       "''"
      ]
     },
     "execution_count": 9,
     "metadata": {},
     "output_type": "execute_result"
    }
   ],
   "source": [
    "cat.get_sound()"
   ]
  },
  {
   "cell_type": "code",
   "execution_count": 10,
   "metadata": {},
   "outputs": [],
   "source": [
    "from abc import ABC, abstractmethod\n",
    "# from abc import ABCMeta\n",
    "\n",
    "\n",
    "# class Animal(metaclass=ABCMeta):\n",
    "class Animal(ABC):\n",
    "\n",
    "    @abstractmethod\n",
    "    def get_sound(self):\n",
    "        \"\"\"\n",
    "        Animal sound\n",
    "        \"\"\"\n",
    "\n",
    "    @abstractmethod\n",
    "    def get_breed(self):\n",
    "        pass"
   ]
  },
  {
   "cell_type": "code",
   "execution_count": 11,
   "metadata": {},
   "outputs": [
    {
     "data": {
      "text/plain": [
       "[__main__.Animal, abc.ABC, object]"
      ]
     },
     "execution_count": 11,
     "metadata": {},
     "output_type": "execute_result"
    }
   ],
   "source": [
    "Animal.mro()"
   ]
  },
  {
   "cell_type": "code",
   "execution_count": 12,
   "metadata": {},
   "outputs": [],
   "source": [
    "class Cat(Animal):\n",
    "    def __init__(self, name):\n",
    "        self.name = name"
   ]
  },
  {
   "cell_type": "code",
   "execution_count": 13,
   "metadata": {},
   "outputs": [
    {
     "ename": "TypeError",
     "evalue": "Can't instantiate abstract class Cat with abstract methods get_breed, get_sound",
     "output_type": "error",
     "traceback": [
      "\u001b[0;31m---------------------------------------------------------------------------\u001b[0m",
      "\u001b[0;31mTypeError\u001b[0m                                 Traceback (most recent call last)",
      "Cell \u001b[0;32mIn[13], line 1\u001b[0m\n\u001b[0;32m----> 1\u001b[0m cat \u001b[38;5;241m=\u001b[39m \u001b[43mCat\u001b[49m\u001b[43m(\u001b[49m\u001b[38;5;124;43m\"\u001b[39;49m\u001b[38;5;124;43mAsh\u001b[39;49m\u001b[38;5;124;43m\"\u001b[39;49m\u001b[43m)\u001b[49m\n",
      "\u001b[0;31mTypeError\u001b[0m: Can't instantiate abstract class Cat with abstract methods get_breed, get_sound"
     ]
    }
   ],
   "source": [
    "cat = Cat(\"Ash\")"
   ]
  },
  {
   "cell_type": "code",
   "execution_count": 14,
   "metadata": {},
   "outputs": [],
   "source": [
    "class OrientalCat(Cat):\n",
    "    def get_breed(self):\n",
    "        return \"Oriental Cat\"\n",
    "\n",
    "    def get_sound(self):\n",
    "        return \"meow\""
   ]
  },
  {
   "cell_type": "code",
   "execution_count": 15,
   "metadata": {},
   "outputs": [
    {
     "name": "stdout",
     "output_type": "stream",
     "text": [
      "<__main__.OrientalCat object at 0x1056af910>\n",
      "<class '__main__.OrientalCat'>\n",
      "Ash\n"
     ]
    }
   ],
   "source": [
    "cat = OrientalCat(\"Ash\")\n",
    "print(cat)\n",
    "print(type(cat))\n",
    "print(cat.name)"
   ]
  },
  {
   "cell_type": "code",
   "execution_count": 16,
   "metadata": {},
   "outputs": [
    {
     "data": {
      "text/plain": [
       "'Oriental Cat'"
      ]
     },
     "execution_count": 16,
     "metadata": {},
     "output_type": "execute_result"
    }
   ],
   "source": [
    "cat.get_breed()"
   ]
  },
  {
   "cell_type": "code",
   "execution_count": 17,
   "metadata": {},
   "outputs": [
    {
     "data": {
      "text/plain": [
       "'meow'"
      ]
     },
     "execution_count": 17,
     "metadata": {},
     "output_type": "execute_result"
    }
   ],
   "source": [
    "cat.get_sound()"
   ]
  },
  {
   "cell_type": "code",
   "execution_count": 18,
   "metadata": {},
   "outputs": [],
   "source": [
    "from abc import ABC, abstractmethod\n",
    "\n",
    "class Animal(ABC):\n",
    "\n",
    "    @abstractmethod\n",
    "    def get_sound(self):\n",
    "        \"\"\"\n",
    "        Animal sound\n",
    "        \"\"\"\n",
    "    \n",
    "    @classmethod\n",
    "    @abstractmethod\n",
    "    def get_breed(self):\n",
    "        pass"
   ]
  },
  {
   "cell_type": "code",
   "execution_count": 19,
   "metadata": {},
   "outputs": [],
   "source": [
    "class Cat(Animal):\n",
    "    \n",
    "    def __init__(self, name):\n",
    "        self.name = name\n",
    "\n",
    "    def get_sound(self):\n",
    "        return \"meow\""
   ]
  },
  {
   "cell_type": "code",
   "execution_count": 20,
   "metadata": {},
   "outputs": [
    {
     "ename": "TypeError",
     "evalue": "Can't instantiate abstract class Cat with abstract method get_breed",
     "output_type": "error",
     "traceback": [
      "\u001b[0;31m---------------------------------------------------------------------------\u001b[0m",
      "\u001b[0;31mTypeError\u001b[0m                                 Traceback (most recent call last)",
      "Cell \u001b[0;32mIn[20], line 1\u001b[0m\n\u001b[0;32m----> 1\u001b[0m cat \u001b[38;5;241m=\u001b[39m \u001b[43mCat\u001b[49m\u001b[43m(\u001b[49m\u001b[38;5;124;43m\"\u001b[39;49m\u001b[38;5;124;43mabc\u001b[39;49m\u001b[38;5;124;43m\"\u001b[39;49m\u001b[43m)\u001b[49m\n",
      "\u001b[0;31mTypeError\u001b[0m: Can't instantiate abstract class Cat with abstract method get_breed"
     ]
    }
   ],
   "source": [
    "cat = Cat(\"abc\")"
   ]
  },
  {
   "cell_type": "code",
   "execution_count": 21,
   "metadata": {},
   "outputs": [],
   "source": [
    "class OrientalCat(Cat):\n",
    "    @classmethod\n",
    "    def get_breed(cls):\n",
    "        return \"Oriental Cat\"\n"
   ]
  },
  {
   "cell_type": "code",
   "execution_count": 22,
   "metadata": {},
   "outputs": [
    {
     "name": "stdout",
     "output_type": "stream",
     "text": [
      "<__main__.OrientalCat object at 0x105718150>\n",
      "<class '__main__.OrientalCat'>\n",
      "Ash\n"
     ]
    }
   ],
   "source": [
    "cat = OrientalCat(\"Ash\")\n",
    "print(cat)\n",
    "print(type(cat))\n",
    "print(cat.name)"
   ]
  },
  {
   "cell_type": "code",
   "execution_count": 23,
   "metadata": {},
   "outputs": [
    {
     "data": {
      "text/plain": [
       "'Oriental Cat'"
      ]
     },
     "execution_count": 23,
     "metadata": {},
     "output_type": "execute_result"
    }
   ],
   "source": [
    "cat.get_breed()"
   ]
  },
  {
   "cell_type": "code",
   "execution_count": 24,
   "metadata": {},
   "outputs": [
    {
     "data": {
      "text/plain": [
       "'Oriental Cat'"
      ]
     },
     "execution_count": 24,
     "metadata": {},
     "output_type": "execute_result"
    }
   ],
   "source": [
    "OrientalCat.get_breed()"
   ]
  },
  {
   "cell_type": "code",
   "execution_count": 25,
   "metadata": {},
   "outputs": [
    {
     "data": {
      "text/plain": [
       "'meow'"
      ]
     },
     "execution_count": 25,
     "metadata": {},
     "output_type": "execute_result"
    }
   ],
   "source": [
    "cat.get_sound()"
   ]
  },
  {
   "cell_type": "code",
   "execution_count": 26,
   "metadata": {},
   "outputs": [],
   "source": [
    "class Dog:\n",
    "    def __init__(self, name, breed):\n",
    "        self.name = name\n",
    "        self.breed = breed\n",
    "\n",
    "    def get_sound(self):\n",
    "        return \"bow-wow-wow\"\n",
    "\n",
    "    def get_breed(self):\n",
    "        return self.breed"
   ]
  },
  {
   "cell_type": "code",
   "execution_count": 27,
   "metadata": {},
   "outputs": [
    {
     "name": "stdout",
     "output_type": "stream",
     "text": [
      "False\n"
     ]
    }
   ],
   "source": [
    "print(issubclass(Dog, Animal))"
   ]
  },
  {
   "cell_type": "code",
   "execution_count": 28,
   "metadata": {},
   "outputs": [
    {
     "data": {
      "text/plain": [
       "[__main__.Dog, object]"
      ]
     },
     "execution_count": 28,
     "metadata": {},
     "output_type": "execute_result"
    }
   ],
   "source": [
    "Dog.mro()"
   ]
  },
  {
   "cell_type": "code",
   "execution_count": 29,
   "metadata": {},
   "outputs": [],
   "source": [
    "from abc import ABC, abstractmethod\n",
    "# from abc import ABCMeta\n",
    "\n",
    "\n",
    "# class Animal(metaclass=ABCMeta):\n",
    "class Animal(ABC):\n",
    "\n",
    "    @abstractmethod\n",
    "    def get_sound(self):\n",
    "        \"\"\"\n",
    "        Animal sound\n",
    "        \"\"\"\n",
    "\n",
    "    @abstractmethod\n",
    "    def get_breed(self):\n",
    "        pass\n",
    "\n",
    "    @classmethod\n",
    "    def __subclasshook__(cls, other):\n",
    "        if cls is Animal and all(hasattr(other, name) for name in [\"get_sound\", \"get_breed\"]):\n",
    "            return True\n",
    "        return NotImplemented"
   ]
  },
  {
   "cell_type": "code",
   "execution_count": 30,
   "metadata": {},
   "outputs": [
    {
     "name": "stdout",
     "output_type": "stream",
     "text": [
      "True\n"
     ]
    }
   ],
   "source": [
    "print(issubclass(Dog, Animal))"
   ]
  },
  {
   "cell_type": "code",
   "execution_count": 31,
   "metadata": {},
   "outputs": [],
   "source": [
    "class EmailSender(ABC):\n",
    "\n",
    "    @abstractmethod\n",
    "    def send_email(self, recipient, mail):\n",
    "        pass"
   ]
  },
  {
   "cell_type": "code",
   "execution_count": 32,
   "metadata": {},
   "outputs": [
    {
     "data": {
      "text/plain": [
       "[__main__.EmailSender, abc.ABC, object]"
      ]
     },
     "execution_count": 32,
     "metadata": {},
     "output_type": "execute_result"
    }
   ],
   "source": [
    "EmailSender.mro()"
   ]
  },
  {
   "cell_type": "code",
   "execution_count": 35,
   "metadata": {},
   "outputs": [],
   "source": [
    "from time import time\n",
    "\n",
    "class SmtpEmailSender(EmailSender):\n",
    "    def __init__(self, host, port):\n",
    "        self.host = host\n",
    "        self.port = port\n",
    "        \n",
    "    def send_email(self, recipient, mail):\n",
    "        print(\"sending email\", repr(mail), \"by smtp to\", recipient)\n",
    "\n",
    "\n",
    "class FileEmailSender(EmailSender):\n",
    "    def send_email(self, recipient, mail):\n",
    "        print(\"saving email\", repr(mail), \"as file for\", recipient)\n",
    "        with open(f\"email-{recipient}-{time()}.txt\", \"w\") as f:\n",
    "            f.write(f\"TO: {recipient}\\n\\n\")\n",
    "            f.write(mail)"
   ]
  },
  {
   "cell_type": "code",
   "execution_count": 36,
   "metadata": {},
   "outputs": [
    {
     "name": "stdout",
     "output_type": "stream",
     "text": [
      "sending email \"Hi, there!\\nWhat's up?\\n\" by smtp to john@example.com\n"
     ]
    }
   ],
   "source": [
    "smtp_email_sender = SmtpEmailSender(\"1.1.1.1\", \"1050\")\n",
    "smtp_email_sender.send_email(\"john@example.com\", \"Hi, there!\\nWhat's up?\\n\")"
   ]
  },
  {
   "cell_type": "code",
   "execution_count": 37,
   "metadata": {},
   "outputs": [
    {
     "name": "stdout",
     "output_type": "stream",
     "text": [
      "saving email \"Hi, there!\\nWhat's up?\\n\" as file for john@example.com\n"
     ]
    }
   ],
   "source": [
    "file_email_sender = FileEmailSender()\n",
    "file_email_sender.send_email(\"john@example.com\", \"Hi, there!\\nWhat's up?\\n\")"
   ]
  },
  {
   "cell_type": "code",
   "execution_count": 38,
   "metadata": {},
   "outputs": [],
   "source": [
    "class NotificationSystem:\n",
    "    def __init__(self, email_sender: EmailSender):\n",
    "        self.email_sender = email_sender\n",
    "\n",
    "    def send_alert(self, to, subject):\n",
    "        print(\"seding ALERT to\", to)\n",
    "        alert_message = (\n",
    "            f\"[ALERT {subject}]\\n\\n\"\n",
    "            \"Hi!\\n\"\n",
    "            \"We've noticed unusual activity. Please take measures!\\n\"\n",
    "        )\n",
    "        self.email_sender.send_email(to, alert_message)"
   ]
  },
  {
   "cell_type": "code",
   "execution_count": 39,
   "metadata": {},
   "outputs": [
    {
     "name": "stdout",
     "output_type": "stream",
     "text": [
      "<__main__.NotificationSystem object at 0x105190e90>\n",
      "<__main__.FileEmailSender object at 0x10571a490>\n"
     ]
    }
   ],
   "source": [
    "notification_system = NotificationSystem(email_sender=file_email_sender)\n",
    "print(notification_system)\n",
    "print(notification_system.email_sender)"
   ]
  },
  {
   "cell_type": "code",
   "execution_count": 40,
   "metadata": {},
   "outputs": [
    {
     "name": "stdout",
     "output_type": "stream",
     "text": [
      "seding ALERT to sam@example.com\n",
      "saving email \"[ALERT security breach]\\n\\nHi!\\nWe've noticed unusual activity. Please take measures!\\n\" as file for sam@example.com\n"
     ]
    }
   ],
   "source": [
    "notification_system.send_alert(\"sam@example.com\", \"security breach\")"
   ]
  },
  {
   "cell_type": "code",
   "execution_count": 41,
   "metadata": {},
   "outputs": [
    {
     "name": "stdout",
     "output_type": "stream",
     "text": [
      "seding ALERT to sam@example.com\n",
      "sending email \"[ALERT security breach]\\n\\nHi!\\nWe've noticed unusual activity. Please take measures!\\n\" by smtp to sam@example.com\n"
     ]
    }
   ],
   "source": [
    "notification_system = NotificationSystem(email_sender=smtp_email_sender)\n",
    "notification_system.send_alert(\"sam@example.com\", \"security breach\")"
   ]
  },
  {
   "cell_type": "code",
   "execution_count": 42,
   "metadata": {},
   "outputs": [],
   "source": [
    "class NotificationSystem:\n",
    "    def __init__(self, email_sender: EmailSender):\n",
    "        if not isinstance(email_sender, EmailSender):\n",
    "            raise ValueError(f\"email_sender has to be of type {EmailSender}, got {type(email_sender)}\")\n",
    "        self.email_sender = email_sender\n",
    "\n",
    "    def send_alert(self, to, subject):\n",
    "        print(\"seding ALERT to\", to)\n",
    "        alert_message = (\n",
    "            f\"[ALERT {subject}]\\n\\n\"\n",
    "            \"Hi!\\n\"\n",
    "            \"We've noticed unusual activity. Please take measures!\\n\"\n",
    "        )\n",
    "        self.email_sender.send_email(to, alert_message)"
   ]
  },
  {
   "cell_type": "code",
   "execution_count": 43,
   "metadata": {},
   "outputs": [
    {
     "name": "stdout",
     "output_type": "stream",
     "text": [
      "seding ALERT to sam@example.com\n",
      "sending email \"[ALERT security breach]\\n\\nHi!\\nWe've noticed unusual activity. Please take measures!\\n\" by smtp to sam@example.com\n"
     ]
    }
   ],
   "source": [
    "notification_system = NotificationSystem(email_sender=smtp_email_sender)\n",
    "notification_system.send_alert(\"sam@example.com\", \"security breach\")"
   ]
  },
  {
   "cell_type": "code",
   "execution_count": null,
   "metadata": {},
   "outputs": [],
   "source": []
  }
 ],
 "metadata": {
  "kernelspec": {
   "display_name": "Python 3 (ipykernel)",
   "language": "python",
   "name": "python3"
  },
  "language_info": {
   "codemirror_mode": {
    "name": "ipython",
    "version": 3
   },
   "file_extension": ".py",
   "mimetype": "text/x-python",
   "name": "python",
   "nbconvert_exporter": "python",
   "pygments_lexer": "ipython3",
   "version": "3.11.4"
  }
 },
 "nbformat": 4,
 "nbformat_minor": 4
}
