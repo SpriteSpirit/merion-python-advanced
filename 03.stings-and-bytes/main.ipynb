{
 "cells": [
  {
   "cell_type": "markdown",
   "id": "de3bba86-595c-428e-aca2-ba6573c8dde0",
   "metadata": {},
   "source": [
    "## Python strings and bytes\n",
    "- [unicode] strings\n",
    "- bytes"
   ]
  },
  {
   "cell_type": "code",
   "execution_count": 1,
   "id": "4dbfccd1-f6ab-463c-9846-618cc881b2fe",
   "metadata": {},
   "outputs": [
    {
     "name": "stdout",
     "output_type": "stream",
     "text": [
      "John\n",
      "'John'\n",
      "<class 'str'>\n"
     ]
    }
   ],
   "source": [
    "name = \"John\"\n",
    "print(name)\n",
    "print(repr(name))\n",
    "print(type(name))"
   ]
  },
  {
   "cell_type": "code",
   "execution_count": 2,
   "id": "626659b8-e2d5-4e96-81ee-d3f7aca2409c",
   "metadata": {},
   "outputs": [
    {
     "name": "stdout",
     "output_type": "stream",
     "text": [
      "b'pic-abc-qwerty'\n",
      "b'pic-abc-qwerty'\n",
      "<class 'bytes'>\n"
     ]
    }
   ],
   "source": [
    "data = b\"pic-abc-qwerty\"\n",
    "print(data)\n",
    "print(repr(data))\n",
    "print(type(data))"
   ]
  },
  {
   "cell_type": "code",
   "execution_count": 3,
   "id": "b15cd6a1-1f52-4cbc-8dec-1b9c0bd59f61",
   "metadata": {},
   "outputs": [
    {
     "ename": "TypeError",
     "evalue": "can't concat str to bytes",
     "output_type": "error",
     "traceback": [
      "\u001b[0;31m---------------------------------------------------------------------------\u001b[0m",
      "\u001b[0;31mTypeError\u001b[0m                                 Traceback (most recent call last)",
      "Cell \u001b[0;32mIn[3], line 1\u001b[0m\n\u001b[0;32m----> 1\u001b[0m \u001b[38;5;124;43mb\u001b[39;49m\u001b[38;5;124;43m\"\u001b[39;49m\u001b[38;5;124;43mfoo\u001b[39;49m\u001b[38;5;124;43m\"\u001b[39;49m\u001b[43m \u001b[49m\u001b[38;5;241;43m+\u001b[39;49m\u001b[43m \u001b[49m\u001b[38;5;124;43m\"\u001b[39;49m\u001b[38;5;124;43mbar\u001b[39;49m\u001b[38;5;124;43m\"\u001b[39;49m\n",
      "\u001b[0;31mTypeError\u001b[0m: can't concat str to bytes"
     ]
    }
   ],
   "source": [
    "b\"foo\" + \"bar\""
   ]
  },
  {
   "cell_type": "code",
   "execution_count": 4,
   "id": "02c40258-cd0d-4e0c-a39d-07d2cc21bffa",
   "metadata": {},
   "outputs": [
    {
     "ename": "TypeError",
     "evalue": "can only concatenate str (not \"bytes\") to str",
     "output_type": "error",
     "traceback": [
      "\u001b[0;31m---------------------------------------------------------------------------\u001b[0m",
      "\u001b[0;31mTypeError\u001b[0m                                 Traceback (most recent call last)",
      "Cell \u001b[0;32mIn[4], line 1\u001b[0m\n\u001b[0;32m----> 1\u001b[0m \u001b[38;5;124;43m\"\u001b[39;49m\u001b[38;5;124;43mfoo\u001b[39;49m\u001b[38;5;124;43m\"\u001b[39;49m\u001b[43m \u001b[49m\u001b[38;5;241;43m+\u001b[39;49m\u001b[43m \u001b[49m\u001b[38;5;124;43mb\u001b[39;49m\u001b[38;5;124;43m\"\u001b[39;49m\u001b[38;5;124;43mbar\u001b[39;49m\u001b[38;5;124;43m\"\u001b[39;49m\n",
      "\u001b[0;31mTypeError\u001b[0m: can only concatenate str (not \"bytes\") to str"
     ]
    }
   ],
   "source": [
    "\"foo\" + b\"bar\""
   ]
  },
  {
   "cell_type": "code",
   "execution_count": 5,
   "id": "f613239c-cf8e-4ec1-9d77-cf8294a81353",
   "metadata": {},
   "outputs": [
    {
     "data": {
      "text/plain": [
       "b'pic-abc-qwerty'"
      ]
     },
     "execution_count": 5,
     "metadata": {},
     "output_type": "execute_result"
    }
   ],
   "source": [
    "data"
   ]
  },
  {
   "cell_type": "code",
   "execution_count": 6,
   "id": "68524908-6c5e-4f3f-aaf7-a9bd9e6a2d9a",
   "metadata": {},
   "outputs": [
    {
     "data": {
      "text/plain": [
       "'pic-abc-qwerty'"
      ]
     },
     "execution_count": 6,
     "metadata": {},
     "output_type": "execute_result"
    }
   ],
   "source": [
    "data.decode()"
   ]
  },
  {
   "cell_type": "code",
   "execution_count": 7,
   "id": "6bb39d29-26c6-462f-85ec-c3ead7058269",
   "metadata": {},
   "outputs": [
    {
     "data": {
      "text/plain": [
       "'John Smith'"
      ]
     },
     "execution_count": 7,
     "metadata": {},
     "output_type": "execute_result"
    }
   ],
   "source": [
    "b\"John \".decode() + \"Smith\""
   ]
  },
  {
   "cell_type": "code",
   "execution_count": 8,
   "id": "b095e018-74f4-42b4-9ff0-adf963dcc5a0",
   "metadata": {},
   "outputs": [
    {
     "data": {
      "text/plain": [
       "b'\\xabc'"
      ]
     },
     "execution_count": 8,
     "metadata": {},
     "output_type": "execute_result"
    }
   ],
   "source": [
    "b\"\\xabc\""
   ]
  },
  {
   "cell_type": "code",
   "execution_count": 9,
   "id": "a48e22cf-698f-4f15-b5f1-abfadb6bb0c0",
   "metadata": {},
   "outputs": [
    {
     "ename": "UnicodeDecodeError",
     "evalue": "'utf-8' codec can't decode byte 0xab in position 0: invalid start byte",
     "output_type": "error",
     "traceback": [
      "\u001b[0;31m---------------------------------------------------------------------------\u001b[0m",
      "\u001b[0;31mUnicodeDecodeError\u001b[0m                        Traceback (most recent call last)",
      "Cell \u001b[0;32mIn[9], line 1\u001b[0m\n\u001b[0;32m----> 1\u001b[0m \u001b[38;5;124;43mb\u001b[39;49m\u001b[38;5;124;43m\"\u001b[39;49m\u001b[38;5;130;43;01m\\xab\u001b[39;49;00m\u001b[38;5;124;43mc\u001b[39;49m\u001b[38;5;124;43m\"\u001b[39;49m\u001b[38;5;241;43m.\u001b[39;49m\u001b[43mdecode\u001b[49m\u001b[43m(\u001b[49m\u001b[43m)\u001b[49m\n",
      "\u001b[0;31mUnicodeDecodeError\u001b[0m: 'utf-8' codec can't decode byte 0xab in position 0: invalid start byte"
     ]
    }
   ],
   "source": [
    "b\"\\xabc\".decode()"
   ]
  },
  {
   "cell_type": "markdown",
   "id": "bc8cef91-0b4a-4da2-87e9-fc44fc17e355",
   "metadata": {},
   "source": [
    "| Unicode code point | character | UTF-8 (hex.) |       name      |\n",
    "|:------------------:|:---------:|:------------:|:---------------:|\n",
    "|       U+00B1       |     ±     |     c2 b1    | PLUS-MINUS SIGN |"
   ]
  },
  {
   "cell_type": "code",
   "execution_count": 10,
   "id": "85988195-143a-4f87-868f-70f1706b282d",
   "metadata": {},
   "outputs": [],
   "source": [
    "char = b\"\\xc2\\xb1\""
   ]
  },
  {
   "cell_type": "code",
   "execution_count": 11,
   "id": "be88132c-b3fd-4bab-ab55-8ae9dcc5d467",
   "metadata": {},
   "outputs": [
    {
     "data": {
      "text/plain": [
       "2"
      ]
     },
     "execution_count": 11,
     "metadata": {},
     "output_type": "execute_result"
    }
   ],
   "source": [
    "len(char)"
   ]
  },
  {
   "cell_type": "code",
   "execution_count": 12,
   "id": "6744e859-6311-4dd2-81d7-c3af8738d400",
   "metadata": {},
   "outputs": [
    {
     "data": {
      "text/plain": [
       "'±'"
      ]
     },
     "execution_count": 12,
     "metadata": {},
     "output_type": "execute_result"
    }
   ],
   "source": [
    "char.decode()"
   ]
  },
  {
   "cell_type": "markdown",
   "id": "5f02474c-e8a6-4255-bf39-0222128ee7e5",
   "metadata": {},
   "source": [
    "### Windows cp-1251\n",
    "\n",
    "| DEC | HEX | Symbol | Description                |\n",
    "|:---:|:---:|:------:|----------------------------|\n",
    "| 222 |  DE |    Ю   | Cyrillic capital letter Yu |"
   ]
  },
  {
   "cell_type": "code",
   "execution_count": 13,
   "id": "0c296477-1056-42a4-b6da-79f76f4dabf5",
   "metadata": {},
   "outputs": [
    {
     "name": "stdout",
     "output_type": "stream",
     "text": [
      "b'\\xde'\n",
      "1\n"
     ]
    }
   ],
   "source": [
    "yu = b\"\\xde\"\n",
    "print(yu)\n",
    "print(len(yu))"
   ]
  },
  {
   "cell_type": "code",
   "execution_count": 14,
   "id": "ec1480ca-54da-4502-b2e4-3689b9139154",
   "metadata": {},
   "outputs": [
    {
     "ename": "UnicodeDecodeError",
     "evalue": "'utf-8' codec can't decode byte 0xde in position 0: unexpected end of data",
     "output_type": "error",
     "traceback": [
      "\u001b[0;31m---------------------------------------------------------------------------\u001b[0m",
      "\u001b[0;31mUnicodeDecodeError\u001b[0m                        Traceback (most recent call last)",
      "Cell \u001b[0;32mIn[14], line 1\u001b[0m\n\u001b[0;32m----> 1\u001b[0m \u001b[43myu\u001b[49m\u001b[38;5;241;43m.\u001b[39;49m\u001b[43mdecode\u001b[49m\u001b[43m(\u001b[49m\u001b[43m)\u001b[49m\n",
      "\u001b[0;31mUnicodeDecodeError\u001b[0m: 'utf-8' codec can't decode byte 0xde in position 0: unexpected end of data"
     ]
    }
   ],
   "source": [
    "yu.decode()"
   ]
  },
  {
   "cell_type": "code",
   "execution_count": 15,
   "id": "b77ba275-6e8c-4890-a099-fdb26f608ae1",
   "metadata": {},
   "outputs": [
    {
     "data": {
      "text/plain": [
       "'Ю'"
      ]
     },
     "execution_count": 15,
     "metadata": {},
     "output_type": "execute_result"
    }
   ],
   "source": [
    "yu.decode(\"cp1251\")"
   ]
  },
  {
   "cell_type": "code",
   "execution_count": 16,
   "id": "dd8c6bad-2e49-48ac-9617-f3665b881c72",
   "metadata": {},
   "outputs": [
    {
     "data": {
      "text/plain": [
       "b'\\xd0\\xae'"
      ]
     },
     "execution_count": 16,
     "metadata": {},
     "output_type": "execute_result"
    }
   ],
   "source": [
    "\"Ю\".encode()"
   ]
  },
  {
   "cell_type": "code",
   "execution_count": 17,
   "id": "2f209b96-fcf5-4256-b143-f227be20dc7c",
   "metadata": {},
   "outputs": [
    {
     "data": {
      "text/plain": [
       "b'\\xde'"
      ]
     },
     "execution_count": 17,
     "metadata": {},
     "output_type": "execute_result"
    }
   ],
   "source": [
    "\"Ю\".encode(\"cp1251\")"
   ]
  },
  {
   "cell_type": "markdown",
   "id": "f552c039-6189-437b-98e7-faae2a3a3dce",
   "metadata": {},
   "source": [
    "| character |     UTF-16 (hex.)     |       name      |\n",
    "|:---------:|:---------------------:|:---------------:|\n",
    "|     Ю     |     0x042E (042e)     | CYRILLIC CAPITAL LETTER YU |\n",
    "|     .     |     0x002E (002e)     | FULL STOP |"
   ]
  },
  {
   "cell_type": "code",
   "execution_count": 18,
   "id": "c9fe2eb3-d151-4faa-88e1-956ce0ae1e03",
   "metadata": {},
   "outputs": [
    {
     "data": {
      "text/plain": [
       "b'\\xff\\xfe.\\x04'"
      ]
     },
     "execution_count": 18,
     "metadata": {},
     "output_type": "execute_result"
    }
   ],
   "source": [
    "\"Ю\".encode(\"utf-16\")"
   ]
  },
  {
   "cell_type": "code",
   "execution_count": 19,
   "id": "a8838016-caba-4829-958c-0269ae24bc4a",
   "metadata": {},
   "outputs": [
    {
     "data": {
      "text/plain": [
       "'Ю'"
      ]
     },
     "execution_count": 19,
     "metadata": {},
     "output_type": "execute_result"
    }
   ],
   "source": [
    "b'\\xff\\xfe.\\x04'.decode(\"utf-16\")"
   ]
  },
  {
   "cell_type": "code",
   "execution_count": 20,
   "id": "e68b1290-091f-4504-9e9b-7f56507fdd96",
   "metadata": {},
   "outputs": [
    {
     "data": {
      "text/plain": [
       "'Ю'"
      ]
     },
     "execution_count": 20,
     "metadata": {},
     "output_type": "execute_result"
    }
   ],
   "source": [
    "u\"\\u042e\""
   ]
  },
  {
   "cell_type": "code",
   "execution_count": 21,
   "id": "def72e20-fa72-4ada-a4e5-a8d108f4f604",
   "metadata": {},
   "outputs": [
    {
     "data": {
      "text/plain": [
       "'Ю'"
      ]
     },
     "execution_count": 21,
     "metadata": {},
     "output_type": "execute_result"
    }
   ],
   "source": [
    "\"\\u042e\""
   ]
  },
  {
   "cell_type": "code",
   "execution_count": 22,
   "id": "8a4d3b82-47db-4418-b4d7-1e71f93636e8",
   "metadata": {},
   "outputs": [
    {
     "name": "stdout",
     "output_type": "stream",
     "text": [
      "Hello, Сурен!\n"
     ]
    }
   ],
   "source": [
    "line = \"Hello, Сурен!\"\n",
    "print(line)"
   ]
  },
  {
   "cell_type": "code",
   "execution_count": 23,
   "id": "1190a64c-bf8a-45aa-8a94-ebfb02f03271",
   "metadata": {},
   "outputs": [
    {
     "name": "stdout",
     "output_type": "stream",
     "text": [
      "b'Hello, \\xd0\\xa1\\xd1\\x83\\xd1\\x80\\xd0\\xb5\\xd0\\xbd!'\n"
     ]
    }
   ],
   "source": [
    "line_bytes = line.encode(\"utf-8\")\n",
    "print(line_bytes)"
   ]
  },
  {
   "cell_type": "code",
   "execution_count": 24,
   "id": "f870dce6-4be0-4bc2-90fc-ea57569a236a",
   "metadata": {},
   "outputs": [
    {
     "data": {
      "text/plain": [
       "'Hello, Сурен!'"
      ]
     },
     "execution_count": 24,
     "metadata": {},
     "output_type": "execute_result"
    }
   ],
   "source": [
    "line_bytes.decode(\"utf-8\")"
   ]
  },
  {
   "cell_type": "code",
   "execution_count": 25,
   "id": "48107285-7adf-43e1-a5d6-ada305b6ce9e",
   "metadata": {},
   "outputs": [
    {
     "ename": "UnicodeDecodeError",
     "evalue": "'ascii' codec can't decode byte 0xd0 in position 7: ordinal not in range(128)",
     "output_type": "error",
     "traceback": [
      "\u001b[0;31m---------------------------------------------------------------------------\u001b[0m",
      "\u001b[0;31mUnicodeDecodeError\u001b[0m                        Traceback (most recent call last)",
      "Cell \u001b[0;32mIn[25], line 1\u001b[0m\n\u001b[0;32m----> 1\u001b[0m \u001b[43mline_bytes\u001b[49m\u001b[38;5;241;43m.\u001b[39;49m\u001b[43mdecode\u001b[49m\u001b[43m(\u001b[49m\u001b[38;5;124;43m\"\u001b[39;49m\u001b[38;5;124;43mascii\u001b[39;49m\u001b[38;5;124;43m\"\u001b[39;49m\u001b[43m)\u001b[49m\n",
      "\u001b[0;31mUnicodeDecodeError\u001b[0m: 'ascii' codec can't decode byte 0xd0 in position 7: ordinal not in range(128)"
     ]
    }
   ],
   "source": [
    "line_bytes.decode(\"ascii\")"
   ]
  },
  {
   "cell_type": "code",
   "execution_count": 26,
   "id": "503227e2-092f-48bb-942c-8c8319e94c52",
   "metadata": {},
   "outputs": [
    {
     "data": {
      "text/plain": [
       "'Hello, ����������!'"
      ]
     },
     "execution_count": 26,
     "metadata": {},
     "output_type": "execute_result"
    }
   ],
   "source": [
    "line_bytes.decode(\"ascii\", \"replace\")"
   ]
  },
  {
   "cell_type": "code",
   "execution_count": 27,
   "id": "4769aff0-5f31-4910-90a2-a2f11d6ef750",
   "metadata": {},
   "outputs": [
    {
     "data": {
      "text/plain": [
       "'Hello, \\\\xd0\\\\xa1\\\\xd1\\\\x83\\\\xd1\\\\x80\\\\xd0\\\\xb5\\\\xd0\\\\xbd!'"
      ]
     },
     "execution_count": 27,
     "metadata": {},
     "output_type": "execute_result"
    }
   ],
   "source": [
    "line_bytes.decode(\"ascii\", \"backslashreplace\")"
   ]
  },
  {
   "cell_type": "code",
   "execution_count": 28,
   "id": "8cf78b60-6a3b-4455-8910-ba78690fe8cc",
   "metadata": {},
   "outputs": [
    {
     "data": {
      "text/plain": [
       "'Hello, !'"
      ]
     },
     "execution_count": 28,
     "metadata": {},
     "output_type": "execute_result"
    }
   ],
   "source": [
    "line_bytes.decode(\"ascii\", \"ignore\")"
   ]
  },
  {
   "cell_type": "code",
   "execution_count": null,
   "id": "3f5510f6-cc31-48e7-8234-0590f1dbb767",
   "metadata": {},
   "outputs": [],
   "source": []
  }
 ],
 "metadata": {
  "kernelspec": {
   "display_name": "Python 3 (ipykernel)",
   "language": "python",
   "name": "python3"
  },
  "language_info": {
   "codemirror_mode": {
    "name": "ipython",
    "version": 3
   },
   "file_extension": ".py",
   "mimetype": "text/x-python",
   "name": "python",
   "nbconvert_exporter": "python",
   "pygments_lexer": "ipython3",
   "version": "3.11.4"
  }
 },
 "nbformat": 4,
 "nbformat_minor": 5
}
