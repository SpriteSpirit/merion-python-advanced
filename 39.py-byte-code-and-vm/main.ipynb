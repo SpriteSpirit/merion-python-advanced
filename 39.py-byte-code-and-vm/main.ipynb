{
 "cells": [
  {
   "cell_type": "markdown",
   "id": "4f1029b3-5e3d-45fb-8390-1a7beefe0880",
   "metadata": {},
   "source": [
    "## Python\n",
    "### - Virtual Machine\n",
    "### - Byte Code"
   ]
  },
  {
   "cell_type": "code",
   "execution_count": 1,
   "id": "b11f472b-6205-410d-9c6f-62ba5fc28224",
   "metadata": {},
   "outputs": [],
   "source": [
    "def power(num, e=2):\n",
    "    return num ** e"
   ]
  },
  {
   "cell_type": "code",
   "execution_count": 2,
   "id": "4e03eb81-461b-4be3-9b4f-b1dfee0dc645",
   "metadata": {},
   "outputs": [
    {
     "data": {
      "text/plain": [
       "1024"
      ]
     },
     "execution_count": 2,
     "metadata": {},
     "output_type": "execute_result"
    }
   ],
   "source": [
    "power(2, 10)"
   ]
  },
  {
   "cell_type": "code",
   "execution_count": 3,
   "id": "9af975c3-5468-4ded-b9bf-1b28ca581971",
   "metadata": {},
   "outputs": [
    {
     "data": {
      "text/plain": [
       "<code object power at 0x105a82ce0, file \"/var/folders/r0/f247yh3j4djfkghshd5yf41m0000gn/T/ipykernel_53253/2412228478.py\", line 1>"
      ]
     },
     "execution_count": 3,
     "metadata": {},
     "output_type": "execute_result"
    }
   ],
   "source": [
    "power.__code__"
   ]
  },
  {
   "cell_type": "code",
   "execution_count": 4,
   "id": "78a58e12-4b67-4c1a-a4c5-722c642569d2",
   "metadata": {},
   "outputs": [
    {
     "data": {
      "text/plain": [
       "('num', 'e')"
      ]
     },
     "execution_count": 4,
     "metadata": {},
     "output_type": "execute_result"
    }
   ],
   "source": [
    "power.__code__.co_varnames"
   ]
  },
  {
   "cell_type": "code",
   "execution_count": 5,
   "id": "298d6650-16ce-4c83-80fc-b4cea74d7be1",
   "metadata": {},
   "outputs": [
    {
     "data": {
      "text/plain": [
       "'power'"
      ]
     },
     "execution_count": 5,
     "metadata": {},
     "output_type": "execute_result"
    }
   ],
   "source": [
    "power.__code__.co_name"
   ]
  },
  {
   "cell_type": "code",
   "execution_count": 6,
   "id": "bee1bdf6-4a10-4331-9c28-0f0e370be2b6",
   "metadata": {},
   "outputs": [
    {
     "data": {
      "text/plain": [
       "'power'"
      ]
     },
     "execution_count": 6,
     "metadata": {},
     "output_type": "execute_result"
    }
   ],
   "source": [
    "power.__name__"
   ]
  },
  {
   "cell_type": "code",
   "execution_count": 7,
   "id": "d2fe34d1-541d-40d6-b325-1486ca3d0338",
   "metadata": {},
   "outputs": [
    {
     "data": {
      "text/plain": [
       "(None,)"
      ]
     },
     "execution_count": 7,
     "metadata": {},
     "output_type": "execute_result"
    }
   ],
   "source": [
    "power.__code__.co_consts"
   ]
  },
  {
   "cell_type": "code",
   "execution_count": 8,
   "id": "b0020be7-6015-487f-b8f3-cecc00e03434",
   "metadata": {},
   "outputs": [],
   "source": [
    "def square(num):\n",
    "    p = 2\n",
    "    return num ** p"
   ]
  },
  {
   "cell_type": "code",
   "execution_count": 9,
   "id": "cd096695-ac9a-48a7-8319-148a53c2f290",
   "metadata": {},
   "outputs": [
    {
     "data": {
      "text/plain": [
       "(None, 2)"
      ]
     },
     "execution_count": 9,
     "metadata": {},
     "output_type": "execute_result"
    }
   ],
   "source": [
    "square.__code__.co_consts"
   ]
  },
  {
   "cell_type": "code",
   "execution_count": 10,
   "id": "148ad027-e5b6-4223-93d9-14b3e1c48d97",
   "metadata": {},
   "outputs": [
    {
     "data": {
      "text/plain": [
       "b'\\x97\\x00d\\x01}\\x01|\\x00|\\x01z\\x08\\x00\\x00S\\x00'"
      ]
     },
     "execution_count": 10,
     "metadata": {},
     "output_type": "execute_result"
    }
   ],
   "source": [
    "square.__code__.co_code"
   ]
  },
  {
   "cell_type": "code",
   "execution_count": 11,
   "id": "5415bce0-b57d-4355-8ab5-0ef3740747a6",
   "metadata": {},
   "outputs": [
    {
     "data": {
      "text/plain": [
       "b'\\x97\\x00|\\x00|\\x01z\\x08\\x00\\x00S\\x00'"
      ]
     },
     "execution_count": 11,
     "metadata": {},
     "output_type": "execute_result"
    }
   ],
   "source": [
    "power.__code__.co_code"
   ]
  },
  {
   "cell_type": "code",
   "execution_count": 12,
   "id": "97253d7a-66ca-418c-825a-b1ee7973515a",
   "metadata": {},
   "outputs": [],
   "source": [
    "import dis"
   ]
  },
  {
   "cell_type": "code",
   "execution_count": 13,
   "id": "dfb59d83-685b-4d5c-94d6-fce6f1c041c0",
   "metadata": {},
   "outputs": [
    {
     "name": "stdout",
     "output_type": "stream",
     "text": [
      "  1           0 RESUME                   0\n",
      "\n",
      "  2           2 LOAD_FAST                0 (num)\n",
      "              4 LOAD_FAST                1 (e)\n",
      "              6 BINARY_OP                8 (**)\n",
      "             10 RETURN_VALUE\n"
     ]
    }
   ],
   "source": [
    "dis.dis(power)"
   ]
  },
  {
   "cell_type": "code",
   "execution_count": 14,
   "id": "908a4738-2fbd-465f-9296-a5b47eeaa80a",
   "metadata": {},
   "outputs": [
    {
     "name": "stdout",
     "output_type": "stream",
     "text": [
      "  1           0 RESUME                   0\n",
      "\n",
      "  2           2 LOAD_CONST               1 (2)\n",
      "              4 STORE_FAST               1 (p)\n",
      "\n",
      "  3           6 LOAD_FAST                0 (num)\n",
      "              8 LOAD_FAST                1 (p)\n",
      "             10 BINARY_OP                8 (**)\n",
      "             14 RETURN_VALUE\n"
     ]
    }
   ],
   "source": [
    "dis.dis(square)"
   ]
  },
  {
   "cell_type": "code",
   "execution_count": 15,
   "id": "c4708af3-14b5-4be9-9fae-e45352fe193a",
   "metadata": {},
   "outputs": [],
   "source": [
    "def square(x):\n",
    "    return x ** 2"
   ]
  },
  {
   "cell_type": "code",
   "execution_count": 16,
   "id": "0d30cfde-9ad8-4a68-952c-29b48b8a25fe",
   "metadata": {},
   "outputs": [
    {
     "name": "stdout",
     "output_type": "stream",
     "text": [
      "  1           0 RESUME                   0\n",
      "\n",
      "  2           2 LOAD_FAST                0 (x)\n",
      "              4 LOAD_CONST               1 (2)\n",
      "              6 BINARY_OP                8 (**)\n",
      "             10 RETURN_VALUE\n"
     ]
    }
   ],
   "source": [
    "dis.dis(square)"
   ]
  },
  {
   "cell_type": "code",
   "execution_count": 17,
   "id": "8a9f1467-741a-4d10-92e4-3ace7b5829ac",
   "metadata": {},
   "outputs": [],
   "source": [
    "def square(x):\n",
    "    return x * x"
   ]
  },
  {
   "cell_type": "code",
   "execution_count": 18,
   "id": "ee23a98f-d551-4aa7-9a8d-27208ef9d991",
   "metadata": {},
   "outputs": [
    {
     "name": "stdout",
     "output_type": "stream",
     "text": [
      "  1           0 RESUME                   0\n",
      "\n",
      "  2           2 LOAD_FAST                0 (x)\n",
      "              4 LOAD_FAST                0 (x)\n",
      "              6 BINARY_OP                5 (*)\n",
      "             10 RETURN_VALUE\n"
     ]
    }
   ],
   "source": [
    "dis.dis(square)"
   ]
  },
  {
   "cell_type": "code",
   "execution_count": 19,
   "id": "a252ca74-210b-4629-bbc4-82db918b34c4",
   "metadata": {},
   "outputs": [
    {
     "name": "stdout",
     "output_type": "stream",
     "text": [
      "  0           0 RESUME                   0\n",
      "\n",
      "  1           2 LOAD_NAME                0 (x)\n",
      "              4 LOAD_CONST               0 (2)\n",
      "              6 BINARY_OP                8 (**)\n",
      "             10 RETURN_VALUE\n"
     ]
    }
   ],
   "source": [
    "dis.dis('x ** 2')"
   ]
  },
  {
   "cell_type": "code",
   "execution_count": 20,
   "id": "fc5f9781-93a6-4b2b-8d3d-c9ef687390a8",
   "metadata": {},
   "outputs": [
    {
     "name": "stdout",
     "output_type": "stream",
     "text": [
      "  0           0 RESUME                   0\n",
      "\n",
      "  1           2 PUSH_NULL\n",
      "              4 LOAD_NAME                0 (square)\n",
      "              6 LOAD_CONST               0 (3)\n",
      "              8 PRECALL                  1\n",
      "             12 CALL                     1\n",
      "             22 RETURN_VALUE\n"
     ]
    }
   ],
   "source": [
    "dis.dis('square(3)')"
   ]
  },
  {
   "cell_type": "code",
   "execution_count": 21,
   "id": "328158d1-a605-4f6c-872f-aebd83f33ea8",
   "metadata": {},
   "outputs": [
    {
     "name": "stdout",
     "output_type": "stream",
     "text": [
      "(1, 2, None, ['foo'])\n"
     ]
    }
   ],
   "source": [
    "items = (1, 2, None, ['foo'])\n",
    "print(items)"
   ]
  },
  {
   "cell_type": "code",
   "execution_count": 22,
   "id": "93f0fb5c-eb07-491e-891a-d2df2a30643b",
   "metadata": {},
   "outputs": [
    {
     "name": "stdout",
     "output_type": "stream",
     "text": [
      "(1, 2, None, ['foo', 'bar'])\n"
     ]
    }
   ],
   "source": [
    "items[3].append('bar')\n",
    "print(items)"
   ]
  },
  {
   "cell_type": "code",
   "execution_count": 23,
   "id": "0a09eed3-3896-41ba-abb6-229ff944de33",
   "metadata": {},
   "outputs": [
    {
     "name": "stdout",
     "output_type": "stream",
     "text": [
      "(1, 2, None, ['foo', 'baz'])\n"
     ]
    }
   ],
   "source": [
    "items[3][1] = 'baz'\n",
    "print(items)"
   ]
  },
  {
   "cell_type": "code",
   "execution_count": 24,
   "id": "ca13df30-93e6-4cd8-ac70-3fa81672fdd2",
   "metadata": {},
   "outputs": [
    {
     "name": "stdout",
     "output_type": "stream",
     "text": [
      "  0           0 RESUME                   0\n",
      "\n",
      "  1           2 LOAD_CONST               0 ('bar')\n",
      "              4 LOAD_NAME                0 (items)\n",
      "              6 LOAD_CONST               1 (3)\n",
      "              8 BINARY_SUBSCR\n",
      "             18 LOAD_CONST               2 (1)\n",
      "             20 STORE_SUBSCR\n",
      "             24 LOAD_CONST               3 (None)\n",
      "             26 RETURN_VALUE\n"
     ]
    }
   ],
   "source": [
    "dis.dis(\"items[3][1] = 'bar'\")"
   ]
  },
  {
   "cell_type": "code",
   "execution_count": 25,
   "id": "b536440b-4e85-4413-a446-c210e1fcb474",
   "metadata": {},
   "outputs": [
    {
     "data": {
      "text/plain": [
       "['foo', 'baz']"
      ]
     },
     "execution_count": 25,
     "metadata": {},
     "output_type": "execute_result"
    }
   ],
   "source": [
    "items[3]"
   ]
  },
  {
   "cell_type": "code",
   "execution_count": 26,
   "id": "9e2c68f1-20bf-4535-8854-10fecbfa6f42",
   "metadata": {},
   "outputs": [
    {
     "ename": "TypeError",
     "evalue": "'tuple' object does not support item assignment",
     "output_type": "error",
     "traceback": [
      "\u001b[0;31m---------------------------------------------------------------------------\u001b[0m",
      "\u001b[0;31mTypeError\u001b[0m                                 Traceback (most recent call last)",
      "Cell \u001b[0;32mIn[26], line 1\u001b[0m\n\u001b[0;32m----> 1\u001b[0m \u001b[43mitems\u001b[49m\u001b[43m[\u001b[49m\u001b[38;5;241;43m3\u001b[39;49m\u001b[43m]\u001b[49m \u001b[38;5;241m+\u001b[39m\u001b[38;5;241m=\u001b[39m [\u001b[38;5;124m\"\u001b[39m\u001b[38;5;124mspam\u001b[39m\u001b[38;5;124m\"\u001b[39m]\n",
      "\u001b[0;31mTypeError\u001b[0m: 'tuple' object does not support item assignment"
     ]
    }
   ],
   "source": [
    "items[3] += [\"spam\"]"
   ]
  },
  {
   "cell_type": "code",
   "execution_count": 27,
   "id": "5dce1608-7883-4cc4-8d08-6a63ce26cae2",
   "metadata": {},
   "outputs": [
    {
     "name": "stdout",
     "output_type": "stream",
     "text": [
      "(1, 2, None, ['foo', 'baz', 'spam'])\n"
     ]
    }
   ],
   "source": [
    "print(items)"
   ]
  },
  {
   "cell_type": "code",
   "execution_count": 28,
   "id": "6bcf32e7-ec50-4a08-ad12-77ac4a03a6e4",
   "metadata": {},
   "outputs": [
    {
     "data": {
      "text/plain": [
       "['foo', 'baz', 'spam']"
      ]
     },
     "execution_count": 28,
     "metadata": {},
     "output_type": "execute_result"
    }
   ],
   "source": [
    "items[3]"
   ]
  },
  {
   "cell_type": "code",
   "execution_count": 29,
   "id": "71c8f527-e748-4244-b079-666d2869b758",
   "metadata": {},
   "outputs": [
    {
     "name": "stdout",
     "output_type": "stream",
     "text": [
      "  0           0 RESUME                   0\n",
      "\n",
      "  1           2 LOAD_NAME                0 (items)\n",
      "              4 LOAD_CONST               0 (3)\n",
      "              6 COPY                     2\n",
      "              8 COPY                     2\n",
      "             10 BINARY_SUBSCR\n",
      "             20 LOAD_CONST               1 ('spam')\n",
      "             22 BUILD_LIST               1\n",
      "             24 BINARY_OP               13 (+=)\n",
      "             28 SWAP                     3\n",
      "             30 SWAP                     2\n",
      "             32 STORE_SUBSCR\n",
      "             36 LOAD_CONST               2 (None)\n",
      "             38 RETURN_VALUE\n"
     ]
    }
   ],
   "source": [
    "dis.dis('items[3] += [\"spam\"]')"
   ]
  },
  {
   "cell_type": "code",
   "execution_count": 30,
   "id": "68969409-3de5-4e10-ac07-cd22d1b828fb",
   "metadata": {},
   "outputs": [
    {
     "name": "stdout",
     "output_type": "stream",
     "text": [
      "['foo', 'baz', 'spam']\n"
     ]
    }
   ],
   "source": [
    "words = items[3]\n",
    "print(words)"
   ]
  },
  {
   "cell_type": "code",
   "execution_count": 31,
   "id": "a0b6e933-ccf0-41d2-aaee-781d14d7f73f",
   "metadata": {},
   "outputs": [
    {
     "name": "stdout",
     "output_type": "stream",
     "text": [
      "['foo', 'baz', 'spam', 'eggs']\n"
     ]
    }
   ],
   "source": [
    "words += [\"eggs\"]\n",
    "print(words)"
   ]
  },
  {
   "cell_type": "code",
   "execution_count": 32,
   "id": "e1ea3765-47e1-44ae-8d56-24946bdd35a0",
   "metadata": {},
   "outputs": [
    {
     "name": "stdout",
     "output_type": "stream",
     "text": [
      "(1, 2, None, ['foo', 'baz', 'spam', 'eggs'])\n"
     ]
    }
   ],
   "source": [
    "print(items)"
   ]
  },
  {
   "cell_type": "code",
   "execution_count": 33,
   "id": "150061b9-e319-4b66-b695-b60d3d708acc",
   "metadata": {},
   "outputs": [
    {
     "name": "stdout",
     "output_type": "stream",
     "text": [
      "  0           0 RESUME                   0\n",
      "\n",
      "  1           2 LOAD_NAME                0 (words)\n",
      "              4 LOAD_CONST               0 ('eggs')\n",
      "              6 BUILD_LIST               1\n",
      "              8 BINARY_OP               13 (+=)\n",
      "             12 STORE_NAME               0 (words)\n",
      "             14 LOAD_CONST               1 (None)\n",
      "             16 RETURN_VALUE\n"
     ]
    }
   ],
   "source": [
    "dis.dis('words += [\"eggs\"]')"
   ]
  },
  {
   "cell_type": "code",
   "execution_count": null,
   "id": "7a23011d-8045-4150-ac8c-87558813319a",
   "metadata": {},
   "outputs": [],
   "source": []
  }
 ],
 "metadata": {
  "kernelspec": {
   "display_name": "Python 3 (ipykernel)",
   "language": "python",
   "name": "python3"
  },
  "language_info": {
   "codemirror_mode": {
    "name": "ipython",
    "version": 3
   },
   "file_extension": ".py",
   "mimetype": "text/x-python",
   "name": "python",
   "nbconvert_exporter": "python",
   "pygments_lexer": "ipython3",
   "version": "3.11.4"
  }
 },
 "nbformat": 4,
 "nbformat_minor": 5
}
